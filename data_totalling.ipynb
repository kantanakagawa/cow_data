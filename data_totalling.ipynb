{
 "cells": [
  {
   "cell_type": "code",
   "execution_count": 1,
   "id": "217c5a82-a152-4da2-8d91-4977dedfdc77",
   "metadata": {},
   "outputs": [
    {
     "name": "stderr",
     "output_type": "stream",
     "text": [
      "/opt/anaconda3/lib/python3.9/site-packages/statsmodels/tsa/base/tsa_model.py:7: FutureWarning: pandas.Int64Index is deprecated and will be removed from pandas in a future version. Use pandas.Index with the appropriate dtype instead.\n",
      "  from pandas import (to_datetime, Int64Index, DatetimeIndex, Period,\n",
      "/opt/anaconda3/lib/python3.9/site-packages/statsmodels/tsa/base/tsa_model.py:7: FutureWarning: pandas.Float64Index is deprecated and will be removed from pandas in a future version. Use pandas.Index with the appropriate dtype instead.\n",
      "  from pandas import (to_datetime, Int64Index, DatetimeIndex, Period,\n"
     ]
    }
   ],
   "source": [
    "from time import sleep\n",
    "import seaborn as sns\n",
    "import pandas as pd\n",
    "import numpy as np\n",
    "import matplotlib as mpl\n",
    "import matplotlib.pyplot as plt\n",
    "import pickle\n",
    "import statsmodels.formula.api as smf\n",
    "import statsmodels.api as sm\n",
    "%matplotlib inline\n",
    "sns.set()"
   ]
  },
  {
   "cell_type": "code",
   "execution_count": 2,
   "id": "5abb2163-0be2-4693-b669-72215372c751",
   "metadata": {},
   "outputs": [],
   "source": [
    "df = pd.read_csv(\"cow_data.csv\")"
   ]
  },
  {
   "cell_type": "code",
   "execution_count": 3,
   "id": "804a068b-3b9e-4b23-a2b7-580a638dc31c",
   "metadata": {},
   "outputs": [],
   "source": [
    "columns=df.columns[1:9]\n",
    "df=df.iloc[0:len(df),[1,2,3,4,5,6,7,8]]\n",
    "df.columns=columns"
   ]
  },
  {
   "cell_type": "code",
   "execution_count": 4,
   "id": "985062f2-660a-4899-bc23-dbc9f81a7aa4",
   "metadata": {
    "tags": []
   },
   "outputs": [
    {
     "name": "stdout",
     "output_type": "stream",
     "text": [
      "<class 'pandas.core.frame.DataFrame'>\n",
      "RangeIndex: 28231 entries, 0 to 28230\n",
      "Data columns (total 8 columns):\n",
      " #   Column  Non-Null Count  Dtype \n",
      "---  ------  --------------  ----- \n",
      " 0   性別      28231 non-null  object\n",
      " 1   父牛      28231 non-null  object\n",
      " 2   母の父     28231 non-null  object\n",
      " 3   母の祖父    28231 non-null  object\n",
      " 4   母の祖祖父   28231 non-null  object\n",
      " 5   日令      28231 non-null  int64 \n",
      " 6   体重      28231 non-null  int64 \n",
      " 7   価格      28231 non-null  int64 \n",
      "dtypes: int64(3), object(5)\n",
      "memory usage: 1.7+ MB\n"
     ]
    }
   ],
   "source": [
    "df.info()"
   ]
  },
  {
   "cell_type": "code",
   "execution_count": 5,
   "id": "f5bf216f-d20b-4b72-9bec-ef76a644694e",
   "metadata": {},
   "outputs": [
    {
     "name": "stdout",
     "output_type": "stream",
     "text": [
      "性別 :missing record number is 0\n",
      "父牛 :missing record number is 0\n",
      "母の父 :missing record number is 0\n",
      "母の祖父 :missing record number is 0\n",
      "母の祖祖父 :missing record number is 0\n",
      "日令 :missing record number is 0\n",
      "体重 :missing record number is 0\n",
      "価格 :missing record number is 0\n"
     ]
    }
   ],
   "source": [
    "col_names = df.columns\n",
    "for col_name in col_names:\n",
    "    missing_num = sum(pd.isnull(df[col_name]))\n",
    "    print(col_name,':missing record number is',missing_num)"
   ]
  },
  {
   "cell_type": "code",
   "execution_count": 6,
   "id": "c7e8e73c-8270-46a8-a63d-de1d95f2a14f",
   "metadata": {},
   "outputs": [
    {
     "data": {
      "text/html": [
       "<div>\n",
       "<style scoped>\n",
       "    .dataframe tbody tr th:only-of-type {\n",
       "        vertical-align: middle;\n",
       "    }\n",
       "\n",
       "    .dataframe tbody tr th {\n",
       "        vertical-align: top;\n",
       "    }\n",
       "\n",
       "    .dataframe thead th {\n",
       "        text-align: right;\n",
       "    }\n",
       "</style>\n",
       "<table border=\"1\" class=\"dataframe\">\n",
       "  <thead>\n",
       "    <tr style=\"text-align: right;\">\n",
       "      <th></th>\n",
       "      <th>日令</th>\n",
       "      <th>体重</th>\n",
       "      <th>価格</th>\n",
       "    </tr>\n",
       "  </thead>\n",
       "  <tbody>\n",
       "    <tr>\n",
       "      <th>日令</th>\n",
       "      <td>1.000000</td>\n",
       "      <td>0.067028</td>\n",
       "      <td>-0.078040</td>\n",
       "    </tr>\n",
       "    <tr>\n",
       "      <th>体重</th>\n",
       "      <td>0.067028</td>\n",
       "      <td>1.000000</td>\n",
       "      <td>0.594039</td>\n",
       "    </tr>\n",
       "    <tr>\n",
       "      <th>価格</th>\n",
       "      <td>-0.078040</td>\n",
       "      <td>0.594039</td>\n",
       "      <td>1.000000</td>\n",
       "    </tr>\n",
       "  </tbody>\n",
       "</table>\n",
       "</div>"
      ],
      "text/plain": [
       "          日令        体重        価格\n",
       "日令  1.000000  0.067028 -0.078040\n",
       "体重  0.067028  1.000000  0.594039\n",
       "価格 -0.078040  0.594039  1.000000"
      ]
     },
     "execution_count": 6,
     "metadata": {},
     "output_type": "execute_result"
    }
   ],
   "source": [
    "df.corr()"
   ]
  },
  {
   "cell_type": "code",
   "execution_count": 7,
   "id": "1ceee879-4cd2-449b-b26c-22bc565e55ed",
   "metadata": {},
   "outputs": [
    {
     "name": "stderr",
     "output_type": "stream",
     "text": [
      "/opt/anaconda3/lib/python3.9/site-packages/matplotlib/backends/backend_agg.py:240: RuntimeWarning: Glyph 26085 missing from current font.\n",
      "  font.set_text(s, 0.0, flags=flags)\n",
      "/opt/anaconda3/lib/python3.9/site-packages/matplotlib/backends/backend_agg.py:240: RuntimeWarning: Glyph 20196 missing from current font.\n",
      "  font.set_text(s, 0.0, flags=flags)\n",
      "/opt/anaconda3/lib/python3.9/site-packages/matplotlib/backends/backend_agg.py:240: RuntimeWarning: Glyph 20307 missing from current font.\n",
      "  font.set_text(s, 0.0, flags=flags)\n",
      "/opt/anaconda3/lib/python3.9/site-packages/matplotlib/backends/backend_agg.py:240: RuntimeWarning: Glyph 37325 missing from current font.\n",
      "  font.set_text(s, 0.0, flags=flags)\n",
      "/opt/anaconda3/lib/python3.9/site-packages/matplotlib/backends/backend_agg.py:240: RuntimeWarning: Glyph 20385 missing from current font.\n",
      "  font.set_text(s, 0.0, flags=flags)\n",
      "/opt/anaconda3/lib/python3.9/site-packages/matplotlib/backends/backend_agg.py:240: RuntimeWarning: Glyph 26684 missing from current font.\n",
      "  font.set_text(s, 0.0, flags=flags)\n",
      "/opt/anaconda3/lib/python3.9/site-packages/matplotlib/backends/backend_agg.py:203: RuntimeWarning: Glyph 26085 missing from current font.\n",
      "  font.set_text(s, 0, flags=flags)\n",
      "/opt/anaconda3/lib/python3.9/site-packages/matplotlib/backends/backend_agg.py:203: RuntimeWarning: Glyph 20196 missing from current font.\n",
      "  font.set_text(s, 0, flags=flags)\n",
      "/opt/anaconda3/lib/python3.9/site-packages/matplotlib/backends/backend_agg.py:203: RuntimeWarning: Glyph 20307 missing from current font.\n",
      "  font.set_text(s, 0, flags=flags)\n",
      "/opt/anaconda3/lib/python3.9/site-packages/matplotlib/backends/backend_agg.py:203: RuntimeWarning: Glyph 37325 missing from current font.\n",
      "  font.set_text(s, 0, flags=flags)\n",
      "/opt/anaconda3/lib/python3.9/site-packages/matplotlib/backends/backend_agg.py:203: RuntimeWarning: Glyph 20385 missing from current font.\n",
      "  font.set_text(s, 0, flags=flags)\n",
      "/opt/anaconda3/lib/python3.9/site-packages/matplotlib/backends/backend_agg.py:203: RuntimeWarning: Glyph 26684 missing from current font.\n",
      "  font.set_text(s, 0, flags=flags)\n"
     ]
    },
    {
     "data": {
      "text/plain": [
       "<AxesSubplot:>"
      ]
     },
     "execution_count": 7,
     "metadata": {},
     "output_type": "execute_result"
    },
    {
     "data": {
      "image/png": "[encoded data removed]",
      "text/plain": [
       "<Figure size 432x288 with 2 Axes>"
      ]
     },
     "metadata": {},
     "output_type": "display_data"
    }
   ],
   "source": [
    "cor = df.corr()\n",
    "plt.figure()\n",
    "sns.heatmap(cor, cmap= sns.color_palette('coolwarm', 10), annot=True,fmt='.2f', vmin = -1, vmax = 1)"
   ]
  },
  {
   "cell_type": "code",
   "execution_count": 8,
   "id": "655ac474-6280-4adc-9a7f-3f453938deb8",
   "metadata": {},
   "outputs": [
    {
     "data": {
      "text/html": [
       "<div>\n",
       "<style scoped>\n",
       "    .dataframe tbody tr th:only-of-type {\n",
       "        vertical-align: middle;\n",
       "    }\n",
       "\n",
       "    .dataframe tbody tr th {\n",
       "        vertical-align: top;\n",
       "    }\n",
       "\n",
       "    .dataframe thead th {\n",
       "        text-align: right;\n",
       "    }\n",
       "</style>\n",
       "<table border=\"1\" class=\"dataframe\">\n",
       "  <thead>\n",
       "    <tr style=\"text-align: right;\">\n",
       "      <th></th>\n",
       "      <th>日令</th>\n",
       "      <th>体重</th>\n",
       "      <th>価格</th>\n",
       "    </tr>\n",
       "  </thead>\n",
       "  <tbody>\n",
       "    <tr>\n",
       "      <th>count</th>\n",
       "      <td>28231.00</td>\n",
       "      <td>28231.00</td>\n",
       "      <td>28231.00</td>\n",
       "    </tr>\n",
       "    <tr>\n",
       "      <th>mean</th>\n",
       "      <td>290.06</td>\n",
       "      <td>306.44</td>\n",
       "      <td>727174.84</td>\n",
       "    </tr>\n",
       "    <tr>\n",
       "      <th>std</th>\n",
       "      <td>14.94</td>\n",
       "      <td>37.82</td>\n",
       "      <td>161945.55</td>\n",
       "    </tr>\n",
       "    <tr>\n",
       "      <th>min</th>\n",
       "      <td>207.00</td>\n",
       "      <td>124.00</td>\n",
       "      <td>96800.00</td>\n",
       "    </tr>\n",
       "    <tr>\n",
       "      <th>25%</th>\n",
       "      <td>280.50</td>\n",
       "      <td>280.00</td>\n",
       "      <td>633600.00</td>\n",
       "    </tr>\n",
       "    <tr>\n",
       "      <th>50%</th>\n",
       "      <td>290.00</td>\n",
       "      <td>306.00</td>\n",
       "      <td>727100.00</td>\n",
       "    </tr>\n",
       "    <tr>\n",
       "      <th>75%</th>\n",
       "      <td>300.00</td>\n",
       "      <td>332.00</td>\n",
       "      <td>825000.00</td>\n",
       "    </tr>\n",
       "    <tr>\n",
       "      <th>max</th>\n",
       "      <td>379.00</td>\n",
       "      <td>479.00</td>\n",
       "      <td>2334200.00</td>\n",
       "    </tr>\n",
       "  </tbody>\n",
       "</table>\n",
       "</div>"
      ],
      "text/plain": [
       "            日令       体重         価格\n",
       "count 28231.00 28231.00   28231.00\n",
       "mean    290.06   306.44  727174.84\n",
       "std      14.94    37.82  161945.55\n",
       "min     207.00   124.00   96800.00\n",
       "25%     280.50   280.00  633600.00\n",
       "50%     290.00   306.00  727100.00\n",
       "75%     300.00   332.00  825000.00\n",
       "max     379.00   479.00 2334200.00"
      ]
     },
     "execution_count": 8,
     "metadata": {},
     "output_type": "execute_result"
    }
   ],
   "source": [
    "pd.options.display.float_format = '{:.2f}'.format\n",
    "df.describe()"
   ]
  },
  {
   "cell_type": "code",
   "execution_count": 9,
   "id": "c2f450b9-f84b-4b89-8d9b-65b05cc36735",
   "metadata": {},
   "outputs": [],
   "source": [
    "df_copy = df.copy()\n",
    "df_copy.rename(columns={\"日令\":\"age\", \"体重\":\"weight\" ,\"価格\":\"price\"}, inplace=True)"
   ]
  },
  {
   "cell_type": "code",
   "execution_count": 10,
   "id": "c0a8f632-e330-4553-a820-a85828d81a1c",
   "metadata": {},
   "outputs": [],
   "source": [
    "def grasp(colum):\n",
    "    d = df_copy[colum].value_counts().to_dict()\n",
    "    myList = d.items()\n",
    "    myList = sorted(myList) \n",
    "    x, y = zip(*myList) \n",
    "\n",
    "    plt.plot(x, y)\n",
    "    plt.show()"
   ]
  },
  {
   "cell_type": "code",
   "execution_count": 11,
   "id": "cfb5d220-89e9-4c02-b1a1-7080af58d261",
   "metadata": {
    "tags": []
   },
   "outputs": [
    {
     "data": {
      "image/png": "[encoded data removed]",
      "text/plain": [
       "<Figure size 432x288 with 1 Axes>"
      ]
     },
     "metadata": {},
     "output_type": "display_data"
    }
   ],
   "source": [
    "grasp('age')"
   ]
  },
  {
   "cell_type": "code",
   "execution_count": 12,
   "id": "f6fd9447-3b3f-4a2e-886d-04583552bd89",
   "metadata": {
    "tags": []
   },
   "outputs": [
    {
     "data": {
      "image/png": "[encoded data removed]",
      "text/plain": [
       "<Figure size 432x288 with 1 Axes>"
      ]
     },
     "metadata": {},
     "output_type": "display_data"
    }
   ],
   "source": [
    "grasp('weight')"
   ]
  },
  {
   "cell_type": "code",
   "execution_count": 13,
   "id": "88428ddf-9175-45c5-9e6c-18f4cf78fc52",
   "metadata": {
    "tags": []
   },
   "outputs": [
    {
     "data": {
      "image/png": "[encoded data removed]",
      "text/plain": [
       "<Figure size 432x288 with 1 Axes>"
      ]
     },
     "metadata": {},
     "output_type": "display_data"
    }
   ],
   "source": [
    "grasp('price')"
   ]
  },
  {
   "cell_type": "code",
   "execution_count": 14,
   "id": "a4dd3437-543f-4750-b50d-238278e7b05b",
   "metadata": {
    "tags": []
   },
   "outputs": [
    {
     "data": {
      "image/png": "[encoded data removed]",
      "text/plain": [
       "<Figure size 1440x720 with 2 Axes>"
      ]
     },
     "metadata": {},
     "output_type": "display_data"
    }
   ],
   "source": [
    "from sklearn.preprocessing import StandardScaler\n",
    "\n",
    "standard_sc = StandardScaler()\n",
    "\n",
    "column_list = ['age','weight']\n",
    "x = df_copy.loc[:,column_list]\n",
    "y = df_copy['price']\n",
    "x = pd.DataFrame(data=standard_sc.fit_transform(x), columns=column_list)\n",
    "fig, axs = plt.subplots(ncols=2, nrows=1, figsize=(20, 10))\n",
    "index = 0\n",
    "axs = axs.flatten()\n",
    "for i, k in enumerate(column_list):\n",
    "    sns.regplot(y=y, x=x[k], ax=axs[i])\n",
    "plt.tight_layout(pad=0.4, w_pad=0.5, h_pad=5.0)"
   ]
  },
  {
   "cell_type": "markdown",
   "id": "8a525fa1-091d-4ed8-885b-2b4a5f8e0d15",
   "metadata": {},
   "source": [
    "## 説明変数 weght"
   ]
  },
  {
   "cell_type": "code",
   "execution_count": 93,
   "id": "a52677aa-ff4a-447d-a837-6ed4ef0a92c2",
   "metadata": {},
   "outputs": [],
   "source": [
    "from sklearn.linear_model import LinearRegression\n",
    "from sklearn.model_selection import train_test_split\n",
    "lr = LinearRegression()\n",
    "\n",
    "X = df_copy[['weight']].values\n",
    "y = df_copy[['price']].values\n",
    "\n",
    "train_X, test_X, train_y, test_y = train_test_split(\n",
    "    X, y, test_size=0.3, random_state=42\n",
    ")"
   ]
  },
  {
   "cell_type": "code",
   "execution_count": 94,
   "id": "c67f8d37-8947-4054-8055-4afd42741501",
   "metadata": {},
   "outputs": [
    {
     "data": {
      "text/html": [
       "<style>#sk-container-id-7 {color: black;background-color: white;}#sk-container-id-7 pre{padding: 0;}#sk-container-id-7 div.sk-toggleable {background-color: white;}#sk-container-id-7 label.sk-toggleable__label {cursor: pointer;display: block;width: 100%;margin-bottom: 0;padding: 0.3em;box-sizing: border-box;text-align: center;}#sk-container-id-7 label.sk-toggleable__label-arrow:before {content: \"▸\";float: left;margin-right: 0.25em;color: #696969;}#sk-container-id-7 label.sk-toggleable__label-arrow:hover:before {color: black;}#sk-container-id-7 div.sk-estimator:hover label.sk-toggleable__label-arrow:before {color: black;}#sk-container-id-7 div.sk-toggleable__content {max-height: 0;max-width: 0;overflow: hidden;text-align: left;background-color: #f0f8ff;}#sk-container-id-7 div.sk-toggleable__content pre {margin: 0.2em;color: black;border-radius: 0.25em;background-color: #f0f8ff;}#sk-container-id-7 input.sk-toggleable__control:checked~div.sk-toggleable__content {max-height: 200px;max-width: 100%;overflow: auto;}#sk-container-id-7 input.sk-toggleable__control:checked~label.sk-toggleable__label-arrow:before {content: \"▾\";}#sk-container-id-7 div.sk-estimator input.sk-toggleable__control:checked~label.sk-toggleable__label {background-color: #d4ebff;}#sk-container-id-7 div.sk-label input.sk-toggleable__control:checked~label.sk-toggleable__label {background-color: #d4ebff;}#sk-container-id-7 input.sk-hidden--visually {border: 0;clip: rect(1px 1px 1px 1px);clip: rect(1px, 1px, 1px, 1px);height: 1px;margin: -1px;overflow: hidden;padding: 0;position: absolute;width: 1px;}#sk-container-id-7 div.sk-estimator {font-family: monospace;background-color: #f0f8ff;border: 1px dotted black;border-radius: 0.25em;box-sizing: border-box;margin-bottom: 0.5em;}#sk-container-id-7 div.sk-estimator:hover {background-color: #d4ebff;}#sk-container-id-7 div.sk-parallel-item::after {content: \"\";width: 100%;border-bottom: 1px solid gray;flex-grow: 1;}#sk-container-id-7 div.sk-label:hover label.sk-toggleable__label {background-color: #d4ebff;}#sk-container-id-7 div.sk-serial::before {content: \"\";position: absolute;border-left: 1px solid gray;box-sizing: border-box;top: 0;bottom: 0;left: 50%;z-index: 0;}#sk-container-id-7 div.sk-serial {display: flex;flex-direction: column;align-items: center;background-color: white;padding-right: 0.2em;padding-left: 0.2em;position: relative;}#sk-container-id-7 div.sk-item {position: relative;z-index: 1;}#sk-container-id-7 div.sk-parallel {display: flex;align-items: stretch;justify-content: center;background-color: white;position: relative;}#sk-container-id-7 div.sk-item::before, #sk-container-id-7 div.sk-parallel-item::before {content: \"\";position: absolute;border-left: 1px solid gray;box-sizing: border-box;top: 0;bottom: 0;left: 50%;z-index: -1;}#sk-container-id-7 div.sk-parallel-item {display: flex;flex-direction: column;z-index: 1;position: relative;background-color: white;}#sk-container-id-7 div.sk-parallel-item:first-child::after {align-self: flex-end;width: 50%;}#sk-container-id-7 div.sk-parallel-item:last-child::after {align-self: flex-start;width: 50%;}#sk-container-id-7 div.sk-parallel-item:only-child::after {width: 0;}#sk-container-id-7 div.sk-dashed-wrapped {border: 1px dashed gray;margin: 0 0.4em 0.5em 0.4em;box-sizing: border-box;padding-bottom: 0.4em;background-color: white;}#sk-container-id-7 div.sk-label label {font-family: monospace;font-weight: bold;display: inline-block;line-height: 1.2em;}#sk-container-id-7 div.sk-label-container {text-align: center;}#sk-container-id-7 div.sk-container {/* jupyter's `normalize.less` sets `[hidden] { display: none; }` but bootstrap.min.css set `[hidden] { display: none !important; }` so we also need the `!important` here to be able to override the default hidden behavior on the sphinx rendered scikit-learn.org. See: https://github.com/scikit-learn/scikit-learn/issues/21755 */display: inline-block !important;position: relative;}#sk-container-id-7 div.sk-text-repr-fallback {display: none;}</style><div id=\"sk-container-id-7\" class=\"sk-top-container\"><div class=\"sk-text-repr-fallback\"><pre>LinearRegression()</pre><b>In a Jupyter environment, please rerun this cell to show the HTML representation or trust the notebook. <br />On GitHub, the HTML representation is unable to render, please try loading this page with nbviewer.org.</b></div><div class=\"sk-container\" hidden><div class=\"sk-item\"><div class=\"sk-estimator sk-toggleable\"><input class=\"sk-toggleable__control sk-hidden--visually\" id=\"sk-estimator-id-7\" type=\"checkbox\" checked><label for=\"sk-estimator-id-7\" class=\"sk-toggleable__label sk-toggleable__label-arrow\">LinearRegression</label><div class=\"sk-toggleable__content\"><pre>LinearRegression()</pre></div></div></div></div></div>"
      ],
      "text/plain": [
       "LinearRegression()"
      ]
     },
     "execution_count": 94,
     "metadata": {},
     "output_type": "execute_result"
    }
   ],
   "source": [
    "lr.fit(train_X,train_y)"
   ]
  },
  {
   "cell_type": "code",
   "execution_count": 101,
   "id": "e7732334-433b-45ac-8e2a-e521e80ad4d1",
   "metadata": {},
   "outputs": [],
   "source": [
    "pred_y = lr.predict(test_X)\n",
    "pred_train_y = lr.predict(train_X)"
   ]
  },
  {
   "cell_type": "code",
   "execution_count": 102,
   "id": "a1db89a1-f486-4289-8ca2-84f911a6c9a1",
   "metadata": {},
   "outputs": [
    {
     "data": {
      "text/plain": [
       "17760348520.722427"
      ]
     },
     "execution_count": 102,
     "metadata": {},
     "output_type": "execute_result"
    }
   ],
   "source": [
    "from sklearn.metrics import mean_squared_error\n",
    "mean_squared_error(test_y, pred_y)#テストデータを用いた値"
   ]
  },
  {
   "cell_type": "code",
   "execution_count": 105,
   "id": "6218bf53-6e90-45ef-b66b-41fcb386c850",
   "metadata": {},
   "outputs": [
    {
     "data": {
      "text/plain": [
       "16632643503.589619"
      ]
     },
     "execution_count": 105,
     "metadata": {},
     "output_type": "execute_result"
    }
   ],
   "source": [
    "mean_squared_error(train_y,pred_train_y)# 学習データを用いた値"
   ]
  },
  {
   "cell_type": "code",
   "execution_count": 82,
   "id": "faf93f1f-dbf9-44b0-b9d5-0aea53e629f0",
   "metadata": {
    "tags": []
   },
   "outputs": [
    {
     "data": {
      "image/png": "[encoded data removed]",
      "text/plain": [
       "<Figure size 432x288 with 1 Axes>"
      ]
     },
     "metadata": {},
     "output_type": "display_data"
    }
   ],
   "source": [
    "plt.scatter(test_X, test_y, color = 'blue')\n",
    "plt.plot(test_X, pred_y, color = 'red')\n",
    "plt.show()"
   ]
  },
  {
   "cell_type": "markdown",
   "id": "78fe3d7c-5268-4d8e-b967-7de2825b8926",
   "metadata": {},
   "source": [
    "## 説明変数 age"
   ]
  },
  {
   "cell_type": "code",
   "execution_count": 88,
   "id": "79312494-cd0d-4217-bd38-9c76c9e86b9e",
   "metadata": {},
   "outputs": [],
   "source": [
    "lr = LinearRegression()\n",
    "\n",
    "X = df_copy[['age']].values\n",
    "y = df_copy[['price']].values\n",
    "\n",
    "train_X, test_X, train_y, test_y = train_test_split(\n",
    "    X, y, test_size=0.3, random_state=42\n",
    ")"
   ]
  },
  {
   "cell_type": "code",
   "execution_count": 89,
   "id": "143cf49c-0eb1-4675-8a2a-be1b5acadeab",
   "metadata": {},
   "outputs": [
    {
     "data": {
      "text/plain": [
       "26675923013.66442"
      ]
     },
     "execution_count": 89,
     "metadata": {},
     "output_type": "execute_result"
    }
   ],
   "source": [
    "lr.fit(train_X,train_y)\n",
    "pred_y = lr.predict(test_X)\n",
    "mean_squared_error(test_y, pred_y)\n",
    "# lr.score(test_X, test_y)"
   ]
  },
  {
   "cell_type": "code",
   "execution_count": 90,
   "id": "1d25c96a-9d0d-4680-bdb1-acf6d1520937",
   "metadata": {},
   "outputs": [
    {
     "data": {
      "image/png": "[encoded data removed]",
      "text/plain": [
       "<Figure size 432x288 with 1 Axes>"
      ]
     },
     "metadata": {},
     "output_type": "display_data"
    }
   ],
   "source": [
    "plt.scatter(test_X, test_y, color = 'blue')\n",
    "plt.plot(test_X, pred_y, color = 'red')\n",
    "plt.show()"
   ]
  },
  {
   "cell_type": "markdown",
   "id": "aa03f7c3-1f4a-4767-9d00-4eacadc66b65",
   "metadata": {},
   "source": [
    "## 説明変数 weight・age"
   ]
  },
  {
   "cell_type": "code",
   "execution_count": 137,
   "id": "0ff30055-8e2b-4e50-8239-28ebfcd3ddcc",
   "metadata": {},
   "outputs": [],
   "source": [
    "lr = LinearRegression()\n",
    "\n",
    "X = df_copy[['weight','age']]\n",
    "y = df_copy[['price']]\n",
    "\n",
    "train_X, test_X, train_y, test_y = train_test_split(\n",
    "    X, y, test_size=0.3, random_state=42\n",
    ")"
   ]
  },
  {
   "cell_type": "code",
   "execution_count": 138,
   "id": "ea76208c-d0a8-4d8b-a1a6-358a16244f8e",
   "metadata": {},
   "outputs": [
    {
     "data": {
      "text/plain": [
       "17440868421.95811"
      ]
     },
     "execution_count": 138,
     "metadata": {},
     "output_type": "execute_result"
    }
   ],
   "source": [
    "lr.fit(train_X,train_y)\n",
    "pred_y = lr.predict(test_X)\n",
    "mean_squared_error(test_y, pred_y)#テストデータを用いた値"
   ]
  },
  {
   "cell_type": "code",
   "execution_count": 139,
   "id": "f3868d7f-c0aa-4f10-8e68-8fbb70edc473",
   "metadata": {},
   "outputs": [
    {
     "data": {
      "text/plain": [
       "16247252744.816128"
      ]
     },
     "execution_count": 139,
     "metadata": {},
     "output_type": "execute_result"
    }
   ],
   "source": [
    "pred_train_y = lr.predict(train_X)\n",
    "mean_squared_error(train_y,pred_train_y)#学習データを用いた値"
   ]
  },
  {
   "cell_type": "markdown",
   "id": "fd193c33-02dd-403f-b5d0-5bab63dfc1c1",
   "metadata": {},
   "source": [
    "### 説明変数 weight・age 標準化"
   ]
  },
  {
   "cell_type": "code",
   "execution_count": 127,
   "id": "bebc4553-6584-4944-9de6-4ce7a45d1e47",
   "metadata": {
    "collapsed": true,
    "jupyter": {
     "outputs_hidden": true
    },
    "tags": []
   },
   "outputs": [
    {
     "ename": "IndexError",
     "evalue": "positional indexers are out-of-bounds",
     "output_type": "error",
     "traceback": [
      "\u001b[0;31m---------------------------------------------------------------------------\u001b[0m",
      "\u001b[0;31mIndexError\u001b[0m                                Traceback (most recent call last)",
      "\u001b[0;32m/var/folders/5w/f6yfy31s1fldqfnxdzv8ycj00000gn/T/ipykernel_95883/700981539.py\u001b[0m in \u001b[0;36m<module>\u001b[0;34m\u001b[0m\n\u001b[1;32m      1\u001b[0m \u001b[0mcolumn\u001b[0m \u001b[0;34m=\u001b[0m \u001b[0mdf_copy\u001b[0m\u001b[0;34m.\u001b[0m\u001b[0mcolumns\u001b[0m\u001b[0;34m[\u001b[0m\u001b[0;36m5\u001b[0m\u001b[0;34m:\u001b[0m\u001b[0;34m]\u001b[0m\u001b[0;34m\u001b[0m\u001b[0;34m\u001b[0m\u001b[0m\n\u001b[0;32m----> 2\u001b[0;31m \u001b[0mdf_copy\u001b[0m \u001b[0;34m=\u001b[0m \u001b[0mdf_copy\u001b[0m\u001b[0;34m.\u001b[0m\u001b[0miloc\u001b[0m\u001b[0;34m[\u001b[0m\u001b[0;36m0\u001b[0m\u001b[0;34m:\u001b[0m\u001b[0mlen\u001b[0m\u001b[0;34m(\u001b[0m\u001b[0mdf_copy\u001b[0m\u001b[0;34m)\u001b[0m\u001b[0;34m,\u001b[0m\u001b[0;34m[\u001b[0m\u001b[0;36m5\u001b[0m\u001b[0;34m,\u001b[0m\u001b[0;36m6\u001b[0m\u001b[0;34m,\u001b[0m\u001b[0;36m7\u001b[0m\u001b[0;34m]\u001b[0m\u001b[0;34m]\u001b[0m\u001b[0;34m\u001b[0m\u001b[0;34m\u001b[0m\u001b[0m\n\u001b[0m\u001b[1;32m      3\u001b[0m \u001b[0mdf_copy\u001b[0m\u001b[0;34m.\u001b[0m\u001b[0mcolumns\u001b[0m \u001b[0;34m=\u001b[0m \u001b[0mcolumn\u001b[0m\u001b[0;34m\u001b[0m\u001b[0;34m\u001b[0m\u001b[0m\n",
      "\u001b[0;32m/opt/anaconda3/lib/python3.9/site-packages/pandas/core/indexing.py\u001b[0m in \u001b[0;36m__getitem__\u001b[0;34m(self, key)\u001b[0m\n\u001b[1;32m    959\u001b[0m             \u001b[0;32mif\u001b[0m \u001b[0mself\u001b[0m\u001b[0;34m.\u001b[0m\u001b[0m_is_scalar_access\u001b[0m\u001b[0;34m(\u001b[0m\u001b[0mkey\u001b[0m\u001b[0;34m)\u001b[0m\u001b[0;34m:\u001b[0m\u001b[0;34m\u001b[0m\u001b[0;34m\u001b[0m\u001b[0m\n\u001b[1;32m    960\u001b[0m                 \u001b[0;32mreturn\u001b[0m \u001b[0mself\u001b[0m\u001b[0;34m.\u001b[0m\u001b[0mobj\u001b[0m\u001b[0;34m.\u001b[0m\u001b[0m_get_value\u001b[0m\u001b[0;34m(\u001b[0m\u001b[0;34m*\u001b[0m\u001b[0mkey\u001b[0m\u001b[0;34m,\u001b[0m \u001b[0mtakeable\u001b[0m\u001b[0;34m=\u001b[0m\u001b[0mself\u001b[0m\u001b[0;34m.\u001b[0m\u001b[0m_takeable\u001b[0m\u001b[0;34m)\u001b[0m\u001b[0;34m\u001b[0m\u001b[0;34m\u001b[0m\u001b[0m\n\u001b[0;32m--> 961\u001b[0;31m             \u001b[0;32mreturn\u001b[0m \u001b[0mself\u001b[0m\u001b[0;34m.\u001b[0m\u001b[0m_getitem_tuple\u001b[0m\u001b[0;34m(\u001b[0m\u001b[0mkey\u001b[0m\u001b[0;34m)\u001b[0m\u001b[0;34m\u001b[0m\u001b[0;34m\u001b[0m\u001b[0m\n\u001b[0m\u001b[1;32m    962\u001b[0m         \u001b[0;32melse\u001b[0m\u001b[0;34m:\u001b[0m\u001b[0;34m\u001b[0m\u001b[0;34m\u001b[0m\u001b[0m\n\u001b[1;32m    963\u001b[0m             \u001b[0;31m# we by definition only have the 0th axis\u001b[0m\u001b[0;34m\u001b[0m\u001b[0;34m\u001b[0m\u001b[0m\n",
      "\u001b[0;32m/opt/anaconda3/lib/python3.9/site-packages/pandas/core/indexing.py\u001b[0m in \u001b[0;36m_getitem_tuple\u001b[0;34m(self, tup)\u001b[0m\n\u001b[1;32m   1456\u001b[0m     \u001b[0;32mdef\u001b[0m \u001b[0m_getitem_tuple\u001b[0m\u001b[0;34m(\u001b[0m\u001b[0mself\u001b[0m\u001b[0;34m,\u001b[0m \u001b[0mtup\u001b[0m\u001b[0;34m:\u001b[0m \u001b[0mtuple\u001b[0m\u001b[0;34m)\u001b[0m\u001b[0;34m:\u001b[0m\u001b[0;34m\u001b[0m\u001b[0;34m\u001b[0m\u001b[0m\n\u001b[1;32m   1457\u001b[0m \u001b[0;34m\u001b[0m\u001b[0m\n\u001b[0;32m-> 1458\u001b[0;31m         \u001b[0mtup\u001b[0m \u001b[0;34m=\u001b[0m \u001b[0mself\u001b[0m\u001b[0;34m.\u001b[0m\u001b[0m_validate_tuple_indexer\u001b[0m\u001b[0;34m(\u001b[0m\u001b[0mtup\u001b[0m\u001b[0;34m)\u001b[0m\u001b[0;34m\u001b[0m\u001b[0;34m\u001b[0m\u001b[0m\n\u001b[0m\u001b[1;32m   1459\u001b[0m         \u001b[0;32mwith\u001b[0m \u001b[0msuppress\u001b[0m\u001b[0;34m(\u001b[0m\u001b[0mIndexingError\u001b[0m\u001b[0;34m)\u001b[0m\u001b[0;34m:\u001b[0m\u001b[0;34m\u001b[0m\u001b[0;34m\u001b[0m\u001b[0m\n\u001b[1;32m   1460\u001b[0m             \u001b[0;32mreturn\u001b[0m \u001b[0mself\u001b[0m\u001b[0;34m.\u001b[0m\u001b[0m_getitem_lowerdim\u001b[0m\u001b[0;34m(\u001b[0m\u001b[0mtup\u001b[0m\u001b[0;34m)\u001b[0m\u001b[0;34m\u001b[0m\u001b[0;34m\u001b[0m\u001b[0m\n",
      "\u001b[0;32m/opt/anaconda3/lib/python3.9/site-packages/pandas/core/indexing.py\u001b[0m in \u001b[0;36m_validate_tuple_indexer\u001b[0;34m(self, key)\u001b[0m\n\u001b[1;32m    767\u001b[0m         \u001b[0;32mfor\u001b[0m \u001b[0mi\u001b[0m\u001b[0;34m,\u001b[0m \u001b[0mk\u001b[0m \u001b[0;32min\u001b[0m \u001b[0menumerate\u001b[0m\u001b[0;34m(\u001b[0m\u001b[0mkey\u001b[0m\u001b[0;34m)\u001b[0m\u001b[0;34m:\u001b[0m\u001b[0;34m\u001b[0m\u001b[0;34m\u001b[0m\u001b[0m\n\u001b[1;32m    768\u001b[0m             \u001b[0;32mtry\u001b[0m\u001b[0;34m:\u001b[0m\u001b[0;34m\u001b[0m\u001b[0;34m\u001b[0m\u001b[0m\n\u001b[0;32m--> 769\u001b[0;31m                 \u001b[0mself\u001b[0m\u001b[0;34m.\u001b[0m\u001b[0m_validate_key\u001b[0m\u001b[0;34m(\u001b[0m\u001b[0mk\u001b[0m\u001b[0;34m,\u001b[0m \u001b[0mi\u001b[0m\u001b[0;34m)\u001b[0m\u001b[0;34m\u001b[0m\u001b[0;34m\u001b[0m\u001b[0m\n\u001b[0m\u001b[1;32m    770\u001b[0m             \u001b[0;32mexcept\u001b[0m \u001b[0mValueError\u001b[0m \u001b[0;32mas\u001b[0m \u001b[0merr\u001b[0m\u001b[0;34m:\u001b[0m\u001b[0;34m\u001b[0m\u001b[0;34m\u001b[0m\u001b[0m\n\u001b[1;32m    771\u001b[0m                 raise ValueError(\n",
      "\u001b[0;32m/opt/anaconda3/lib/python3.9/site-packages/pandas/core/indexing.py\u001b[0m in \u001b[0;36m_validate_key\u001b[0;34m(self, key, axis)\u001b[0m\n\u001b[1;32m   1374\u001b[0m             \u001b[0;31m# check that the key does not exceed the maximum size of the index\u001b[0m\u001b[0;34m\u001b[0m\u001b[0;34m\u001b[0m\u001b[0m\n\u001b[1;32m   1375\u001b[0m             \u001b[0;32mif\u001b[0m \u001b[0mlen\u001b[0m\u001b[0;34m(\u001b[0m\u001b[0marr\u001b[0m\u001b[0;34m)\u001b[0m \u001b[0;32mand\u001b[0m \u001b[0;34m(\u001b[0m\u001b[0marr\u001b[0m\u001b[0;34m.\u001b[0m\u001b[0mmax\u001b[0m\u001b[0;34m(\u001b[0m\u001b[0;34m)\u001b[0m \u001b[0;34m>=\u001b[0m \u001b[0mlen_axis\u001b[0m \u001b[0;32mor\u001b[0m \u001b[0marr\u001b[0m\u001b[0;34m.\u001b[0m\u001b[0mmin\u001b[0m\u001b[0;34m(\u001b[0m\u001b[0;34m)\u001b[0m \u001b[0;34m<\u001b[0m \u001b[0;34m-\u001b[0m\u001b[0mlen_axis\u001b[0m\u001b[0;34m)\u001b[0m\u001b[0;34m:\u001b[0m\u001b[0;34m\u001b[0m\u001b[0;34m\u001b[0m\u001b[0m\n\u001b[0;32m-> 1376\u001b[0;31m                 \u001b[0;32mraise\u001b[0m \u001b[0mIndexError\u001b[0m\u001b[0;34m(\u001b[0m\u001b[0;34m\"positional indexers are out-of-bounds\"\u001b[0m\u001b[0;34m)\u001b[0m\u001b[0;34m\u001b[0m\u001b[0;34m\u001b[0m\u001b[0m\n\u001b[0m\u001b[1;32m   1377\u001b[0m         \u001b[0;32melse\u001b[0m\u001b[0;34m:\u001b[0m\u001b[0;34m\u001b[0m\u001b[0;34m\u001b[0m\u001b[0m\n\u001b[1;32m   1378\u001b[0m             \u001b[0;32mraise\u001b[0m \u001b[0mValueError\u001b[0m\u001b[0;34m(\u001b[0m\u001b[0;34mf\"Can only index by location with a [{self._valid_types}]\"\u001b[0m\u001b[0;34m)\u001b[0m\u001b[0;34m\u001b[0m\u001b[0;34m\u001b[0m\u001b[0m\n",
      "\u001b[0;31mIndexError\u001b[0m: positional indexers are out-of-bounds"
     ]
    }
   ],
   "source": [
    "column = df_copy.columns[5:]\n",
    "df_copy = df_copy.iloc[0:len(df_copy),[5,6,7]]\n",
    "df_copy.columns = column"
   ]
  },
  {
   "cell_type": "code",
   "execution_count": 135,
   "id": "06d9e1a6-b6dd-412b-af70-58af7eb9abaa",
   "metadata": {
    "tags": []
   },
   "outputs": [
    {
     "data": {
      "text/plain": [
       "17440868421.95811"
      ]
     },
     "execution_count": 135,
     "metadata": {},
     "output_type": "execute_result"
    }
   ],
   "source": [
    "standard_sc = StandardScaler()\n",
    "X = df_copy.drop(columns = ['price'])\n",
    "y = df_copy[['price']]\n",
    "X = standard_sc.fit_transform(X)\n",
    "train_X,test_X,train_y,test_y = train_test_split(X,y,test_size=0.3,random_state=42)\n",
    "\n",
    "\n",
    "lr.fit(train_X,train_y)\n",
    "pred_y = lr.predict(test_X)\n",
    "mean_squared_error(test_y,pred_y)#テストデータを用いた値"
   ]
  },
  {
   "cell_type": "code",
   "execution_count": 136,
   "id": "6cd06269-1996-477f-b32b-68e3bca8d4ff",
   "metadata": {
    "tags": []
   },
   "outputs": [
    {
     "data": {
      "text/plain": [
       "16247252744.816128"
      ]
     },
     "execution_count": 136,
     "metadata": {},
     "output_type": "execute_result"
    }
   ],
   "source": [
    "pred_train_y = lr.predict(train_X)\n",
    "mean_squared_error(train_y,pred_train_y)#学習データを用いた値"
   ]
  },
  {
   "cell_type": "markdown",
   "id": "67a147ed-71d3-443a-9cc7-39e0dbe48824",
   "metadata": {},
   "source": [
    "体重と日令はばらつきが同じくらいなため標準化しても二乗平均誤差は同じ"
   ]
  },
  {
   "cell_type": "markdown",
   "id": "c8f8e763-a345-49f4-a235-f8ef83b86a7c",
   "metadata": {},
   "source": []
  },
  {
   "cell_type": "markdown",
   "id": "e248d4b6-7e6e-4db6-b8c7-5c36f234804a",
   "metadata": {},
   "source": [
    "## ランダムフォレスト"
   ]
  },
  {
   "cell_type": "code",
   "execution_count": 146,
   "id": "e7fcf545-91b8-418a-a6b3-acdacaa7f5c6",
   "metadata": {},
   "outputs": [
    {
     "name": "stderr",
     "output_type": "stream",
     "text": [
      "/var/folders/5w/f6yfy31s1fldqfnxdzv8ycj00000gn/T/ipykernel_95883/412230293.py:7: DataConversionWarning: A column-vector y was passed when a 1d array was expected. Please change the shape of y to (n_samples,), for example using ravel().\n",
      "  model.fit(train_X,train_y)\n"
     ]
    },
    {
     "data": {
      "text/html": [
       "<style>#sk-container-id-9 {color: black;background-color: white;}#sk-container-id-9 pre{padding: 0;}#sk-container-id-9 div.sk-toggleable {background-color: white;}#sk-container-id-9 label.sk-toggleable__label {cursor: pointer;display: block;width: 100%;margin-bottom: 0;padding: 0.3em;box-sizing: border-box;text-align: center;}#sk-container-id-9 label.sk-toggleable__label-arrow:before {content: \"▸\";float: left;margin-right: 0.25em;color: #696969;}#sk-container-id-9 label.sk-toggleable__label-arrow:hover:before {color: black;}#sk-container-id-9 div.sk-estimator:hover label.sk-toggleable__label-arrow:before {color: black;}#sk-container-id-9 div.sk-toggleable__content {max-height: 0;max-width: 0;overflow: hidden;text-align: left;background-color: #f0f8ff;}#sk-container-id-9 div.sk-toggleable__content pre {margin: 0.2em;color: black;border-radius: 0.25em;background-color: #f0f8ff;}#sk-container-id-9 input.sk-toggleable__control:checked~div.sk-toggleable__content {max-height: 200px;max-width: 100%;overflow: auto;}#sk-container-id-9 input.sk-toggleable__control:checked~label.sk-toggleable__label-arrow:before {content: \"▾\";}#sk-container-id-9 div.sk-estimator input.sk-toggleable__control:checked~label.sk-toggleable__label {background-color: #d4ebff;}#sk-container-id-9 div.sk-label input.sk-toggleable__control:checked~label.sk-toggleable__label {background-color: #d4ebff;}#sk-container-id-9 input.sk-hidden--visually {border: 0;clip: rect(1px 1px 1px 1px);clip: rect(1px, 1px, 1px, 1px);height: 1px;margin: -1px;overflow: hidden;padding: 0;position: absolute;width: 1px;}#sk-container-id-9 div.sk-estimator {font-family: monospace;background-color: #f0f8ff;border: 1px dotted black;border-radius: 0.25em;box-sizing: border-box;margin-bottom: 0.5em;}#sk-container-id-9 div.sk-estimator:hover {background-color: #d4ebff;}#sk-container-id-9 div.sk-parallel-item::after {content: \"\";width: 100%;border-bottom: 1px solid gray;flex-grow: 1;}#sk-container-id-9 div.sk-label:hover label.sk-toggleable__label {background-color: #d4ebff;}#sk-container-id-9 div.sk-serial::before {content: \"\";position: absolute;border-left: 1px solid gray;box-sizing: border-box;top: 0;bottom: 0;left: 50%;z-index: 0;}#sk-container-id-9 div.sk-serial {display: flex;flex-direction: column;align-items: center;background-color: white;padding-right: 0.2em;padding-left: 0.2em;position: relative;}#sk-container-id-9 div.sk-item {position: relative;z-index: 1;}#sk-container-id-9 div.sk-parallel {display: flex;align-items: stretch;justify-content: center;background-color: white;position: relative;}#sk-container-id-9 div.sk-item::before, #sk-container-id-9 div.sk-parallel-item::before {content: \"\";position: absolute;border-left: 1px solid gray;box-sizing: border-box;top: 0;bottom: 0;left: 50%;z-index: -1;}#sk-container-id-9 div.sk-parallel-item {display: flex;flex-direction: column;z-index: 1;position: relative;background-color: white;}#sk-container-id-9 div.sk-parallel-item:first-child::after {align-self: flex-end;width: 50%;}#sk-container-id-9 div.sk-parallel-item:last-child::after {align-self: flex-start;width: 50%;}#sk-container-id-9 div.sk-parallel-item:only-child::after {width: 0;}#sk-container-id-9 div.sk-dashed-wrapped {border: 1px dashed gray;margin: 0 0.4em 0.5em 0.4em;box-sizing: border-box;padding-bottom: 0.4em;background-color: white;}#sk-container-id-9 div.sk-label label {font-family: monospace;font-weight: bold;display: inline-block;line-height: 1.2em;}#sk-container-id-9 div.sk-label-container {text-align: center;}#sk-container-id-9 div.sk-container {/* jupyter's `normalize.less` sets `[hidden] { display: none; }` but bootstrap.min.css set `[hidden] { display: none !important; }` so we also need the `!important` here to be able to override the default hidden behavior on the sphinx rendered scikit-learn.org. See: https://github.com/scikit-learn/scikit-learn/issues/21755 */display: inline-block !important;position: relative;}#sk-container-id-9 div.sk-text-repr-fallback {display: none;}</style><div id=\"sk-container-id-9\" class=\"sk-top-container\"><div class=\"sk-text-repr-fallback\"><pre>RandomForestRegressor(random_state=0)</pre><b>In a Jupyter environment, please rerun this cell to show the HTML representation or trust the notebook. <br />On GitHub, the HTML representation is unable to render, please try loading this page with nbviewer.org.</b></div><div class=\"sk-container\" hidden><div class=\"sk-item\"><div class=\"sk-estimator sk-toggleable\"><input class=\"sk-toggleable__control sk-hidden--visually\" id=\"sk-estimator-id-9\" type=\"checkbox\" checked><label for=\"sk-estimator-id-9\" class=\"sk-toggleable__label sk-toggleable__label-arrow\">RandomForestRegressor</label><div class=\"sk-toggleable__content\"><pre>RandomForestRegressor(random_state=0)</pre></div></div></div></div></div>"
      ],
      "text/plain": [
       "RandomForestRegressor(random_state=0)"
      ]
     },
     "execution_count": 146,
     "metadata": {},
     "output_type": "execute_result"
    }
   ],
   "source": [
    "from sklearn.ensemble import RandomForestRegressor\n",
    "X = df_dummied.drop(columns = ['価格'])\n",
    "y = df_dummied[['価格']]\n",
    "train_X,test_X,train_y,test_y = train_test_split(X,y,test_size=0.3,random_state=42)\n",
    "model = RandomForestRegressor(random_state=0)\n",
    "\n",
    "model.fit(train_X,train_y)"
   ]
  },
  {
   "cell_type": "code",
   "execution_count": 147,
   "id": "50f7d525-ad1d-4e4d-a468-b3e6e2e340fe",
   "metadata": {},
   "outputs": [
    {
     "data": {
      "text/plain": [
       "13046469172.926239"
      ]
     },
     "execution_count": 147,
     "metadata": {},
     "output_type": "execute_result"
    }
   ],
   "source": [
    "pred_y = model.predict(test_X)\n",
    "mean_squared_error(test_y,pred_y)#テストデータを用いた値"
   ]
  },
  {
   "cell_type": "code",
   "execution_count": 148,
   "id": "cd868b81-67fc-450d-a5e8-41d98060dd10",
   "metadata": {},
   "outputs": [
    {
     "data": {
      "text/plain": [
       "1713520342.198015"
      ]
     },
     "execution_count": 148,
     "metadata": {},
     "output_type": "execute_result"
    }
   ],
   "source": [
    "pred_train_y = model.predict(train_X)\n",
    "mean_squared_error(train_y,pred_train_y)#学習データを用いた値"
   ]
  },
  {
   "cell_type": "markdown",
   "id": "df258483-5a7d-4d82-a396-800405403244",
   "metadata": {},
   "source": [
    "### 血統のみ"
   ]
  },
  {
   "cell_type": "code",
   "execution_count": 191,
   "id": "59b702b1-78cc-4b28-b2ea-5ca65fb880a1",
   "metadata": {},
   "outputs": [],
   "source": [
    "column = df.columns[:5]\n",
    "col = df.columns[7]\n",
    "_df = df.iloc[0:len(df),[0,1,2,3,4]]\n",
    "__df = df.iloc[0:len(df),[7]]\n",
    "_df.columns = column\n",
    "_df = pd.concat([_df,__df], axis=1)"
   ]
  },
  {
   "cell_type": "code",
   "execution_count": 241,
   "id": "35f6a29e-0692-4539-90ff-cb3ec8b4fe15",
   "metadata": {
    "tags": []
   },
   "outputs": [
    {
     "ename": "SyntaxError",
     "evalue": "expression cannot contain assignment, perhaps you meant \"==\"? (2237819994.py, line 1)",
     "output_type": "error",
     "traceback": [
      "\u001b[0;36m  File \u001b[0;32m\"/var/folders/5w/f6yfy31s1fldqfnxdzv8ycj00000gn/T/ipykernel_95883/2237819994.py\"\u001b[0;36m, line \u001b[0;32m1\u001b[0m\n\u001b[0;31m    _df_dummied = pd.get_dummies(_df.drop_first=True)\u001b[0m\n\u001b[0m                                 ^\u001b[0m\n\u001b[0;31mSyntaxError\u001b[0m\u001b[0;31m:\u001b[0m expression cannot contain assignment, perhaps you meant \"==\"?\n"
     ]
    }
   ],
   "source": [
    "_df_dummied = pd.get_dummies(_df.drop_first=True)\n",
    "_df_dummied"
   ]
  },
  {
   "cell_type": "code",
   "execution_count": 195,
   "id": "e962456d-5367-4dd4-9296-b9ecba022b9e",
   "metadata": {},
   "outputs": [
    {
     "name": "stderr",
     "output_type": "stream",
     "text": [
      "/var/folders/5w/f6yfy31s1fldqfnxdzv8ycj00000gn/T/ipykernel_95883/4027460018.py:7: DataConversionWarning: A column-vector y was passed when a 1d array was expected. Please change the shape of y to (n_samples,), for example using ravel().\n",
      "  model.fit(train_X,train_y)\n"
     ]
    },
    {
     "data": {
      "text/plain": [
       "20926800967.895267"
      ]
     },
     "execution_count": 195,
     "metadata": {},
     "output_type": "execute_result"
    }
   ],
   "source": [
    "from sklearn.ensemble import RandomForestRegressor\n",
    "X = _df_dummied.drop(columns = ['価格'])\n",
    "y = _df_dummied[['価格']]\n",
    "train_X,test_X,train_y,test_y = train_test_split(X,y,test_size=0.3,random_state=42)\n",
    "model = RandomForestRegressor(random_state=0)\n",
    "\n",
    "model.fit(train_X,train_y)\n",
    "\n",
    "pred_y = model.predict(test_X)\n",
    "mean_squared_error(test_y,pred_y)#テストデータを用いた値"
   ]
  },
  {
   "cell_type": "code",
   "execution_count": 196,
   "id": "2a48e545-a3c6-4d43-8c45-b449a10719ca",
   "metadata": {},
   "outputs": [
    {
     "data": {
      "text/plain": [
       "6584847871.687473"
      ]
     },
     "execution_count": 196,
     "metadata": {},
     "output_type": "execute_result"
    }
   ],
   "source": [
    "pred_train_y = model.predict(train_X)\n",
    "mean_squared_error(train_y,pred_train_y)#学習データを用いた値"
   ]
  },
  {
   "cell_type": "markdown",
   "id": "dfc135c5-8f4a-4441-8e6e-95221f083267",
   "metadata": {},
   "source": [
    "## k-Fold交差検証"
   ]
  },
  {
   "cell_type": "code",
   "execution_count": 242,
   "id": "64600310-d885-429b-96bd-826f25b27afe",
   "metadata": {},
   "outputs": [],
   "source": [
    "df_x = df.drop(columns=['価格'])\n",
    "df_x = pd.get_dummies(df_x,drop_first=True)\n",
    "df_y = df['価格']"
   ]
  },
  {
   "cell_type": "code",
   "execution_count": 243,
   "id": "3cd58135-36fd-41e0-adde-0ac7addfe9b2",
   "metadata": {},
   "outputs": [
    {
     "name": "stdout",
     "output_type": "stream",
     "text": [
      "テストデータを用いた値 12349145056.031273\n",
      "学習データを用いた値 1752497059.1752915\n",
      "テストデータを用いた値 12077026269.814062\n",
      "学習データを用いた値 1769073578.8510633\n",
      "テストデータを用いた値 12996737363.748722\n",
      "学習データを用いた値 1708420344.9499965\n",
      "テストデータを用いた値 12287902101.584019\n",
      "学習データを用いた値 1740276399.3024902\n"
     ]
    }
   ],
   "source": [
    "from sklearn.model_selection import KFold\n",
    "kf = KFold(n_splits=4, shuffle=True, random_state=1)\n",
    "\n",
    "scores = []\n",
    "\n",
    "for train_index, test_index, in kf.split(df_x):\n",
    "    train_x = df_x.iloc[train_index]\n",
    "    test_x  = df_x.iloc[test_index]\n",
    "    train_y = df_y.iloc[train_index]\n",
    "    test_y  = df_y.iloc[test_index]\n",
    "\n",
    "    model = RandomForestRegressor(random_state=42)\n",
    "    model.fit(train_x,train_y)\n",
    "    pred_y = model.predict(test_x)\n",
    "    pred_train_y = model.predict(train_x)\n",
    "    score = mean_squared_error(test_y,pred_y)\n",
    "    scores.append(score)\n",
    "    print('テストデータを用いた値',score)\n",
    "    print('学習データを用いた値',mean_squared_error(train_y,pred_train_y))\n",
    "# print('平均スコア',np.mean(scores))"
   ]
  },
  {
   "cell_type": "markdown",
   "id": "b87b2681-b739-4a34-812f-69267f359aa4",
   "metadata": {},
   "source": [
    "## アンサンブル学習"
   ]
  },
  {
   "cell_type": "code",
   "execution_count": 212,
   "id": "86722153-999f-4a5b-9c2e-c20128a70c73",
   "metadata": {
    "tags": []
   },
   "outputs": [],
   "source": [
    "X = df_dummied.drop(columns = '価格')\n",
    "y = df_dummied['価格']"
   ]
  },
  {
   "cell_type": "code",
   "execution_count": 214,
   "id": "5790a963-e69d-453e-9c44-c6c6ce4988fa",
   "metadata": {},
   "outputs": [],
   "source": [
    "X_train,X_test, y_train, y_test = train_test_split(X, y, test_size=0.2, random_state=0)\n",
    "X_train, X_valid, y_train, y_valid = train_test_split(X_train, y_train, test_size=0.2, random_state=0)"
   ]
  },
  {
   "cell_type": "code",
   "execution_count": 223,
   "id": "76bd8635-e89d-4f2c-9a8b-829f4147b936",
   "metadata": {
    "collapsed": true,
    "jupyter": {
     "outputs_hidden": true
    },
    "tags": []
   },
   "outputs": [
    {
     "ename": "TypeError",
     "evalue": "train() missing 2 required positional arguments: 'params' and 'dtrain'",
     "output_type": "error",
     "traceback": [
      "\u001b[0;31m---------------------------------------------------------------------------\u001b[0m",
      "\u001b[0;31mTypeError\u001b[0m                                 Traceback (most recent call last)",
      "\u001b[0;32m/var/folders/5w/f6yfy31s1fldqfnxdzv8ycj00000gn/T/ipykernel_95883/3776013698.py\u001b[0m in \u001b[0;36m<module>\u001b[0;34m\u001b[0m\n\u001b[1;32m      3\u001b[0m \u001b[0mmodel_1\u001b[0m \u001b[0;34m=\u001b[0m \u001b[0mLinearRegression\u001b[0m\u001b[0;34m(\u001b[0m\u001b[0;34m)\u001b[0m\u001b[0;34m\u001b[0m\u001b[0;34m\u001b[0m\u001b[0m\n\u001b[1;32m      4\u001b[0m \u001b[0mmodel_2\u001b[0m \u001b[0;34m=\u001b[0m \u001b[0mRandomForestRegressor\u001b[0m\u001b[0;34m(\u001b[0m\u001b[0;34m)\u001b[0m\u001b[0;34m\u001b[0m\u001b[0;34m\u001b[0m\u001b[0m\n\u001b[0;32m----> 5\u001b[0;31m \u001b[0mmodel_3\u001b[0m \u001b[0;34m=\u001b[0m \u001b[0mxgb\u001b[0m\u001b[0;34m.\u001b[0m\u001b[0mtrain\u001b[0m\u001b[0;34m(\u001b[0m\u001b[0;34m)\u001b[0m\u001b[0;34m\u001b[0m\u001b[0;34m\u001b[0m\u001b[0m\n\u001b[0m\u001b[1;32m      6\u001b[0m \u001b[0;34m\u001b[0m\u001b[0m\n\u001b[1;32m      7\u001b[0m \u001b[0mmodel_1\u001b[0m\u001b[0;34m.\u001b[0m\u001b[0mfit\u001b[0m\u001b[0;34m(\u001b[0m\u001b[0mX_train\u001b[0m\u001b[0;34m,\u001b[0m\u001b[0my_train\u001b[0m\u001b[0;34m)\u001b[0m\u001b[0;34m\u001b[0m\u001b[0;34m\u001b[0m\u001b[0m\n",
      "\u001b[0;32m/opt/anaconda3/lib/python3.9/site-packages/xgboost/core.py\u001b[0m in \u001b[0;36minner_f\u001b[0;34m(*args, **kwargs)\u001b[0m\n\u001b[1;32m    530\u001b[0m         \u001b[0;32mfor\u001b[0m \u001b[0mk\u001b[0m\u001b[0;34m,\u001b[0m \u001b[0marg\u001b[0m \u001b[0;32min\u001b[0m \u001b[0mzip\u001b[0m\u001b[0;34m(\u001b[0m\u001b[0msig\u001b[0m\u001b[0;34m.\u001b[0m\u001b[0mparameters\u001b[0m\u001b[0;34m,\u001b[0m \u001b[0margs\u001b[0m\u001b[0;34m)\u001b[0m\u001b[0;34m:\u001b[0m\u001b[0;34m\u001b[0m\u001b[0;34m\u001b[0m\u001b[0m\n\u001b[1;32m    531\u001b[0m             \u001b[0mkwargs\u001b[0m\u001b[0;34m[\u001b[0m\u001b[0mk\u001b[0m\u001b[0;34m]\u001b[0m \u001b[0;34m=\u001b[0m \u001b[0marg\u001b[0m\u001b[0;34m\u001b[0m\u001b[0;34m\u001b[0m\u001b[0m\n\u001b[0;32m--> 532\u001b[0;31m         \u001b[0;32mreturn\u001b[0m \u001b[0mf\u001b[0m\u001b[0;34m(\u001b[0m\u001b[0;34m**\u001b[0m\u001b[0mkwargs\u001b[0m\u001b[0;34m)\u001b[0m\u001b[0;34m\u001b[0m\u001b[0;34m\u001b[0m\u001b[0m\n\u001b[0m\u001b[1;32m    533\u001b[0m \u001b[0;34m\u001b[0m\u001b[0m\n\u001b[1;32m    534\u001b[0m     \u001b[0;32mreturn\u001b[0m \u001b[0minner_f\u001b[0m\u001b[0;34m\u001b[0m\u001b[0;34m\u001b[0m\u001b[0m\n",
      "\u001b[0;31mTypeError\u001b[0m: train() missing 2 required positional arguments: 'params' and 'dtrain'"
     ]
    }
   ],
   "source": [
    "import xgboost as xgb\n",
    "\n",
    "model_1 = LinearRegression()\n",
    "model_2 = RandomForestRegressor()\n",
    "model_3 = xgb.train()\n",
    "\n",
    "model_1.fit(X_train,y_train)\n",
    "model_2.fit(X_train,y_train)\n",
    "model_3.fit(X_train,y_train)"
   ]
  },
  {
   "cell_type": "code",
   "execution_count": null,
   "id": "30fdceda-d391-4741-bcaa-dd9cd1fe8ea3",
   "metadata": {},
   "outputs": [],
   "source": []
  },
  {
   "cell_type": "code",
   "execution_count": null,
   "id": "ea47332e-fd34-439b-ba5b-3005f1243d76",
   "metadata": {},
   "outputs": [],
   "source": []
  },
  {
   "cell_type": "code",
   "execution_count": null,
   "id": "99da2fcf-a239-4503-8964-e26fe8a4559b",
   "metadata": {},
   "outputs": [],
   "source": []
  },
  {
   "cell_type": "code",
   "execution_count": null,
   "id": "abca0b7d-9cb2-468e-b3cf-3827a25ae739",
   "metadata": {},
   "outputs": [],
   "source": []
  },
  {
   "cell_type": "code",
   "execution_count": null,
   "id": "1babd81a-4c57-4bdd-8404-d617351ce785",
   "metadata": {},
   "outputs": [],
   "source": []
  },
  {
   "cell_type": "code",
   "execution_count": null,
   "id": "d3527781-4994-43d2-beb0-74410c4e0f14",
   "metadata": {},
   "outputs": [],
   "source": []
  },
  {
   "cell_type": "code",
   "execution_count": null,
   "id": "d7c63424-003f-43c5-ba32-87eecd858cc4",
   "metadata": {},
   "outputs": [],
   "source": []
  },
  {
   "cell_type": "code",
   "execution_count": null,
   "id": "46ff648e-83fb-4551-8fd4-eb39a66f8346",
   "metadata": {},
   "outputs": [],
   "source": []
  },
  {
   "cell_type": "code",
   "execution_count": null,
   "id": "14fcc928-accc-419e-ba65-e5793c10e03d",
   "metadata": {},
   "outputs": [],
   "source": []
  },
  {
   "cell_type": "code",
   "execution_count": 237,
   "id": "3d06f0e9-87f3-4633-87bc-abe3b70ee347",
   "metadata": {
    "tags": []
   },
   "outputs": [
    {
     "data": {
      "text/html": [
       "<div>\n",
       "<style scoped>\n",
       "    .dataframe tbody tr th:only-of-type {\n",
       "        vertical-align: middle;\n",
       "    }\n",
       "\n",
       "    .dataframe tbody tr th {\n",
       "        vertical-align: top;\n",
       "    }\n",
       "\n",
       "    .dataframe thead th {\n",
       "        text-align: right;\n",
       "    }\n",
       "</style>\n",
       "<table border=\"1\" class=\"dataframe\">\n",
       "  <thead>\n",
       "    <tr style=\"text-align: right;\">\n",
       "      <th></th>\n",
       "      <th>日令</th>\n",
       "      <th>体重</th>\n",
       "      <th>価格</th>\n",
       "      <th>性別_雄</th>\n",
       "      <th>性別_雌</th>\n",
       "      <th>父牛_久晴茂</th>\n",
       "      <th>父牛_久百合</th>\n",
       "      <th>父牛_久福久</th>\n",
       "      <th>父牛_久茂国</th>\n",
       "      <th>父牛_久茂福</th>\n",
       "      <th>...</th>\n",
       "      <th>母の祖祖父_雲仙丸</th>\n",
       "      <th>母の祖祖父_頼山</th>\n",
       "      <th>母の祖祖父_飛騨白清</th>\n",
       "      <th>母の祖祖父_高栄</th>\n",
       "      <th>母の祖祖父_高森</th>\n",
       "      <th>母の祖祖父_高竜</th>\n",
       "      <th>母の祖祖父_鶴長</th>\n",
       "      <th>母の祖祖父_鶴１６５の９</th>\n",
       "      <th>母の祖祖父_鹿秀土井</th>\n",
       "      <th>母の祖祖父_２１世紀</th>\n",
       "    </tr>\n",
       "  </thead>\n",
       "  <tbody>\n",
       "    <tr>\n",
       "      <th>0</th>\n",
       "      <td>292</td>\n",
       "      <td>276</td>\n",
       "      <td>618200</td>\n",
       "      <td>0</td>\n",
       "      <td>0</td>\n",
       "      <td>0</td>\n",
       "      <td>0</td>\n",
       "      <td>0</td>\n",
       "      <td>0</td>\n",
       "      <td>0</td>\n",
       "      <td>...</td>\n",
       "      <td>0</td>\n",
       "      <td>0</td>\n",
       "      <td>0</td>\n",
       "      <td>0</td>\n",
       "      <td>0</td>\n",
       "      <td>0</td>\n",
       "      <td>0</td>\n",
       "      <td>0</td>\n",
       "      <td>0</td>\n",
       "      <td>0</td>\n",
       "    </tr>\n",
       "    <tr>\n",
       "      <th>1</th>\n",
       "      <td>286</td>\n",
       "      <td>293</td>\n",
       "      <td>782100</td>\n",
       "      <td>0</td>\n",
       "      <td>0</td>\n",
       "      <td>0</td>\n",
       "      <td>0</td>\n",
       "      <td>0</td>\n",
       "      <td>0</td>\n",
       "      <td>0</td>\n",
       "      <td>...</td>\n",
       "      <td>0</td>\n",
       "      <td>0</td>\n",
       "      <td>0</td>\n",
       "      <td>0</td>\n",
       "      <td>0</td>\n",
       "      <td>0</td>\n",
       "      <td>0</td>\n",
       "      <td>0</td>\n",
       "      <td>0</td>\n",
       "      <td>0</td>\n",
       "    </tr>\n",
       "    <tr>\n",
       "      <th>2</th>\n",
       "      <td>297</td>\n",
       "      <td>305</td>\n",
       "      <td>697400</td>\n",
       "      <td>0</td>\n",
       "      <td>1</td>\n",
       "      <td>0</td>\n",
       "      <td>0</td>\n",
       "      <td>0</td>\n",
       "      <td>0</td>\n",
       "      <td>0</td>\n",
       "      <td>...</td>\n",
       "      <td>0</td>\n",
       "      <td>0</td>\n",
       "      <td>0</td>\n",
       "      <td>0</td>\n",
       "      <td>0</td>\n",
       "      <td>0</td>\n",
       "      <td>0</td>\n",
       "      <td>0</td>\n",
       "      <td>0</td>\n",
       "      <td>0</td>\n",
       "    </tr>\n",
       "    <tr>\n",
       "      <th>3</th>\n",
       "      <td>297</td>\n",
       "      <td>258</td>\n",
       "      <td>676500</td>\n",
       "      <td>0</td>\n",
       "      <td>1</td>\n",
       "      <td>0</td>\n",
       "      <td>0</td>\n",
       "      <td>0</td>\n",
       "      <td>0</td>\n",
       "      <td>0</td>\n",
       "      <td>...</td>\n",
       "      <td>0</td>\n",
       "      <td>0</td>\n",
       "      <td>0</td>\n",
       "      <td>0</td>\n",
       "      <td>0</td>\n",
       "      <td>0</td>\n",
       "      <td>0</td>\n",
       "      <td>0</td>\n",
       "      <td>0</td>\n",
       "      <td>0</td>\n",
       "    </tr>\n",
       "    <tr>\n",
       "      <th>4</th>\n",
       "      <td>297</td>\n",
       "      <td>301</td>\n",
       "      <td>712800</td>\n",
       "      <td>0</td>\n",
       "      <td>0</td>\n",
       "      <td>0</td>\n",
       "      <td>0</td>\n",
       "      <td>0</td>\n",
       "      <td>0</td>\n",
       "      <td>0</td>\n",
       "      <td>...</td>\n",
       "      <td>0</td>\n",
       "      <td>0</td>\n",
       "      <td>0</td>\n",
       "      <td>0</td>\n",
       "      <td>0</td>\n",
       "      <td>0</td>\n",
       "      <td>0</td>\n",
       "      <td>0</td>\n",
       "      <td>0</td>\n",
       "      <td>0</td>\n",
       "    </tr>\n",
       "    <tr>\n",
       "      <th>...</th>\n",
       "      <td>...</td>\n",
       "      <td>...</td>\n",
       "      <td>...</td>\n",
       "      <td>...</td>\n",
       "      <td>...</td>\n",
       "      <td>...</td>\n",
       "      <td>...</td>\n",
       "      <td>...</td>\n",
       "      <td>...</td>\n",
       "      <td>...</td>\n",
       "      <td>...</td>\n",
       "      <td>...</td>\n",
       "      <td>...</td>\n",
       "      <td>...</td>\n",
       "      <td>...</td>\n",
       "      <td>...</td>\n",
       "      <td>...</td>\n",
       "      <td>...</td>\n",
       "      <td>...</td>\n",
       "      <td>...</td>\n",
       "      <td>...</td>\n",
       "    </tr>\n",
       "    <tr>\n",
       "      <th>28226</th>\n",
       "      <td>294</td>\n",
       "      <td>314</td>\n",
       "      <td>748000</td>\n",
       "      <td>0</td>\n",
       "      <td>1</td>\n",
       "      <td>0</td>\n",
       "      <td>0</td>\n",
       "      <td>0</td>\n",
       "      <td>0</td>\n",
       "      <td>0</td>\n",
       "      <td>...</td>\n",
       "      <td>0</td>\n",
       "      <td>0</td>\n",
       "      <td>0</td>\n",
       "      <td>0</td>\n",
       "      <td>0</td>\n",
       "      <td>0</td>\n",
       "      <td>0</td>\n",
       "      <td>0</td>\n",
       "      <td>0</td>\n",
       "      <td>0</td>\n",
       "    </tr>\n",
       "    <tr>\n",
       "      <th>28227</th>\n",
       "      <td>290</td>\n",
       "      <td>318</td>\n",
       "      <td>806300</td>\n",
       "      <td>0</td>\n",
       "      <td>1</td>\n",
       "      <td>0</td>\n",
       "      <td>0</td>\n",
       "      <td>0</td>\n",
       "      <td>0</td>\n",
       "      <td>0</td>\n",
       "      <td>...</td>\n",
       "      <td>0</td>\n",
       "      <td>0</td>\n",
       "      <td>0</td>\n",
       "      <td>0</td>\n",
       "      <td>0</td>\n",
       "      <td>0</td>\n",
       "      <td>0</td>\n",
       "      <td>0</td>\n",
       "      <td>0</td>\n",
       "      <td>0</td>\n",
       "    </tr>\n",
       "    <tr>\n",
       "      <th>28228</th>\n",
       "      <td>259</td>\n",
       "      <td>309</td>\n",
       "      <td>871200</td>\n",
       "      <td>0</td>\n",
       "      <td>0</td>\n",
       "      <td>0</td>\n",
       "      <td>0</td>\n",
       "      <td>0</td>\n",
       "      <td>0</td>\n",
       "      <td>0</td>\n",
       "      <td>...</td>\n",
       "      <td>0</td>\n",
       "      <td>0</td>\n",
       "      <td>0</td>\n",
       "      <td>0</td>\n",
       "      <td>0</td>\n",
       "      <td>0</td>\n",
       "      <td>0</td>\n",
       "      <td>0</td>\n",
       "      <td>0</td>\n",
       "      <td>0</td>\n",
       "    </tr>\n",
       "    <tr>\n",
       "      <th>28229</th>\n",
       "      <td>293</td>\n",
       "      <td>353</td>\n",
       "      <td>875600</td>\n",
       "      <td>0</td>\n",
       "      <td>0</td>\n",
       "      <td>0</td>\n",
       "      <td>0</td>\n",
       "      <td>0</td>\n",
       "      <td>0</td>\n",
       "      <td>0</td>\n",
       "      <td>...</td>\n",
       "      <td>0</td>\n",
       "      <td>0</td>\n",
       "      <td>0</td>\n",
       "      <td>0</td>\n",
       "      <td>0</td>\n",
       "      <td>0</td>\n",
       "      <td>0</td>\n",
       "      <td>0</td>\n",
       "      <td>0</td>\n",
       "      <td>0</td>\n",
       "    </tr>\n",
       "    <tr>\n",
       "      <th>28230</th>\n",
       "      <td>288</td>\n",
       "      <td>254</td>\n",
       "      <td>689700</td>\n",
       "      <td>0</td>\n",
       "      <td>1</td>\n",
       "      <td>0</td>\n",
       "      <td>0</td>\n",
       "      <td>0</td>\n",
       "      <td>0</td>\n",
       "      <td>0</td>\n",
       "      <td>...</td>\n",
       "      <td>0</td>\n",
       "      <td>0</td>\n",
       "      <td>0</td>\n",
       "      <td>0</td>\n",
       "      <td>0</td>\n",
       "      <td>0</td>\n",
       "      <td>0</td>\n",
       "      <td>0</td>\n",
       "      <td>0</td>\n",
       "      <td>0</td>\n",
       "    </tr>\n",
       "  </tbody>\n",
       "</table>\n",
       "<p>28231 rows × 1149 columns</p>\n",
       "</div>"
      ],
      "text/plain": [
       "        日令   体重      価格  性別_雄  性別_雌  父牛_久晴茂  父牛_久百合  父牛_久福久  父牛_久茂国  父牛_久茂福  \\\n",
       "0      292  276  618200     0     0       0       0       0       0       0   \n",
       "1      286  293  782100     0     0       0       0       0       0       0   \n",
       "2      297  305  697400     0     1       0       0       0       0       0   \n",
       "3      297  258  676500     0     1       0       0       0       0       0   \n",
       "4      297  301  712800     0     0       0       0       0       0       0   \n",
       "...    ...  ...     ...   ...   ...     ...     ...     ...     ...     ...   \n",
       "28226  294  314  748000     0     1       0       0       0       0       0   \n",
       "28227  290  318  806300     0     1       0       0       0       0       0   \n",
       "28228  259  309  871200     0     0       0       0       0       0       0   \n",
       "28229  293  353  875600     0     0       0       0       0       0       0   \n",
       "28230  288  254  689700     0     1       0       0       0       0       0   \n",
       "\n",
       "       ...  母の祖祖父_雲仙丸  母の祖祖父_頼山  母の祖祖父_飛騨白清  母の祖祖父_高栄  母の祖祖父_高森  母の祖祖父_高竜  \\\n",
       "0      ...          0         0           0         0         0         0   \n",
       "1      ...          0         0           0         0         0         0   \n",
       "2      ...          0         0           0         0         0         0   \n",
       "3      ...          0         0           0         0         0         0   \n",
       "4      ...          0         0           0         0         0         0   \n",
       "...    ...        ...       ...         ...       ...       ...       ...   \n",
       "28226  ...          0         0           0         0         0         0   \n",
       "28227  ...          0         0           0         0         0         0   \n",
       "28228  ...          0         0           0         0         0         0   \n",
       "28229  ...          0         0           0         0         0         0   \n",
       "28230  ...          0         0           0         0         0         0   \n",
       "\n",
       "       母の祖祖父_鶴長  母の祖祖父_鶴１６５の９  母の祖祖父_鹿秀土井  母の祖祖父_２１世紀  \n",
       "0             0             0           0           0  \n",
       "1             0             0           0           0  \n",
       "2             0             0           0           0  \n",
       "3             0             0           0           0  \n",
       "4             0             0           0           0  \n",
       "...         ...           ...         ...         ...  \n",
       "28226         0             0           0           0  \n",
       "28227         0             0           0           0  \n",
       "28228         0             0           0           0  \n",
       "28229         0             0           0           0  \n",
       "28230         0             0           0           0  \n",
       "\n",
       "[28231 rows x 1149 columns]"
      ]
     },
     "execution_count": 237,
     "metadata": {},
     "output_type": "execute_result"
    }
   ],
   "source": [
    "df_dummied = pd.get_dummies(df,drop_first=True)\n",
    "df_dummied"
   ]
  },
  {
   "cell_type": "code",
   "execution_count": 238,
   "id": "65ca9ce9-6b30-4111-b50d-726eee4225b9",
   "metadata": {},
   "outputs": [],
   "source": [
    "from sklearn.metrics import mean_squared_error\n",
    "import xgboost as xgb"
   ]
  },
  {
   "cell_type": "code",
   "execution_count": 239,
   "id": "1e21721a-ef65-4518-a8b7-7e925a0aad5a",
   "metadata": {
    "tags": []
   },
   "outputs": [],
   "source": [
    "X = df_dummied.drop(columns = ['価格'])\n",
    "y = df_dummied['価格']\n",
    "\n",
    "train_X, test_X, train_y, test_y = train_test_split(\n",
    "    X, y, test_size=0.3, random_state=42\n",
    ")"
   ]
  },
  {
   "cell_type": "code",
   "execution_count": 240,
   "id": "44b71f95-297f-498f-9b7a-d83af8e1e184",
   "metadata": {
    "collapsed": true,
    "jupyter": {
     "outputs_hidden": true
    },
    "tags": []
   },
   "outputs": [
    {
     "name": "stdout",
     "output_type": "stream",
     "text": [
      "[0]\ttrain-rmse:528095.48033\tvalid-rmse:529923.14891\n",
      "[1]\ttrain-rmse:378861.35534\tvalid-rmse:381079.23352\n",
      "[2]\ttrain-rmse:277052.22023\tvalid-rmse:279671.48001\n",
      "[3]\ttrain-rmse:209307.19347\tvalid-rmse:212769.55701\n",
      "[4]\ttrain-rmse:165879.65760\tvalid-rmse:170461.59270\n",
      "[5]\ttrain-rmse:139069.43338\tvalid-rmse:144719.75998\n",
      "[6]\ttrain-rmse:123422.86833\tvalid-rmse:129997.54377\n",
      "[7]\ttrain-rmse:113858.33685\tvalid-rmse:120711.72745\n",
      "[8]\ttrain-rmse:108769.05412\tvalid-rmse:116334.64094\n",
      "[9]\ttrain-rmse:106005.74806\tvalid-rmse:114164.30702\n",
      "[10]\ttrain-rmse:104311.08602\tvalid-rmse:113109.13133\n",
      "[11]\ttrain-rmse:103310.58523\tvalid-rmse:112377.93158\n",
      "[12]\ttrain-rmse:102377.20108\tvalid-rmse:111886.28139\n",
      "[13]\ttrain-rmse:101768.65272\tvalid-rmse:111604.64968\n",
      "[14]\ttrain-rmse:101412.18738\tvalid-rmse:111470.04698\n",
      "[15]\ttrain-rmse:101014.79589\tvalid-rmse:111264.55213\n",
      "[16]\ttrain-rmse:100791.90709\tvalid-rmse:111146.59679\n",
      "[17]\ttrain-rmse:100491.44224\tvalid-rmse:110999.59160\n",
      "[18]\ttrain-rmse:100148.39779\tvalid-rmse:110850.46575\n",
      "[19]\ttrain-rmse:99899.43892\tvalid-rmse:110761.97325\n",
      "[20]\ttrain-rmse:99630.59225\tvalid-rmse:110710.47021\n",
      "[21]\ttrain-rmse:99497.19470\tvalid-rmse:110659.65508\n",
      "[22]\ttrain-rmse:99233.90485\tvalid-rmse:110563.35286\n",
      "[23]\ttrain-rmse:99024.68389\tvalid-rmse:110482.24856\n",
      "[24]\ttrain-rmse:98650.83642\tvalid-rmse:110149.06245\n",
      "[25]\ttrain-rmse:98449.95139\tvalid-rmse:110085.19141\n",
      "[26]\ttrain-rmse:98324.42844\tvalid-rmse:110063.68241\n",
      "[27]\ttrain-rmse:97601.38632\tvalid-rmse:109592.92854\n",
      "[28]\ttrain-rmse:97332.07422\tvalid-rmse:109614.62260\n",
      "[29]\ttrain-rmse:97143.43353\tvalid-rmse:109580.84338\n",
      "[30]\ttrain-rmse:96965.56944\tvalid-rmse:109539.24062\n",
      "[31]\ttrain-rmse:96607.42620\tvalid-rmse:109561.16307\n",
      "[32]\ttrain-rmse:96415.96276\tvalid-rmse:109504.56484\n",
      "[33]\ttrain-rmse:96284.74849\tvalid-rmse:109478.72583\n",
      "[34]\ttrain-rmse:96202.24206\tvalid-rmse:109474.43089\n",
      "[35]\ttrain-rmse:96023.34896\tvalid-rmse:109483.81343\n",
      "[36]\ttrain-rmse:95839.00494\tvalid-rmse:109516.23524\n",
      "[37]\ttrain-rmse:95749.99421\tvalid-rmse:109542.53083\n",
      "[38]\ttrain-rmse:95667.63981\tvalid-rmse:109541.51751\n",
      "[39]\ttrain-rmse:95513.30367\tvalid-rmse:109583.27157\n",
      "[40]\ttrain-rmse:95364.98354\tvalid-rmse:109579.71935\n",
      "[41]\ttrain-rmse:95228.16746\tvalid-rmse:109507.64176\n",
      "[42]\ttrain-rmse:95176.86261\tvalid-rmse:109495.26839\n",
      "[43]\ttrain-rmse:95021.16244\tvalid-rmse:109505.25335\n",
      "[44]\ttrain-rmse:94912.70083\tvalid-rmse:109487.77206\n",
      "[45]\ttrain-rmse:94882.31421\tvalid-rmse:109475.92013\n",
      "[46]\ttrain-rmse:94819.04649\tvalid-rmse:109484.54415\n",
      "[47]\ttrain-rmse:94749.74828\tvalid-rmse:109456.67965\n",
      "[48]\ttrain-rmse:94679.86998\tvalid-rmse:109445.11154\n",
      "[49]\ttrain-rmse:94602.65511\tvalid-rmse:109398.51949\n",
      "[50]\ttrain-rmse:94516.87062\tvalid-rmse:109388.27250\n",
      "[51]\ttrain-rmse:94452.83739\tvalid-rmse:109387.42022\n",
      "[52]\ttrain-rmse:94370.41709\tvalid-rmse:109360.45443\n",
      "[53]\ttrain-rmse:94265.43752\tvalid-rmse:109375.77042\n",
      "[54]\ttrain-rmse:94165.68436\tvalid-rmse:109363.80523\n",
      "[55]\ttrain-rmse:94128.41237\tvalid-rmse:109365.32197\n",
      "[56]\ttrain-rmse:94018.98959\tvalid-rmse:109397.90378\n",
      "[57]\ttrain-rmse:93885.78038\tvalid-rmse:109397.88244\n",
      "[58]\ttrain-rmse:93764.23450\tvalid-rmse:109450.63780\n",
      "[59]\ttrain-rmse:93730.09386\tvalid-rmse:109456.46984\n",
      "[60]\ttrain-rmse:93686.71815\tvalid-rmse:109448.55476\n",
      "[61]\ttrain-rmse:93653.44669\tvalid-rmse:109444.74994\n",
      "[62]\ttrain-rmse:93606.58162\tvalid-rmse:109437.67554\n",
      "[63]\ttrain-rmse:93573.50052\tvalid-rmse:109429.30767\n",
      "[64]\ttrain-rmse:93457.06017\tvalid-rmse:109443.15118\n",
      "[65]\ttrain-rmse:93417.84595\tvalid-rmse:109439.51649\n",
      "[66]\ttrain-rmse:93373.63574\tvalid-rmse:109435.05336\n",
      "[67]\ttrain-rmse:93322.84923\tvalid-rmse:109438.79946\n",
      "[68]\ttrain-rmse:93082.24529\tvalid-rmse:109486.81677\n",
      "[69]\ttrain-rmse:92970.09172\tvalid-rmse:109467.23490\n",
      "[70]\ttrain-rmse:92900.03703\tvalid-rmse:109462.85636\n",
      "[71]\ttrain-rmse:92871.51830\tvalid-rmse:109467.59672\n",
      "[72]\ttrain-rmse:92834.41796\tvalid-rmse:109469.62704\n",
      "[73]\ttrain-rmse:92809.33156\tvalid-rmse:109466.79933\n",
      "[74]\ttrain-rmse:92789.89109\tvalid-rmse:109476.31805\n",
      "[75]\ttrain-rmse:92770.45551\tvalid-rmse:109486.14455\n",
      "[76]\ttrain-rmse:92600.52518\tvalid-rmse:109502.41159\n",
      "[77]\ttrain-rmse:92484.71432\tvalid-rmse:109523.29402\n",
      "[78]\ttrain-rmse:92376.14728\tvalid-rmse:109437.26771\n",
      "[79]\ttrain-rmse:92331.31328\tvalid-rmse:109436.78969\n",
      "[80]\ttrain-rmse:92280.91690\tvalid-rmse:109454.77449\n",
      "[81]\ttrain-rmse:92143.16696\tvalid-rmse:109449.07661\n",
      "[82]\ttrain-rmse:92117.49520\tvalid-rmse:109452.95588\n",
      "[83]\ttrain-rmse:92099.83112\tvalid-rmse:109444.73249\n",
      "[84]\ttrain-rmse:92038.43699\tvalid-rmse:109441.58047\n",
      "[85]\ttrain-rmse:92010.06468\tvalid-rmse:109441.65190\n",
      "[86]\ttrain-rmse:91949.39654\tvalid-rmse:109413.70977\n",
      "[87]\ttrain-rmse:91838.43241\tvalid-rmse:109427.22920\n",
      "[88]\ttrain-rmse:91782.31837\tvalid-rmse:109416.67283\n",
      "[89]\ttrain-rmse:91749.32450\tvalid-rmse:109419.52454\n",
      "[90]\ttrain-rmse:91668.57269\tvalid-rmse:109418.44007\n",
      "[91]\ttrain-rmse:91609.83620\tvalid-rmse:109430.04580\n",
      "[92]\ttrain-rmse:91571.82858\tvalid-rmse:109450.69816\n",
      "[93]\ttrain-rmse:91545.42290\tvalid-rmse:109459.13528\n",
      "[94]\ttrain-rmse:91532.27155\tvalid-rmse:109465.74062\n",
      "[95]\ttrain-rmse:91503.24482\tvalid-rmse:109450.98874\n",
      "[96]\ttrain-rmse:91477.26434\tvalid-rmse:109454.14854\n",
      "[97]\ttrain-rmse:91433.46262\tvalid-rmse:109478.46523\n",
      "[98]\ttrain-rmse:91409.08085\tvalid-rmse:109491.81710\n",
      "[99]\ttrain-rmse:91374.54203\tvalid-rmse:109486.81217\n"
     ]
    }
   ],
   "source": [
    "dtrain = xgb.DMatrix(train_X, train_y)\n",
    "dvalid = xgb.DMatrix(test_X, test_y)\n",
    "params = {\n",
    "    \"objective\" : \"reg:squarederror\",\n",
    "    \"eval_metric\" : \"rmse\"\n",
    "}\n",
    "\n",
    "model = xgb.train(\n",
    "    params = params,\n",
    "    dtrain = dtrain,\n",
    "    evals = [(dtrain, \"train\"), (dvalid, \"valid\")],\n",
    "    num_boost_round = 100\n",
    ")\n",
    "\n",
    "pred = model.predict(xgb.DMatrix(test_X))"
   ]
  },
  {
   "cell_type": "code",
   "execution_count": 233,
   "id": "b028da09-a1f1-4279-b5ff-c224391bf9be",
   "metadata": {
    "tags": []
   },
   "outputs": [],
   "source": [
    "with open('cow.pk', 'wb') as p:\n",
    "    pickle.dump(model, p)\n",
    "    \n",
    "with open(\"cow.pk\",mode=\"rb\")as fp:\n",
    "    model=pickle.load(fp)"
   ]
  },
  {
   "cell_type": "code",
   "execution_count": 8,
   "id": "787e6ab5-c716-4306-97ba-937c4a65977c",
   "metadata": {
    "tags": []
   },
   "outputs": [
    {
     "name": "stdin",
     "output_type": "stream",
     "text": [
      "性別を入力してください: 去勢\n",
      "1代祖を入力してください: 百合茂\n",
      "2代祖を入力してください: 安福久\n",
      "3代祖を入力してください: 菊花国\n",
      "4代祖を入力してください: 紋次郎\n",
      "日齢を入力してください: 270\n",
      "体重を入力してください: 300\n"
     ]
    },
    {
     "name": "stderr",
     "output_type": "stream",
     "text": [
      "/var/folders/5w/f6yfy31s1fldqfnxdzv8ycj00000gn/T/ipykernel_51523/3585564614.py:9: FutureWarning: The frame.append method is deprecated and will be removed from pandas in a future version. Use pandas.concat instead.\n",
      "  df = df.append({'性別': sex, '父牛': father, '母の父': gland, '母の祖父': gege, '母の祖祖父': got, '日令': age, '体重': wight, '価格': 1}, ignore_index=True)\n"
     ]
    }
   ],
   "source": [
    "sex = input(\"性別を入力してください:\")\n",
    "father = input(\"1代祖を入力してください:\")\n",
    "gland = input(\"2代祖を入力してください:\")\n",
    "gege = input(\"3代祖を入力してください:\")\n",
    "got = input(\"4代祖を入力してください:\")\n",
    "age = input(\"日齢を入力してください:\")\n",
    "wight = input(\"体重を入力してください:\")\n",
    "\n",
    "df = df.append({'性別': sex, '父牛': father, '母の父': gland, '母の祖父': gege, '母の祖祖父': got, '日令': age, '体重': wight, '価格': 1}, ignore_index=True)"
   ]
  },
  {
   "cell_type": "code",
   "execution_count": 9,
   "id": "61beed1b-c2d4-4438-ab38-7009309eb66e",
   "metadata": {},
   "outputs": [
    {
     "data": {
      "text/html": [
       "<div>\n",
       "<style scoped>\n",
       "    .dataframe tbody tr th:only-of-type {\n",
       "        vertical-align: middle;\n",
       "    }\n",
       "\n",
       "    .dataframe tbody tr th {\n",
       "        vertical-align: top;\n",
       "    }\n",
       "\n",
       "    .dataframe thead th {\n",
       "        text-align: right;\n",
       "    }\n",
       "</style>\n",
       "<table border=\"1\" class=\"dataframe\">\n",
       "  <thead>\n",
       "    <tr style=\"text-align: right;\">\n",
       "      <th></th>\n",
       "      <th>価格</th>\n",
       "      <th>性別_去勢</th>\n",
       "      <th>性別_雄</th>\n",
       "      <th>性別_雌</th>\n",
       "      <th>父牛_久富福</th>\n",
       "      <th>父牛_久晴茂</th>\n",
       "      <th>父牛_久百合</th>\n",
       "      <th>父牛_久福久</th>\n",
       "      <th>父牛_久茂国</th>\n",
       "      <th>父牛_久茂福</th>\n",
       "      <th>...</th>\n",
       "      <th>体重_439</th>\n",
       "      <th>体重_441</th>\n",
       "      <th>体重_443</th>\n",
       "      <th>体重_444</th>\n",
       "      <th>体重_447</th>\n",
       "      <th>体重_448</th>\n",
       "      <th>体重_452</th>\n",
       "      <th>体重_470</th>\n",
       "      <th>体重_479</th>\n",
       "      <th>体重_300</th>\n",
       "    </tr>\n",
       "  </thead>\n",
       "  <tbody>\n",
       "    <tr>\n",
       "      <th>28231</th>\n",
       "      <td>1</td>\n",
       "      <td>1</td>\n",
       "      <td>0</td>\n",
       "      <td>0</td>\n",
       "      <td>0</td>\n",
       "      <td>0</td>\n",
       "      <td>0</td>\n",
       "      <td>0</td>\n",
       "      <td>0</td>\n",
       "      <td>0</td>\n",
       "      <td>...</td>\n",
       "      <td>0</td>\n",
       "      <td>0</td>\n",
       "      <td>0</td>\n",
       "      <td>0</td>\n",
       "      <td>0</td>\n",
       "      <td>0</td>\n",
       "      <td>0</td>\n",
       "      <td>0</td>\n",
       "      <td>0</td>\n",
       "      <td>1</td>\n",
       "    </tr>\n",
       "  </tbody>\n",
       "</table>\n",
       "<p>1 rows × 1580 columns</p>\n",
       "</div>"
      ],
      "text/plain": [
       "       価格  性別_去勢  性別_雄  性別_雌  父牛_久富福  父牛_久晴茂  父牛_久百合  父牛_久福久  父牛_久茂国  父牛_久茂福  \\\n",
       "28231   1      1     0     0       0       0       0       0       0       0   \n",
       "\n",
       "       ...  体重_439  体重_441  体重_443  体重_444  体重_447  体重_448  体重_452  体重_470  \\\n",
       "28231  ...       0       0       0       0       0       0       0       0   \n",
       "\n",
       "       体重_479  体重_300  \n",
       "28231       0       1  \n",
       "\n",
       "[1 rows x 1580 columns]"
      ]
     },
     "execution_count": 9,
     "metadata": {},
     "output_type": "execute_result"
    }
   ],
   "source": [
    "df = pd.get_dummies(df)\n",
    "df.tail(1)"
   ]
  },
  {
   "cell_type": "code",
   "execution_count": 10,
   "id": "6157b037-7fab-4dbd-a332-1ebffd7de261",
   "metadata": {},
   "outputs": [],
   "source": [
    "def price_predict(df):\n",
    "    column = df.columns[5:]\n",
    "\n",
    "    for col in column:\n",
    "        df[col] = df[col].astype('int')\n",
    "\n",
    "    df_dummied = pd.get_dummies(df)\n",
    "\n",
    "    e = df_dummied.tail(1)\n",
    "\n",
    "    a = e.drop(columns = ['価格'])\n",
    "    d = model.predict(xgb.DMatrix(a)) \n",
    "    df = df[:-1]\n",
    "    return int(d),df"
   ]
  },
  {
   "cell_type": "code",
   "execution_count": 11,
   "id": "bd105009-7f7a-464a-ac0d-f0e058cb2529",
   "metadata": {
    "collapsed": true,
    "jupyter": {
     "outputs_hidden": true
    },
    "tags": []
   },
   "outputs": [
    {
     "ename": "KeyboardInterrupt",
     "evalue": "",
     "output_type": "error",
     "traceback": [
      "\u001b[0;31m---------------------------------------------------------------------------\u001b[0m",
      "\u001b[0;31mKeyboardInterrupt\u001b[0m                         Traceback (most recent call last)",
      "\u001b[0;32m/var/folders/5w/f6yfy31s1fldqfnxdzv8ycj00000gn/T/ipykernel_51523/3134370700.py\u001b[0m in \u001b[0;36m<module>\u001b[0;34m\u001b[0m\n\u001b[0;32m----> 1\u001b[0;31m \u001b[0mprice_predict\u001b[0m\u001b[0;34m(\u001b[0m\u001b[0mdf\u001b[0m\u001b[0;34m)\u001b[0m\u001b[0;34m[\u001b[0m\u001b[0;36m0\u001b[0m\u001b[0;34m]\u001b[0m\u001b[0;34m\u001b[0m\u001b[0;34m\u001b[0m\u001b[0m\n\u001b[0m",
      "\u001b[0;32m/var/folders/5w/f6yfy31s1fldqfnxdzv8ycj00000gn/T/ipykernel_51523/1317742516.py\u001b[0m in \u001b[0;36mprice_predict\u001b[0;34m(df)\u001b[0m\n\u001b[1;32m      3\u001b[0m \u001b[0;34m\u001b[0m\u001b[0m\n\u001b[1;32m      4\u001b[0m     \u001b[0;32mfor\u001b[0m \u001b[0mcol\u001b[0m \u001b[0;32min\u001b[0m \u001b[0mcolumn\u001b[0m\u001b[0;34m:\u001b[0m\u001b[0;34m\u001b[0m\u001b[0;34m\u001b[0m\u001b[0m\n\u001b[0;32m----> 5\u001b[0;31m         \u001b[0mdf\u001b[0m\u001b[0;34m[\u001b[0m\u001b[0mcol\u001b[0m\u001b[0;34m]\u001b[0m \u001b[0;34m=\u001b[0m \u001b[0mdf\u001b[0m\u001b[0;34m[\u001b[0m\u001b[0mcol\u001b[0m\u001b[0;34m]\u001b[0m\u001b[0;34m.\u001b[0m\u001b[0mastype\u001b[0m\u001b[0;34m(\u001b[0m\u001b[0;34m'int'\u001b[0m\u001b[0;34m)\u001b[0m\u001b[0;34m\u001b[0m\u001b[0;34m\u001b[0m\u001b[0m\n\u001b[0m\u001b[1;32m      6\u001b[0m \u001b[0;34m\u001b[0m\u001b[0m\n\u001b[1;32m      7\u001b[0m     \u001b[0mdf_dummied\u001b[0m \u001b[0;34m=\u001b[0m \u001b[0mpd\u001b[0m\u001b[0;34m.\u001b[0m\u001b[0mget_dummies\u001b[0m\u001b[0;34m(\u001b[0m\u001b[0mdf\u001b[0m\u001b[0;34m)\u001b[0m\u001b[0;34m\u001b[0m\u001b[0;34m\u001b[0m\u001b[0m\n",
      "\u001b[0;32m/opt/anaconda3/lib/python3.9/site-packages/pandas/core/frame.py\u001b[0m in \u001b[0;36m__getitem__\u001b[0;34m(self, key)\u001b[0m\n\u001b[1;32m   3515\u001b[0m             \u001b[0mindexer\u001b[0m \u001b[0;34m=\u001b[0m \u001b[0mnp\u001b[0m\u001b[0;34m.\u001b[0m\u001b[0mwhere\u001b[0m\u001b[0;34m(\u001b[0m\u001b[0mindexer\u001b[0m\u001b[0;34m)\u001b[0m\u001b[0;34m[\u001b[0m\u001b[0;36m0\u001b[0m\u001b[0;34m]\u001b[0m\u001b[0;34m\u001b[0m\u001b[0;34m\u001b[0m\u001b[0m\n\u001b[1;32m   3516\u001b[0m \u001b[0;34m\u001b[0m\u001b[0m\n\u001b[0;32m-> 3517\u001b[0;31m         \u001b[0mdata\u001b[0m \u001b[0;34m=\u001b[0m \u001b[0mself\u001b[0m\u001b[0;34m.\u001b[0m\u001b[0m_take_with_is_copy\u001b[0m\u001b[0;34m(\u001b[0m\u001b[0mindexer\u001b[0m\u001b[0;34m,\u001b[0m \u001b[0maxis\u001b[0m\u001b[0;34m=\u001b[0m\u001b[0;36m1\u001b[0m\u001b[0;34m)\u001b[0m\u001b[0;34m\u001b[0m\u001b[0;34m\u001b[0m\u001b[0m\n\u001b[0m\u001b[1;32m   3518\u001b[0m \u001b[0;34m\u001b[0m\u001b[0m\n\u001b[1;32m   3519\u001b[0m         \u001b[0;32mif\u001b[0m \u001b[0mis_single_key\u001b[0m\u001b[0;34m:\u001b[0m\u001b[0;34m\u001b[0m\u001b[0;34m\u001b[0m\u001b[0m\n",
      "\u001b[0;32m/opt/anaconda3/lib/python3.9/site-packages/pandas/core/generic.py\u001b[0m in \u001b[0;36m_take_with_is_copy\u001b[0;34m(self, indices, axis)\u001b[0m\n\u001b[1;32m   3714\u001b[0m         \u001b[0mSee\u001b[0m \u001b[0mthe\u001b[0m \u001b[0mdocstring\u001b[0m \u001b[0mof\u001b[0m\u001b[0;31m \u001b[0m\u001b[0;31m`\u001b[0m\u001b[0mtake\u001b[0m\u001b[0;31m`\u001b[0m \u001b[0;32mfor\u001b[0m \u001b[0mfull\u001b[0m \u001b[0mexplanation\u001b[0m \u001b[0mof\u001b[0m \u001b[0mthe\u001b[0m \u001b[0mparameters\u001b[0m\u001b[0;34m.\u001b[0m\u001b[0;34m\u001b[0m\u001b[0;34m\u001b[0m\u001b[0m\n\u001b[1;32m   3715\u001b[0m         \"\"\"\n\u001b[0;32m-> 3716\u001b[0;31m         \u001b[0mresult\u001b[0m \u001b[0;34m=\u001b[0m \u001b[0mself\u001b[0m\u001b[0;34m.\u001b[0m\u001b[0mtake\u001b[0m\u001b[0;34m(\u001b[0m\u001b[0mindices\u001b[0m\u001b[0;34m=\u001b[0m\u001b[0mindices\u001b[0m\u001b[0;34m,\u001b[0m \u001b[0maxis\u001b[0m\u001b[0;34m=\u001b[0m\u001b[0maxis\u001b[0m\u001b[0;34m)\u001b[0m\u001b[0;34m\u001b[0m\u001b[0;34m\u001b[0m\u001b[0m\n\u001b[0m\u001b[1;32m   3717\u001b[0m         \u001b[0;31m# Maybe set copy if we didn't actually change the index.\u001b[0m\u001b[0;34m\u001b[0m\u001b[0;34m\u001b[0m\u001b[0m\n\u001b[1;32m   3718\u001b[0m         \u001b[0;32mif\u001b[0m \u001b[0;32mnot\u001b[0m \u001b[0mresult\u001b[0m\u001b[0;34m.\u001b[0m\u001b[0m_get_axis\u001b[0m\u001b[0;34m(\u001b[0m\u001b[0maxis\u001b[0m\u001b[0;34m)\u001b[0m\u001b[0;34m.\u001b[0m\u001b[0mequals\u001b[0m\u001b[0;34m(\u001b[0m\u001b[0mself\u001b[0m\u001b[0;34m.\u001b[0m\u001b[0m_get_axis\u001b[0m\u001b[0;34m(\u001b[0m\u001b[0maxis\u001b[0m\u001b[0;34m)\u001b[0m\u001b[0;34m)\u001b[0m\u001b[0;34m:\u001b[0m\u001b[0;34m\u001b[0m\u001b[0;34m\u001b[0m\u001b[0m\n",
      "\u001b[0;32m/opt/anaconda3/lib/python3.9/site-packages/pandas/core/generic.py\u001b[0m in \u001b[0;36mtake\u001b[0;34m(self, indices, axis, is_copy, **kwargs)\u001b[0m\n\u001b[1;32m   3699\u001b[0m         \u001b[0mnv\u001b[0m\u001b[0;34m.\u001b[0m\u001b[0mvalidate_take\u001b[0m\u001b[0;34m(\u001b[0m\u001b[0;34m(\u001b[0m\u001b[0;34m)\u001b[0m\u001b[0;34m,\u001b[0m \u001b[0mkwargs\u001b[0m\u001b[0;34m)\u001b[0m\u001b[0;34m\u001b[0m\u001b[0;34m\u001b[0m\u001b[0m\n\u001b[1;32m   3700\u001b[0m \u001b[0;34m\u001b[0m\u001b[0m\n\u001b[0;32m-> 3701\u001b[0;31m         \u001b[0mself\u001b[0m\u001b[0;34m.\u001b[0m\u001b[0m_consolidate_inplace\u001b[0m\u001b[0;34m(\u001b[0m\u001b[0;34m)\u001b[0m\u001b[0;34m\u001b[0m\u001b[0;34m\u001b[0m\u001b[0m\n\u001b[0m\u001b[1;32m   3702\u001b[0m \u001b[0;34m\u001b[0m\u001b[0m\n\u001b[1;32m   3703\u001b[0m         new_data = self._mgr.take(\n",
      "\u001b[0;32m/opt/anaconda3/lib/python3.9/site-packages/pandas/core/generic.py\u001b[0m in \u001b[0;36m_consolidate_inplace\u001b[0;34m(self)\u001b[0m\n\u001b[1;32m   5651\u001b[0m             \u001b[0mself\u001b[0m\u001b[0;34m.\u001b[0m\u001b[0m_mgr\u001b[0m \u001b[0;34m=\u001b[0m \u001b[0mself\u001b[0m\u001b[0;34m.\u001b[0m\u001b[0m_mgr\u001b[0m\u001b[0;34m.\u001b[0m\u001b[0mconsolidate\u001b[0m\u001b[0;34m(\u001b[0m\u001b[0;34m)\u001b[0m\u001b[0;34m\u001b[0m\u001b[0;34m\u001b[0m\u001b[0m\n\u001b[1;32m   5652\u001b[0m \u001b[0;34m\u001b[0m\u001b[0m\n\u001b[0;32m-> 5653\u001b[0;31m         \u001b[0mself\u001b[0m\u001b[0;34m.\u001b[0m\u001b[0m_protect_consolidate\u001b[0m\u001b[0;34m(\u001b[0m\u001b[0mf\u001b[0m\u001b[0;34m)\u001b[0m\u001b[0;34m\u001b[0m\u001b[0;34m\u001b[0m\u001b[0m\n\u001b[0m\u001b[1;32m   5654\u001b[0m \u001b[0;34m\u001b[0m\u001b[0m\n\u001b[1;32m   5655\u001b[0m     \u001b[0;34m@\u001b[0m\u001b[0mfinal\u001b[0m\u001b[0;34m\u001b[0m\u001b[0;34m\u001b[0m\u001b[0m\n",
      "\u001b[0;32m/opt/anaconda3/lib/python3.9/site-packages/pandas/core/generic.py\u001b[0m in \u001b[0;36m_protect_consolidate\u001b[0;34m(self, f)\u001b[0m\n\u001b[1;32m   5639\u001b[0m             \u001b[0;32mreturn\u001b[0m \u001b[0mf\u001b[0m\u001b[0;34m(\u001b[0m\u001b[0;34m)\u001b[0m\u001b[0;34m\u001b[0m\u001b[0;34m\u001b[0m\u001b[0m\n\u001b[1;32m   5640\u001b[0m         \u001b[0mblocks_before\u001b[0m \u001b[0;34m=\u001b[0m \u001b[0mlen\u001b[0m\u001b[0;34m(\u001b[0m\u001b[0mself\u001b[0m\u001b[0;34m.\u001b[0m\u001b[0m_mgr\u001b[0m\u001b[0;34m.\u001b[0m\u001b[0mblocks\u001b[0m\u001b[0;34m)\u001b[0m\u001b[0;34m\u001b[0m\u001b[0;34m\u001b[0m\u001b[0m\n\u001b[0;32m-> 5641\u001b[0;31m         \u001b[0mresult\u001b[0m \u001b[0;34m=\u001b[0m \u001b[0mf\u001b[0m\u001b[0;34m(\u001b[0m\u001b[0;34m)\u001b[0m\u001b[0;34m\u001b[0m\u001b[0;34m\u001b[0m\u001b[0m\n\u001b[0m\u001b[1;32m   5642\u001b[0m         \u001b[0;32mif\u001b[0m \u001b[0mlen\u001b[0m\u001b[0;34m(\u001b[0m\u001b[0mself\u001b[0m\u001b[0;34m.\u001b[0m\u001b[0m_mgr\u001b[0m\u001b[0;34m.\u001b[0m\u001b[0mblocks\u001b[0m\u001b[0;34m)\u001b[0m \u001b[0;34m!=\u001b[0m \u001b[0mblocks_before\u001b[0m\u001b[0;34m:\u001b[0m\u001b[0;34m\u001b[0m\u001b[0;34m\u001b[0m\u001b[0m\n\u001b[1;32m   5643\u001b[0m             \u001b[0mself\u001b[0m\u001b[0;34m.\u001b[0m\u001b[0m_clear_item_cache\u001b[0m\u001b[0;34m(\u001b[0m\u001b[0;34m)\u001b[0m\u001b[0;34m\u001b[0m\u001b[0;34m\u001b[0m\u001b[0m\n",
      "\u001b[0;32m/opt/anaconda3/lib/python3.9/site-packages/pandas/core/generic.py\u001b[0m in \u001b[0;36mf\u001b[0;34m()\u001b[0m\n\u001b[1;32m   5649\u001b[0m \u001b[0;34m\u001b[0m\u001b[0m\n\u001b[1;32m   5650\u001b[0m         \u001b[0;32mdef\u001b[0m \u001b[0mf\u001b[0m\u001b[0;34m(\u001b[0m\u001b[0;34m)\u001b[0m\u001b[0;34m:\u001b[0m\u001b[0;34m\u001b[0m\u001b[0;34m\u001b[0m\u001b[0m\n\u001b[0;32m-> 5651\u001b[0;31m             \u001b[0mself\u001b[0m\u001b[0;34m.\u001b[0m\u001b[0m_mgr\u001b[0m \u001b[0;34m=\u001b[0m \u001b[0mself\u001b[0m\u001b[0;34m.\u001b[0m\u001b[0m_mgr\u001b[0m\u001b[0;34m.\u001b[0m\u001b[0mconsolidate\u001b[0m\u001b[0;34m(\u001b[0m\u001b[0;34m)\u001b[0m\u001b[0;34m\u001b[0m\u001b[0;34m\u001b[0m\u001b[0m\n\u001b[0m\u001b[1;32m   5652\u001b[0m \u001b[0;34m\u001b[0m\u001b[0m\n\u001b[1;32m   5653\u001b[0m         \u001b[0mself\u001b[0m\u001b[0;34m.\u001b[0m\u001b[0m_protect_consolidate\u001b[0m\u001b[0;34m(\u001b[0m\u001b[0mf\u001b[0m\u001b[0;34m)\u001b[0m\u001b[0;34m\u001b[0m\u001b[0;34m\u001b[0m\u001b[0m\n",
      "\u001b[0;32m/opt/anaconda3/lib/python3.9/site-packages/pandas/core/internals/managers.py\u001b[0m in \u001b[0;36mconsolidate\u001b[0;34m(self)\u001b[0m\n\u001b[1;32m    629\u001b[0m         \u001b[0mbm\u001b[0m \u001b[0;34m=\u001b[0m \u001b[0mtype\u001b[0m\u001b[0;34m(\u001b[0m\u001b[0mself\u001b[0m\u001b[0;34m)\u001b[0m\u001b[0;34m(\u001b[0m\u001b[0mself\u001b[0m\u001b[0;34m.\u001b[0m\u001b[0mblocks\u001b[0m\u001b[0;34m,\u001b[0m \u001b[0mself\u001b[0m\u001b[0;34m.\u001b[0m\u001b[0maxes\u001b[0m\u001b[0;34m,\u001b[0m \u001b[0mverify_integrity\u001b[0m\u001b[0;34m=\u001b[0m\u001b[0;32mFalse\u001b[0m\u001b[0;34m)\u001b[0m\u001b[0;34m\u001b[0m\u001b[0;34m\u001b[0m\u001b[0m\n\u001b[1;32m    630\u001b[0m         \u001b[0mbm\u001b[0m\u001b[0;34m.\u001b[0m\u001b[0m_is_consolidated\u001b[0m \u001b[0;34m=\u001b[0m \u001b[0;32mFalse\u001b[0m\u001b[0;34m\u001b[0m\u001b[0;34m\u001b[0m\u001b[0m\n\u001b[0;32m--> 631\u001b[0;31m         \u001b[0mbm\u001b[0m\u001b[0;34m.\u001b[0m\u001b[0m_consolidate_inplace\u001b[0m\u001b[0;34m(\u001b[0m\u001b[0;34m)\u001b[0m\u001b[0;34m\u001b[0m\u001b[0;34m\u001b[0m\u001b[0m\n\u001b[0m\u001b[1;32m    632\u001b[0m         \u001b[0;32mreturn\u001b[0m \u001b[0mbm\u001b[0m\u001b[0;34m\u001b[0m\u001b[0;34m\u001b[0m\u001b[0m\n\u001b[1;32m    633\u001b[0m \u001b[0;34m\u001b[0m\u001b[0m\n",
      "\u001b[0;32m/opt/anaconda3/lib/python3.9/site-packages/pandas/core/internals/managers.py\u001b[0m in \u001b[0;36m_consolidate_inplace\u001b[0;34m(self)\u001b[0m\n\u001b[1;32m   1683\u001b[0m     \u001b[0;32mdef\u001b[0m \u001b[0m_consolidate_inplace\u001b[0m\u001b[0;34m(\u001b[0m\u001b[0mself\u001b[0m\u001b[0;34m)\u001b[0m \u001b[0;34m->\u001b[0m \u001b[0;32mNone\u001b[0m\u001b[0;34m:\u001b[0m\u001b[0;34m\u001b[0m\u001b[0;34m\u001b[0m\u001b[0m\n\u001b[1;32m   1684\u001b[0m         \u001b[0;32mif\u001b[0m \u001b[0;32mnot\u001b[0m \u001b[0mself\u001b[0m\u001b[0;34m.\u001b[0m\u001b[0mis_consolidated\u001b[0m\u001b[0;34m(\u001b[0m\u001b[0;34m)\u001b[0m\u001b[0;34m:\u001b[0m\u001b[0;34m\u001b[0m\u001b[0;34m\u001b[0m\u001b[0m\n\u001b[0;32m-> 1685\u001b[0;31m             \u001b[0mself\u001b[0m\u001b[0;34m.\u001b[0m\u001b[0mblocks\u001b[0m \u001b[0;34m=\u001b[0m \u001b[0mtuple\u001b[0m\u001b[0;34m(\u001b[0m\u001b[0m_consolidate\u001b[0m\u001b[0;34m(\u001b[0m\u001b[0mself\u001b[0m\u001b[0;34m.\u001b[0m\u001b[0mblocks\u001b[0m\u001b[0;34m)\u001b[0m\u001b[0;34m)\u001b[0m\u001b[0;34m\u001b[0m\u001b[0;34m\u001b[0m\u001b[0m\n\u001b[0m\u001b[1;32m   1686\u001b[0m             \u001b[0mself\u001b[0m\u001b[0;34m.\u001b[0m\u001b[0m_is_consolidated\u001b[0m \u001b[0;34m=\u001b[0m \u001b[0;32mTrue\u001b[0m\u001b[0;34m\u001b[0m\u001b[0;34m\u001b[0m\u001b[0m\n\u001b[1;32m   1687\u001b[0m             \u001b[0mself\u001b[0m\u001b[0;34m.\u001b[0m\u001b[0m_known_consolidated\u001b[0m \u001b[0;34m=\u001b[0m \u001b[0;32mTrue\u001b[0m\u001b[0;34m\u001b[0m\u001b[0;34m\u001b[0m\u001b[0m\n",
      "\u001b[0;32m/opt/anaconda3/lib/python3.9/site-packages/pandas/core/internals/managers.py\u001b[0m in \u001b[0;36m_consolidate\u001b[0;34m(blocks)\u001b[0m\n\u001b[1;32m   2082\u001b[0m     \u001b[0mnew_blocks\u001b[0m\u001b[0;34m:\u001b[0m \u001b[0mlist\u001b[0m\u001b[0;34m[\u001b[0m\u001b[0mBlock\u001b[0m\u001b[0;34m]\u001b[0m \u001b[0;34m=\u001b[0m \u001b[0;34m[\u001b[0m\u001b[0;34m]\u001b[0m\u001b[0;34m\u001b[0m\u001b[0;34m\u001b[0m\u001b[0m\n\u001b[1;32m   2083\u001b[0m     \u001b[0;32mfor\u001b[0m \u001b[0;34m(\u001b[0m\u001b[0m_can_consolidate\u001b[0m\u001b[0;34m,\u001b[0m \u001b[0mdtype\u001b[0m\u001b[0;34m)\u001b[0m\u001b[0;34m,\u001b[0m \u001b[0mgroup_blocks\u001b[0m \u001b[0;32min\u001b[0m \u001b[0mgrouper\u001b[0m\u001b[0;34m:\u001b[0m\u001b[0;34m\u001b[0m\u001b[0;34m\u001b[0m\u001b[0m\n\u001b[0;32m-> 2084\u001b[0;31m         merged_blocks = _merge_blocks(\n\u001b[0m\u001b[1;32m   2085\u001b[0m             \u001b[0mlist\u001b[0m\u001b[0;34m(\u001b[0m\u001b[0mgroup_blocks\u001b[0m\u001b[0;34m)\u001b[0m\u001b[0;34m,\u001b[0m \u001b[0mdtype\u001b[0m\u001b[0;34m=\u001b[0m\u001b[0mdtype\u001b[0m\u001b[0;34m,\u001b[0m \u001b[0mcan_consolidate\u001b[0m\u001b[0;34m=\u001b[0m\u001b[0m_can_consolidate\u001b[0m\u001b[0;34m\u001b[0m\u001b[0;34m\u001b[0m\u001b[0m\n\u001b[1;32m   2086\u001b[0m         )\n",
      "\u001b[0;32m/opt/anaconda3/lib/python3.9/site-packages/pandas/core/internals/managers.py\u001b[0m in \u001b[0;36m_merge_blocks\u001b[0;34m(blocks, dtype, can_consolidate)\u001b[0m\n\u001b[1;32m   2116\u001b[0m \u001b[0;34m\u001b[0m\u001b[0m\n\u001b[1;32m   2117\u001b[0m         \u001b[0margsort\u001b[0m \u001b[0;34m=\u001b[0m \u001b[0mnp\u001b[0m\u001b[0;34m.\u001b[0m\u001b[0margsort\u001b[0m\u001b[0;34m(\u001b[0m\u001b[0mnew_mgr_locs\u001b[0m\u001b[0;34m)\u001b[0m\u001b[0;34m\u001b[0m\u001b[0;34m\u001b[0m\u001b[0m\n\u001b[0;32m-> 2118\u001b[0;31m         \u001b[0mnew_values\u001b[0m \u001b[0;34m=\u001b[0m \u001b[0mnew_values\u001b[0m\u001b[0;34m[\u001b[0m\u001b[0margsort\u001b[0m\u001b[0;34m]\u001b[0m\u001b[0;34m\u001b[0m\u001b[0;34m\u001b[0m\u001b[0m\n\u001b[0m\u001b[1;32m   2119\u001b[0m         \u001b[0mnew_mgr_locs\u001b[0m \u001b[0;34m=\u001b[0m \u001b[0mnew_mgr_locs\u001b[0m\u001b[0;34m[\u001b[0m\u001b[0margsort\u001b[0m\u001b[0;34m]\u001b[0m\u001b[0;34m\u001b[0m\u001b[0;34m\u001b[0m\u001b[0m\n\u001b[1;32m   2120\u001b[0m \u001b[0;34m\u001b[0m\u001b[0m\n",
      "\u001b[0;31mKeyboardInterrupt\u001b[0m: "
     ]
    }
   ],
   "source": [
    "price_predict(df)[0]"
   ]
  },
  {
   "cell_type": "code",
   "execution_count": null,
   "id": "85fa434a-d6a4-4391-88cc-0b40cead598c",
   "metadata": {},
   "outputs": [],
   "source": [
    "df = price_predict(df)[1]"
   ]
  },
  {
   "cell_type": "code",
   "execution_count": 24,
   "id": "23121f52-b0f7-4d5a-a513-c775cd77fc40",
   "metadata": {},
   "outputs": [
    {
     "data": {
      "text/html": [
       "<div>\n",
       "<style scoped>\n",
       "    .dataframe tbody tr th:only-of-type {\n",
       "        vertical-align: middle;\n",
       "    }\n",
       "\n",
       "    .dataframe tbody tr th {\n",
       "        vertical-align: top;\n",
       "    }\n",
       "\n",
       "    .dataframe thead th {\n",
       "        text-align: right;\n",
       "    }\n",
       "</style>\n",
       "<table border=\"1\" class=\"dataframe\">\n",
       "  <thead>\n",
       "    <tr style=\"text-align: right;\">\n",
       "      <th></th>\n",
       "      <th>性別</th>\n",
       "      <th>父牛</th>\n",
       "      <th>母の父</th>\n",
       "      <th>母の祖父</th>\n",
       "      <th>母の祖祖父</th>\n",
       "      <th>日令</th>\n",
       "      <th>体重</th>\n",
       "      <th>価格</th>\n",
       "    </tr>\n",
       "  </thead>\n",
       "  <tbody>\n",
       "    <tr>\n",
       "      <th>28226</th>\n",
       "      <td>雌</td>\n",
       "      <td>諒太郎</td>\n",
       "      <td>福栄</td>\n",
       "      <td>平茂勝</td>\n",
       "      <td>安平</td>\n",
       "      <td>294</td>\n",
       "      <td>314</td>\n",
       "      <td>748000</td>\n",
       "    </tr>\n",
       "    <tr>\n",
       "      <th>28227</th>\n",
       "      <td>雌</td>\n",
       "      <td>諒太郎</td>\n",
       "      <td>福之国</td>\n",
       "      <td>福桜（宮）</td>\n",
       "      <td>安平</td>\n",
       "      <td>290</td>\n",
       "      <td>318</td>\n",
       "      <td>806300</td>\n",
       "    </tr>\n",
       "    <tr>\n",
       "      <th>28228</th>\n",
       "      <td>去勢</td>\n",
       "      <td>諒太郎</td>\n",
       "      <td>平茂晴</td>\n",
       "      <td>安糸福</td>\n",
       "      <td>北国７の８</td>\n",
       "      <td>259</td>\n",
       "      <td>309</td>\n",
       "      <td>871200</td>\n",
       "    </tr>\n",
       "    <tr>\n",
       "      <th>28229</th>\n",
       "      <td>去勢</td>\n",
       "      <td>諒太郎</td>\n",
       "      <td>隆之国</td>\n",
       "      <td>安福久</td>\n",
       "      <td>平茂勝</td>\n",
       "      <td>293</td>\n",
       "      <td>353</td>\n",
       "      <td>875600</td>\n",
       "    </tr>\n",
       "    <tr>\n",
       "      <th>28230</th>\n",
       "      <td>雌</td>\n",
       "      <td>鈴音</td>\n",
       "      <td>美津照重</td>\n",
       "      <td>第１花国</td>\n",
       "      <td>紋次郎</td>\n",
       "      <td>288</td>\n",
       "      <td>254</td>\n",
       "      <td>689700</td>\n",
       "    </tr>\n",
       "  </tbody>\n",
       "</table>\n",
       "</div>"
      ],
      "text/plain": [
       "       性別   父牛   母の父   母の祖父  母の祖祖父   日令   体重      価格\n",
       "28226   雌  諒太郎    福栄    平茂勝     安平  294  314  748000\n",
       "28227   雌  諒太郎   福之国  福桜（宮）     安平  290  318  806300\n",
       "28228  去勢  諒太郎   平茂晴    安糸福  北国７の８  259  309  871200\n",
       "28229  去勢  諒太郎   隆之国    安福久    平茂勝  293  353  875600\n",
       "28230   雌   鈴音  美津照重   第１花国    紋次郎  288  254  689700"
      ]
     },
     "execution_count": 24,
     "metadata": {},
     "output_type": "execute_result"
    }
   ],
   "source": [
    "df.tail()"
   ]
  },
  {
   "cell_type": "code",
   "execution_count": null,
   "id": "d87e84e4-5b1a-4464-b038-cc9894f8b9fd",
   "metadata": {},
   "outputs": [],
   "source": []
  }
 ],
 "metadata": {
  "kernelspec": {
   "display_name": "Python 3 (ipykernel)",
   "language": "python",
   "name": "python3"
  },
  "language_info": {
   "codemirror_mode": {
    "name": "ipython",
    "version": 3
   },
   "file_extension": ".py",
   "mimetype": "text/x-python",
   "name": "python",
   "nbconvert_exporter": "python",
   "pygments_lexer": "ipython3",
   "version": "3.9.7"
  }
 },
 "nbformat": 4,
 "nbformat_minor": 5
}
