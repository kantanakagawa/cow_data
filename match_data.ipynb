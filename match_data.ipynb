{
 "cells": [
  {
   "cell_type": "code",
   "execution_count": 2,
   "id": "67c13e8b-887f-4e2c-a642-0c8fc488cf42",
   "metadata": {},
   "outputs": [],
   "source": [
    "import chromedriver_binary\n",
    "from selenium import webdriver\n",
    "from time import sleep\n",
    "import openpyxl\n",
    "import pandas as pd\n",
    "import unicodedata\n",
    "import re\n",
    "import datetime\n",
    "from sucreiping import Sucreiping\n",
    "from scraping_detail_data import Sucraping_detail"
   ]
  },
  {
   "cell_type": "code",
   "execution_count": 2,
   "id": "548e4439-f99e-414a-8e47-73f2537d5e56",
   "metadata": {
    "tags": []
   },
   "outputs": [],
   "source": [
    "sucreiping = Sucreiping()\n",
    "df = sucreiping.get_data()"
   ]
  },
  {
   "cell_type": "code",
   "execution_count": 3,
   "id": "c58fe9df-c18c-4902-a2dd-ad3eee847e41",
   "metadata": {},
   "outputs": [],
   "source": [
    "detail = Sucraping_detail()\n",
    "detail_df = detail.get_detail_data()"
   ]
  },
  {
   "cell_type": "code",
   "execution_count": 4,
   "id": "287484a0-63cf-4329-be2f-4980b0d0ec4d",
   "metadata": {},
   "outputs": [],
   "source": [
    "df.to_csv(\"cow_data.csv\")"
   ]
  },
  {
   "cell_type": "code",
   "execution_count": 5,
   "id": "4fb89280-cba7-4b89-be6c-1b8e0b974d92",
   "metadata": {},
   "outputs": [],
   "source": [
    "detail_df.to_csv(\"cow_detail_data.csv\")"
   ]
  },
  {
   "cell_type": "code",
   "execution_count": 3,
   "id": "d95be693-0151-48a6-bc1c-9357a6d6c61a",
   "metadata": {},
   "outputs": [],
   "source": [
    "df = pd.read_csv(\"cow_data.csv\")"
   ]
  },
  {
   "cell_type": "code",
   "execution_count": 4,
   "id": "f05ea641-25f6-47be-8ecb-a9c1ceec06af",
   "metadata": {},
   "outputs": [],
   "source": [
    "detail_df = pd.read_csv(\"cow_detail_data.csv\")"
   ]
  },
  {
   "cell_type": "code",
   "execution_count": 5,
   "id": "61a3c4ee-a08b-4c3b-9d32-0fd4139a84dc",
   "metadata": {
    "tags": []
   },
   "outputs": [],
   "source": [
    "detail_df = detail_df.rename(columns={'母の祖々父': '母の祖祖父'})"
   ]
  },
  {
   "cell_type": "code",
   "execution_count": 6,
   "id": "38231a7b-9c49-4dce-8b1c-91b9a4d87587",
   "metadata": {},
   "outputs": [],
   "source": [
    "df = df.rename(columns={'Unnamed: 0': 'index'})\n",
    "detail_df = detail_df.rename(columns={'Unnamed: 0': 'index'})"
   ]
  },
  {
   "cell_type": "code",
   "execution_count": 7,
   "id": "b6a9621b-2f9f-45ab-9247-22a2109608c2",
   "metadata": {},
   "outputs": [],
   "source": [
    "df[\"年月日\"] = pd.to_datetime(df[\"年月日\"])"
   ]
  },
  {
   "cell_type": "code",
   "execution_count": 8,
   "id": "d5101e60-2cb9-4492-83cf-beca539b483e",
   "metadata": {},
   "outputs": [],
   "source": [
    "detail_df[\"年月日\"] = pd.to_datetime(detail_df[\"年月日\"])"
   ]
  },
  {
   "cell_type": "code",
   "execution_count": 12,
   "id": "292f7d3d-55cc-4b29-b251-9aa4fab1cd8d",
   "metadata": {},
   "outputs": [
    {
     "data": {
      "text/plain": [
       "Index(['日令', '体重', '価格'], dtype='object')"
      ]
     },
     "execution_count": 12,
     "metadata": {},
     "output_type": "execute_result"
    }
   ],
   "source": [
    "df.columns[6:9]"
   ]
  },
  {
   "cell_type": "code",
   "execution_count": 13,
   "id": "6edda4a4-2264-42c1-8caf-55a613863107",
   "metadata": {
    "tags": []
   },
   "outputs": [],
   "source": [
    "column = df.columns[6:9]\n",
    "\n",
    "for col in column:\n",
    "    df[col] = df[col].astype('int')"
   ]
  },
  {
   "cell_type": "code",
   "execution_count": 17,
   "id": "370223bd-af8a-4f18-9bb8-fc34fd25aeed",
   "metadata": {},
   "outputs": [],
   "source": [
    "test_df = pd.DataFrame()\n",
    "for i in range(len(detail_df)):\n",
    "    search_df = df[(df[\"父牛\"]==detail_df[\"父牛\"][i]) & (df[\"母の父\"]==detail_df[\"母の父\"][i]) & (df[\"母の祖父\"]==detail_df[\"母の祖父\"][i]) & (df[\"母の祖祖父\"]==detail_df[\"母の祖祖父\"][i]) & (df[\"日令\"]==detail_df[\"日令\"][i]) & (df[\"性別\"]==detail_df[\"性別\"][i]) & (df[\"年月日\"]==detail_df[\"年月日\"][i])]\n",
    "    \n",
    "    test_df = pd.concat([test_df,search_df])\n",
    "test_df=test_df.reset_index(drop=True)"
   ]
  },
  {
   "cell_type": "code",
   "execution_count": 18,
   "id": "17e9176e-339d-47e8-8d2b-7beb7c628226",
   "metadata": {
    "tags": []
   },
   "outputs": [
    {
     "name": "stdout",
     "output_type": "stream",
     "text": [
      "<class 'pandas.core.frame.DataFrame'>\n",
      "RangeIndex: 26579 entries, 0 to 26578\n",
      "Data columns (total 10 columns):\n",
      " #   Column  Non-Null Count  Dtype         \n",
      "---  ------  --------------  -----         \n",
      " 0   index   26579 non-null  int64         \n",
      " 1   性別      26579 non-null  object        \n",
      " 2   父牛      26579 non-null  object        \n",
      " 3   母の父     26579 non-null  object        \n",
      " 4   母の祖父    26579 non-null  object        \n",
      " 5   母の祖祖父   26579 non-null  object        \n",
      " 6   日令      26579 non-null  int64         \n",
      " 7   体重      26579 non-null  int64         \n",
      " 8   価格      26579 non-null  int64         \n",
      " 9   年月日     26579 non-null  datetime64[ns]\n",
      "dtypes: datetime64[ns](1), int64(4), object(5)\n",
      "memory usage: 2.0+ MB\n"
     ]
    }
   ],
   "source": [
    "test_df.info()"
   ]
  },
  {
   "cell_type": "code",
   "execution_count": 19,
   "id": "3a304e3f-ceec-49cb-bbe4-c86c782386da",
   "metadata": {
    "tags": []
   },
   "outputs": [],
   "source": [
    "_df = pd.DataFrame()\n",
    "for i in range(len(df)):\n",
    "    search_df = detail_df[(df[\"父牛\"][i]==detail_df[\"父牛\"]) & (df[\"母の父\"][i]==detail_df[\"母の父\"]) & (df[\"母の祖父\"][i]==detail_df[\"母の祖父\"]) & (df[\"母の祖祖父\"][i]==detail_df[\"母の祖祖父\"]) & (df[\"日令\"][i]==detail_df[\"日令\"]) & (df[\"性別\"][i]==detail_df[\"性別\"]) & (df[\"年月日\"][i]==detail_df[\"年月日\"])]\n",
    "    \n",
    "    _df = pd.concat([_df,search_df])\n",
    "_df=_df.reset_index(drop=True)"
   ]
  },
  {
   "cell_type": "code",
   "execution_count": 20,
   "id": "52de6f24-55c3-44fc-9563-1e4a382dea7e",
   "metadata": {},
   "outputs": [],
   "source": [
    "last_df = pd.concat([test_df,_df],axis=1)"
   ]
  },
  {
   "cell_type": "code",
   "execution_count": 21,
   "id": "173af77f-5aa4-4e7e-adf6-7ef844b27c00",
   "metadata": {
    "tags": []
   },
   "outputs": [
    {
     "name": "stdout",
     "output_type": "stream",
     "text": [
      "<class 'pandas.core.frame.DataFrame'>\n",
      "RangeIndex: 26579 entries, 0 to 26578\n",
      "Data columns (total 38 columns):\n",
      " #   Column  Non-Null Count  Dtype         \n",
      "---  ------  --------------  -----         \n",
      " 0   index   26579 non-null  int64         \n",
      " 1   性別      26579 non-null  object        \n",
      " 2   父牛      26579 non-null  object        \n",
      " 3   母の父     26579 non-null  object        \n",
      " 4   母の祖父    26579 non-null  object        \n",
      " 5   母の祖祖父   26579 non-null  object        \n",
      " 6   日令      26579 non-null  int64         \n",
      " 7   体重      26579 non-null  int64         \n",
      " 8   価格      26579 non-null  int64         \n",
      " 9   年月日     26579 non-null  datetime64[ns]\n",
      " 10  index   26579 non-null  int64         \n",
      " 11  入場      26579 non-null  int64         \n",
      " 12  品種      26579 non-null  object        \n",
      " 13  名号      26431 non-null  object        \n",
      " 14  期待育種価   15372 non-null  object        \n",
      " 15  耳標番号    26232 non-null  object        \n",
      " 16  資格      26579 non-null  object        \n",
      " 17  性別      26579 non-null  object        \n",
      " 18  生年月日    26579 non-null  int64         \n",
      " 19  日令      26579 non-null  int64         \n",
      " 20  父牛      26579 non-null  object        \n",
      " 21  母の父     26579 non-null  object        \n",
      " 22  母の祖父    26579 non-null  object        \n",
      " 23  母の祖祖父   26579 non-null  object        \n",
      " 24  母牛名号    26579 non-null  object        \n",
      " 25  母資格     26579 non-null  object        \n",
      " 26  登録番号    26546 non-null  float64       \n",
      " 27  得点      26546 non-null  float64       \n",
      " 28  母牛生年    26577 non-null  object        \n",
      " 29  産次      24139 non-null  float64       \n",
      " 30  備考1     9575 non-null   object        \n",
      " 31  備考2     681 non-null    object        \n",
      " 32  生産者住所   26579 non-null  object        \n",
      " 33  氏名      26579 non-null  object        \n",
      " 34  主要飼料名1  26579 non-null  object        \n",
      " 35  主要飼料名2  26546 non-null  object        \n",
      " 36  主要飼料名3  26558 non-null  object        \n",
      " 37  年月日     26579 non-null  datetime64[ns]\n",
      "dtypes: datetime64[ns](2), float64(3), int64(8), object(25)\n",
      "memory usage: 7.7+ MB\n"
     ]
    }
   ],
   "source": [
    "last_df.info()"
   ]
  },
  {
   "cell_type": "code",
   "execution_count": 22,
   "id": "79c85e20-f32e-45e0-8772-7bb28be66c61",
   "metadata": {},
   "outputs": [
    {
     "data": {
      "text/html": [
       "<div>\n",
       "<style scoped>\n",
       "    .dataframe tbody tr th:only-of-type {\n",
       "        vertical-align: middle;\n",
       "    }\n",
       "\n",
       "    .dataframe tbody tr th {\n",
       "        vertical-align: top;\n",
       "    }\n",
       "\n",
       "    .dataframe thead th {\n",
       "        text-align: right;\n",
       "    }\n",
       "</style>\n",
       "<table border=\"1\" class=\"dataframe\">\n",
       "  <thead>\n",
       "    <tr style=\"text-align: right;\">\n",
       "      <th></th>\n",
       "      <th>index</th>\n",
       "      <th>性別</th>\n",
       "      <th>父牛</th>\n",
       "      <th>母の父</th>\n",
       "      <th>母の祖父</th>\n",
       "      <th>母の祖祖父</th>\n",
       "      <th>日令</th>\n",
       "      <th>体重</th>\n",
       "      <th>価格</th>\n",
       "      <th>年月日</th>\n",
       "      <th>...</th>\n",
       "      <th>母牛生年</th>\n",
       "      <th>産次</th>\n",
       "      <th>備考1</th>\n",
       "      <th>備考2</th>\n",
       "      <th>生産者住所</th>\n",
       "      <th>氏名</th>\n",
       "      <th>主要飼料名1</th>\n",
       "      <th>主要飼料名2</th>\n",
       "      <th>主要飼料名3</th>\n",
       "      <th>年月日</th>\n",
       "    </tr>\n",
       "  </thead>\n",
       "  <tbody>\n",
       "    <tr>\n",
       "      <th>0</th>\n",
       "      <td>397</td>\n",
       "      <td>去勢</td>\n",
       "      <td>福之姫</td>\n",
       "      <td>百合白清２</td>\n",
       "      <td>安福久</td>\n",
       "      <td>平茂勝</td>\n",
       "      <td>278</td>\n",
       "      <td>299</td>\n",
       "      <td>891000</td>\n",
       "      <td>2022-04-07</td>\n",
       "      <td>...</td>\n",
       "      <td>2008-01-08 00:00:00</td>\n",
       "      <td>11.0</td>\n",
       "      <td>リング去勢</td>\n",
       "      <td>NaN</td>\n",
       "      <td>玉名郡和水町</td>\n",
       "      <td>南里文章</td>\n",
       "      <td>ブリーズ</td>\n",
       "      <td></td>\n",
       "      <td></td>\n",
       "      <td>2022-04-07</td>\n",
       "    </tr>\n",
       "    <tr>\n",
       "      <th>1</th>\n",
       "      <td>372</td>\n",
       "      <td>雌</td>\n",
       "      <td>福之姫</td>\n",
       "      <td>光平照</td>\n",
       "      <td>平茂幸</td>\n",
       "      <td>谷川</td>\n",
       "      <td>291</td>\n",
       "      <td>233</td>\n",
       "      <td>583000</td>\n",
       "      <td>2022-04-07</td>\n",
       "      <td>...</td>\n",
       "      <td>2016-01-08 00:00:00</td>\n",
       "      <td>3.0</td>\n",
       "      <td>NaN</td>\n",
       "      <td>NaN</td>\n",
       "      <td>阿蘇郡産山村</td>\n",
       "      <td>井　星二</td>\n",
       "      <td>ダイヤＭ</td>\n",
       "      <td>阿畜１号</td>\n",
       "      <td></td>\n",
       "      <td>2022-04-07</td>\n",
       "    </tr>\n",
       "    <tr>\n",
       "      <th>2</th>\n",
       "      <td>363</td>\n",
       "      <td>雌</td>\n",
       "      <td>福之姫</td>\n",
       "      <td>安福勝</td>\n",
       "      <td>茂勝栄</td>\n",
       "      <td>鶴長</td>\n",
       "      <td>271</td>\n",
       "      <td>284</td>\n",
       "      <td>711700</td>\n",
       "      <td>2022-04-07</td>\n",
       "      <td>...</td>\n",
       "      <td>2019-05-01 00:00:00</td>\n",
       "      <td>1.0</td>\n",
       "      <td>左腿刺毛</td>\n",
       "      <td>NaN</td>\n",
       "      <td>菊池郡菊陽町</td>\n",
       "      <td>㈱フジモトファーム</td>\n",
       "      <td>ハイグロＭＯ</td>\n",
       "      <td></td>\n",
       "      <td></td>\n",
       "      <td>2022-04-07</td>\n",
       "    </tr>\n",
       "    <tr>\n",
       "      <th>3</th>\n",
       "      <td>296</td>\n",
       "      <td>雌</td>\n",
       "      <td>美津照重</td>\n",
       "      <td>福之姫</td>\n",
       "      <td>安茂勝</td>\n",
       "      <td>福谷福</td>\n",
       "      <td>297</td>\n",
       "      <td>284</td>\n",
       "      <td>715000</td>\n",
       "      <td>2022-04-07</td>\n",
       "      <td>...</td>\n",
       "      <td>2019-05-01 00:00:00</td>\n",
       "      <td>1.0</td>\n",
       "      <td>NaN</td>\n",
       "      <td>NaN</td>\n",
       "      <td>菊池郡菊陽町</td>\n",
       "      <td>㈱フジモトファーム</td>\n",
       "      <td>ハイグロＭＯ</td>\n",
       "      <td></td>\n",
       "      <td></td>\n",
       "      <td>2022-04-07</td>\n",
       "    </tr>\n",
       "    <tr>\n",
       "      <th>4</th>\n",
       "      <td>408</td>\n",
       "      <td>去勢</td>\n",
       "      <td>福之姫</td>\n",
       "      <td>隆之国</td>\n",
       "      <td>安福久</td>\n",
       "      <td>百合茂</td>\n",
       "      <td>252</td>\n",
       "      <td>296</td>\n",
       "      <td>902000</td>\n",
       "      <td>2022-04-07</td>\n",
       "      <td>...</td>\n",
       "      <td>2018-01-08 00:00:00</td>\n",
       "      <td>2.0</td>\n",
       "      <td>NaN</td>\n",
       "      <td>NaN</td>\n",
       "      <td>菊池郡菊陽町</td>\n",
       "      <td>小平利徳</td>\n",
       "      <td>熊畜グローエース</td>\n",
       "      <td>新育成用ぐんぐんＡ</td>\n",
       "      <td></td>\n",
       "      <td>2022-04-07</td>\n",
       "    </tr>\n",
       "  </tbody>\n",
       "</table>\n",
       "<p>5 rows × 38 columns</p>\n",
       "</div>"
      ],
      "text/plain": [
       "   index  性別    父牛    母の父 母の祖父 母の祖祖父   日令   体重      価格        年月日  ...  \\\n",
       "0    397  去勢   福之姫  百合白清２  安福久   平茂勝  278  299  891000 2022-04-07  ...   \n",
       "1    372   雌   福之姫    光平照  平茂幸    谷川  291  233  583000 2022-04-07  ...   \n",
       "2    363   雌   福之姫    安福勝  茂勝栄    鶴長  271  284  711700 2022-04-07  ...   \n",
       "3    296   雌  美津照重    福之姫  安茂勝   福谷福  297  284  715000 2022-04-07  ...   \n",
       "4    408  去勢   福之姫    隆之国  安福久   百合茂  252  296  902000 2022-04-07  ...   \n",
       "\n",
       "                  母牛生年    産次    備考1  備考2   生産者住所         氏名    主要飼料名1  \\\n",
       "0  2008-01-08 00:00:00  11.0  リング去勢  NaN  玉名郡和水町       南里文章      ブリーズ   \n",
       "1  2016-01-08 00:00:00   3.0    NaN  NaN  阿蘇郡産山村       井　星二      ダイヤＭ   \n",
       "2  2019-05-01 00:00:00   1.0   左腿刺毛  NaN  菊池郡菊陽町  ㈱フジモトファーム    ハイグロＭＯ   \n",
       "3  2019-05-01 00:00:00   1.0    NaN  NaN  菊池郡菊陽町  ㈱フジモトファーム    ハイグロＭＯ   \n",
       "4  2018-01-08 00:00:00   2.0    NaN  NaN  菊池郡菊陽町       小平利徳  熊畜グローエース   \n",
       "\n",
       "      主要飼料名2  主要飼料名3        年月日  \n",
       "0                    2022-04-07  \n",
       "1       阿畜１号         2022-04-07  \n",
       "2                    2022-04-07  \n",
       "3                    2022-04-07  \n",
       "4  新育成用ぐんぐんＡ         2022-04-07  \n",
       "\n",
       "[5 rows x 38 columns]"
      ]
     },
     "execution_count": 22,
     "metadata": {},
     "output_type": "execute_result"
    }
   ],
   "source": [
    "last_df.head()"
   ]
  },
  {
   "cell_type": "code",
   "execution_count": null,
   "id": "9a18085a-2e0b-44bd-88a2-b2a19bbdbd46",
   "metadata": {},
   "outputs": [],
   "source": []
  }
 ],
 "metadata": {
  "kernelspec": {
   "display_name": "Python 3 (ipykernel)",
   "language": "python",
   "name": "python3"
  },
  "language_info": {
   "codemirror_mode": {
    "name": "ipython",
    "version": 3
   },
   "file_extension": ".py",
   "mimetype": "text/x-python",
   "name": "python",
   "nbconvert_exporter": "python",
   "pygments_lexer": "ipython3",
   "version": "3.9.7"
  }
 },
 "nbformat": 4,
 "nbformat_minor": 5
}
