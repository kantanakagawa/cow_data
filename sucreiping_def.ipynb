{
 "cells": [
  {
   "cell_type": "code",
   "execution_count": 2,
   "id": "7f7abd2c-de68-4044-9c2d-ae98d420dd01",
   "metadata": {
    "collapsed": true,
    "jupyter": {
     "outputs_hidden": true
    },
    "tags": []
   },
   "outputs": [
    {
     "name": "stdout",
     "output_type": "stream",
     "text": [
      "Collecting chromedriver-binary==106.0.5249.21.0\n",
      "  Using cached chromedriver-binary-106.0.5249.21.0.tar.gz (5.1 kB)\n",
      "  Preparing metadata (setup.py) ... \u001b[?25ldone\n",
      "\u001b[?25hUsing legacy 'setup.py install' for chromedriver-binary, since package 'wheel' is not installed.\n",
      "Installing collected packages: chromedriver-binary\n",
      "  Attempting uninstall: chromedriver-binary\n",
      "    Found existing installation: chromedriver-binary 108.0.5359.22.0\n",
      "    Uninstalling chromedriver-binary-108.0.5359.22.0:\n",
      "      Successfully uninstalled chromedriver-binary-108.0.5359.22.0\n",
      "  Running setup.py install for chromedriver-binary ... \u001b[?25ldone\n",
      "\u001b[?25hSuccessfully installed chromedriver-binary-106.0.5249.21.0\n",
      "\n",
      "\u001b[1m[\u001b[0m\u001b[34;49mnotice\u001b[0m\u001b[1;39;49m]\u001b[0m\u001b[39;49m A new release of pip available: \u001b[0m\u001b[31;49m22.2.1\u001b[0m\u001b[39;49m -> \u001b[0m\u001b[32;49m22.3.1\u001b[0m\n",
      "\u001b[1m[\u001b[0m\u001b[34;49mnotice\u001b[0m\u001b[1;39;49m]\u001b[0m\u001b[39;49m To update, run: \u001b[0m\u001b[32;49mpip install --upgrade pip\u001b[0m\n"
     ]
    }
   ],
   "source": [
    "!pip install chromedriver-binary==106.0.5249.21.0"
   ]
  },
  {
   "cell_type": "code",
   "execution_count": 3,
   "id": "67cabcad-fccf-4fbe-ac7b-295837747e8d",
   "metadata": {},
   "outputs": [],
   "source": [
    "import chromedriver_binary\n",
    "from selenium import webdriver\n",
    "from time import sleep\n",
    "import openpyxl\n",
    "import pandas as pd\n",
    "import unicodedata\n",
    "import re\n",
    "import datetime"
   ]
  },
  {
   "cell_type": "code",
   "execution_count": 4,
   "id": "6c45e111-a150-4270-8991-61be55db903c",
   "metadata": {},
   "outputs": [],
   "source": [
    "driver = webdriver.Chrome()"
   ]
  },
  {
   "cell_type": "code",
   "execution_count": 5,
   "id": "fed3095d-d26c-45ca-954e-2690766929f9",
   "metadata": {},
   "outputs": [],
   "source": [
    "driver.get('https://www.kenchikukyo.jp/schedule/')"
   ]
  },
  {
   "cell_type": "code",
   "execution_count": 8,
   "id": "1aff6f92-178b-43f9-a980-e5703a63cca0",
   "metadata": {},
   "outputs": [],
   "source": [
    "l = []\n",
    "next_link = driver.find_elements_by_class_name(\"schedule-archive__item\")\n",
    "for i in next_link:\n",
    "        atag = i.find_element_by_tag_name(\"a\")\n",
    "        l.append(atag.get_attribute(\"href\"))"
   ]
  },
  {
   "cell_type": "code",
   "execution_count": 9,
   "id": "a1711318-6642-4cc1-b43b-0cbcff482d2d",
   "metadata": {},
   "outputs": [
    {
     "data": {
      "text/plain": [
       "['https://www.kenchikukyo.jp/schedule/year/2022/',\n",
       " 'https://www.kenchikukyo.jp/schedule/year/2021/',\n",
       " 'https://www.kenchikukyo.jp/schedule/year/2020/']"
      ]
     },
     "execution_count": 9,
     "metadata": {},
     "output_type": "execute_result"
    }
   ],
   "source": [
    "l"
   ]
  },
  {
   "cell_type": "code",
   "execution_count": 11,
   "id": "29cdad90-729e-4a05-a6d3-075504fb727f",
   "metadata": {},
   "outputs": [
    {
     "data": {
      "text/plain": [
       "['https://www.kenchikukyo.jp/wp-content/uploads/2022/04/080123add96ec072a4571411e9e0f16d.xlsx',\n",
       " 'https://www.kenchikukyo.jp/wp-content/uploads/2022/04/67de166f3e344dd65e45b639e6e028ff.xlsx',\n",
       " 'https://www.kenchikukyo.jp/wp-content/uploads/2022/05/83151a98cfe960221233fb5fbc3dee53.xlsx',\n",
       " 'https://www.kenchikukyo.jp/wp-content/uploads/2022/05/bc254926849145c5e47d61bc2df8fd06.xlsx',\n",
       " 'https://www.kenchikukyo.jp/wp-content/uploads/2022/06/ad2f88a200841d67796426f24b3730cf.xlsx',\n",
       " 'https://www.kenchikukyo.jp/wp-content/uploads/2022/06/6f5680e883bd72ba00f58ce0648cbe4f.xlsx',\n",
       " 'https://www.kenchikukyo.jp/wp-content/uploads/2022/07/fc7973bef1cc9fca09f5c4ad970406fc.xlsx',\n",
       " 'https://www.kenchikukyo.jp/wp-content/uploads/2022/07/5ec26c9df2b45bc34571022d08ebce02.xlsx',\n",
       " 'https://www.kenchikukyo.jp/wp-content/uploads/2022/08/85eb0226b897a2574ff13eab704dee13.xlsx',\n",
       " 'https://www.kenchikukyo.jp/wp-content/uploads/2022/08/04fbc8c2f7c212e2ee6914702e536e20.xlsx',\n",
       " 'https://www.kenchikukyo.jp/wp-content/uploads/2022/09/eb0a971b56d4e0100ba3a9f4b634a42f.xlsx',\n",
       " 'https://www.kenchikukyo.jp/wp-content/uploads/2022/09/00b452de94f323e4f6786371f51fc822.xlsx',\n",
       " 'https://www.kenchikukyo.jp/wp-content/uploads/2022/10/d297730057d5b2d67370d56d1ebf589b.xlsx',\n",
       " 'https://www.kenchikukyo.jp/wp-content/uploads/2022/10/5edf79d28fe5e7a6ba702413503ce193.xlsx',\n",
       " 'https://www.kenchikukyo.jp/wp-content/uploads/2022/10/e1a11ed7e2d130b20b22a7663f43d7e4.xlsx',\n",
       " 'https://www.kenchikukyo.jp/wp-content/uploads/2022/10/1cbb009cd6d6bc915d23a55f81e6b1f7.xlsx']"
      ]
     },
     "execution_count": 11,
     "metadata": {},
     "output_type": "execute_result"
    }
   ],
   "source": [
    "driver.get(l[0])\n",
    "cow_list = []\n",
    "for elem_span in driver.find_elements_by_xpath(\"//a/span\"):\n",
    "    sleep(1)\n",
    "    elem_a = elem_span.find_element_by_xpath(\"..\")\n",
    "    if elem_span.text == \"和牛子牛黒毛和種\":\n",
    "        cow_list.append(elem_a.get_attribute(\"href\"))\n",
    "url_list = []\n",
    "for cow_link in cow_list:\n",
    "    sleep(1)\n",
    "    driver.get(cow_link)\n",
    "    element_class = driver.find_elements_by_class_name(\"single-schedule__data\")\n",
    "    for i in element_class:\n",
    "        atag = i.find_element_by_tag_name(\"a\")\n",
    "        url_list.append(atag.get_attribute(\"href\"))\n",
    "url_list[3::4]"
   ]
  },
  {
   "cell_type": "code",
   "execution_count": 13,
   "id": "3c3e4d09-3300-4847-9964-54ee69fd2692",
   "metadata": {},
   "outputs": [],
   "source": [
    "url_list = url_list[3::4]"
   ]
  },
  {
   "cell_type": "code",
   "execution_count": 28,
   "id": "a13d1a94-3c5b-4ca9-96bd-5816a0c05e25",
   "metadata": {},
   "outputs": [],
   "source": [
    "_df = pd.read_excel(url_list[3])"
   ]
  },
  {
   "cell_type": "code",
   "execution_count": 29,
   "id": "a3d6f2ae-7ef0-44bb-8bda-88e78ed1f9e3",
   "metadata": {},
   "outputs": [
    {
     "data": {
      "text/plain": [
       "Unnamed: 2       性別\n",
       "Unnamed: 3       父牛\n",
       "Unnamed: 4      母の父\n",
       "Unnamed: 5     母の祖父\n",
       "Unnamed: 6    母の祖祖父\n",
       "Unnamed: 7       日令\n",
       "Unnamed: 8       体重\n",
       "Unnamed: 9       価格\n",
       "Name: 1, dtype: object"
      ]
     },
     "execution_count": 29,
     "metadata": {},
     "output_type": "execute_result"
    }
   ],
   "source": [
    "_df.iloc[1,[2,3,4,5,6,7,8,9]]"
   ]
  },
  {
   "cell_type": "code",
   "execution_count": 45,
   "id": "ed70120a-6ffe-4e58-be31-64bfe57fd4ec",
   "metadata": {},
   "outputs": [],
   "source": [
    "dating = _df.columns[1]\n",
    "d = dating.find(\"\\u3000\")\n",
    "\n",
    "dd = _df.columns[1][:d]\n",
    "_df.assign(年月日=dd)"
   ]
  },
  {
   "cell_type": "code",
   "execution_count": 47,
   "id": "e635dee1-f431-4415-8e03-affe3580c4b2",
   "metadata": {},
   "outputs": [],
   "source": [
    "columns=_df.iloc[1,[2,3,4,5,6,7,8,9]]"
   ]
  },
  {
   "cell_type": "code",
   "execution_count": 50,
   "id": "3ad43e33-14e7-46ba-b8ad-3caf7357a0e0",
   "metadata": {},
   "outputs": [],
   "source": [
    "_df.assign(年月日=dd)"
   ]
  },
  {
   "cell_type": "code",
   "execution_count": 6,
   "id": "75c46aaa-6719-4586-86bc-d1f6256cf099",
   "metadata": {},
   "outputs": [],
   "source": [
    "_df=pd.read_excel(filepath)\n",
    "\n",
    "df=_df.iloc[2:len(_df),[2,3,4,5,6,7,8,9]]\n",
    "df.columns=columns"
   ]
  },
  {
   "cell_type": "code",
   "execution_count": 42,
   "id": "830e7edd-7698-4103-9153-155559053257",
   "metadata": {},
   "outputs": [
    {
     "data": {
      "text/plain": [
       "9"
      ]
     },
     "execution_count": 42,
     "metadata": {},
     "output_type": "execute_result"
    }
   ],
   "source": []
  },
  {
   "cell_type": "code",
   "execution_count": null,
   "id": "e78bfdd0-4b5f-4973-a5a3-9335da0b9444",
   "metadata": {},
   "outputs": [],
   "source": []
  },
  {
   "cell_type": "markdown",
   "id": "8b6fc679-5381-4a8d-ad5c-ca2bd66cd82d",
   "metadata": {},
   "source": [
    "## 入場牛情報(性別 血統 日令 体重 価格)"
   ]
  },
  {
   "cell_type": "code",
   "execution_count": 2,
   "id": "5a4ce9a9-dd43-48bf-9caa-085fe58d1416",
   "metadata": {
    "tags": []
   },
   "outputs": [],
   "source": [
    "driver = webdriver.Chrome()\n",
    "driver.get('https://www.kenchikukyo.jp/schedule/')\n",
    "\n",
    "class Sucreiping:\n",
    "    \n",
    "    def get_year(self):\n",
    "        l = []\n",
    "        next_link = driver.find_elements_by_class_name(\"schedule-archive__item\")\n",
    "        for i in next_link:\n",
    "            atag = i.find_element_by_tag_name(\"a\")\n",
    "            l.append(atag.get_attribute(\"href\"))\n",
    "        return l\n",
    "    def cow_scraping(self, url):\n",
    "        driver.get(url)\n",
    "        cow_list = []\n",
    "        for elem_span in driver.find_elements_by_xpath(\"//a/span\"):\n",
    "            sleep(1)\n",
    "            elem_a = elem_span.find_element_by_xpath(\"..\")\n",
    "            if elem_span.text == \"和牛子牛黒毛和種\":\n",
    "                cow_list.append(elem_a.get_attribute(\"href\"))\n",
    "        url_list = []\n",
    "        for cow_link in cow_list:\n",
    "            sleep(1)\n",
    "            driver.get(cow_link)\n",
    "            element_class = driver.find_elements_by_class_name(\"single-schedule__data\")\n",
    "            for i in element_class:\n",
    "                atag = i.find_element_by_tag_name(\"a\")\n",
    "                url_list.append(atag.get_attribute(\"href\"))\n",
    "        return url_list[3::4]\n",
    "    def cow_scraping_2020(self, url):\n",
    "        driver.get(url)\n",
    "        cow_list = []\n",
    "        for elem_span in driver.find_elements_by_xpath('//a/span'):\n",
    "            sleep(1)\n",
    "            elem_a = elem_span.find_element_by_xpath('..')\n",
    "            if elem_span.text == \"和牛子牛黒毛和種\" :\n",
    "                cow_list.append(elem_a.get_attribute('href'))\n",
    "        cow_list = cow_list[4:]\n",
    "        url_list = []\n",
    "        for cow_link in cow_list:\n",
    "            sleep(1)\n",
    "            driver.get(cow_link)\n",
    "            element_class = driver.find_elements_by_class_name(\"single-schedule__data\")\n",
    "            for i in element_class:\n",
    "                atag = i.find_element_by_tag_name(\"a\")\n",
    "                url_list.append(atag.get_attribute(\"href\"))\n",
    "        return url_list[3::4]\n",
    "    def extract(self, filepath):\n",
    "        _df=pd.read_excel(filepath)\n",
    "        columns=_df.iloc[1,[2,3,4,5,6,7,8,9]]\n",
    "        df=_df.iloc[2:len(_df),[2,3,4,5,6,7,8,9]]\n",
    "        df.columns=columns\n",
    "        dating = _df.columns[1]\n",
    "        d = dating.find(\"\\u3000\")\n",
    "        dd = _df.columns[1][:d]\n",
    "        df = df.assign(年月日=dd)\n",
    "        return df\n",
    "\n",
    "    def japanese_calendar_converter(text):\n",
    "        # 各年号の元年を定義\n",
    "        eraDict = {\n",
    "            \"明治\": 1868,\n",
    "            \"大正\": 1912,\n",
    "            \"昭和\": 1926,\n",
    "            \"平成\": 1989,\n",
    "            \"令和\": 2019,\n",
    "        }\n",
    "\n",
    "        # 正規化\n",
    "        normalized_text = unicodedata.normalize(\"NFKC\", text)\n",
    "\n",
    "        # 年月日を抽出\n",
    "        pattern = r\"(?P<era>{eraList})(?P<year>[0-9]{{1,2}}|元)年(?P<month>[0-9]{{1,2}})月(?P<day>[0-9]{{1,2}})日\".format(eraList=\"|\".join(eraDict.keys()))\n",
    "        date = re.search(pattern, normalized_text)\n",
    "\n",
    "        # 抽出できなかったら終わり\n",
    "        if date is None:\n",
    "            print(\"Cannot convert to western year\")\n",
    "\n",
    "        # 年を変換\n",
    "        for era, startYear in eraDict.items():\n",
    "            if date.group(\"era\") == era:\n",
    "                if date.group(\"year\") == \"元\":\n",
    "                    year = eraDict[era]\n",
    "                else:\n",
    "                    year = eraDict[era] + int(date.group(\"year\")) - 1\n",
    "\n",
    "        # date型に変換して返す\n",
    "        return datetime.date(year, int(date.group(\"month\")), int(date.group(\"day\")))    \n",
    "    \n",
    "    def get_data(self):\n",
    "        l = self.get_year()\n",
    "        l_0 = l[0]\n",
    "        l_1 = l[1]\n",
    "        l_2 = l[2]\n",
    "        xlsx_list_2022 = self.cow_scraping(l_0)\n",
    "        xlsx_list_2021 = self.cow_scraping(l_1)\n",
    "        xlsx_list_2020 = self.cow_scraping_2020(l_2)\n",
    "        all_xlsx_list = xlsx_list_2022+xlsx_list_2021+xlsx_list_2020\n",
    "        df=pd.DataFrame()\n",
    "        for filepath in all_xlsx_list:\n",
    "            _df=self.extract(filepath)\n",
    "            df=pd.concat([df,_df])\n",
    "        df.dropna()\n",
    "        df=df.reset_index(drop=True)\n",
    "        d = len(df[\"年月日\"])\n",
    "        for i in range(d):\n",
    "            df[\"年月日\"][i] = japanese_calendar_converter(df[\"年月日\"][i])\n",
    "        df[\"年月日\"] = pd.to_datetime(df[\"年月日\"])\n",
    "        driver.close()\n",
    "        return df"
   ]
  },
  {
   "cell_type": "code",
   "execution_count": 3,
   "id": "18f0b855-b3f8-45fb-867e-dc780332f7ff",
   "metadata": {},
   "outputs": [],
   "source": [
    "sucreiping = Sucreiping()"
   ]
  },
  {
   "cell_type": "code",
   "execution_count": 4,
   "id": "822cbb4f-5426-499d-bee3-2e2d5dfa2a25",
   "metadata": {},
   "outputs": [
    {
     "ename": "NameError",
     "evalue": "name 'japanese_calendar_converter' is not defined",
     "output_type": "error",
     "traceback": [
      "\u001b[0;31m---------------------------------------------------------------------------\u001b[0m",
      "\u001b[0;31mNameError\u001b[0m                                 Traceback (most recent call last)",
      "\u001b[0;32m/var/folders/5w/f6yfy31s1fldqfnxdzv8ycj00000gn/T/ipykernel_57703/3452089125.py\u001b[0m in \u001b[0;36m<module>\u001b[0;34m\u001b[0m\n\u001b[0;32m----> 1\u001b[0;31m \u001b[0mdf\u001b[0m \u001b[0;34m=\u001b[0m \u001b[0msucreiping\u001b[0m\u001b[0;34m.\u001b[0m\u001b[0mget_data\u001b[0m\u001b[0;34m(\u001b[0m\u001b[0;34m)\u001b[0m\u001b[0;34m\u001b[0m\u001b[0;34m\u001b[0m\u001b[0m\n\u001b[0m",
      "\u001b[0;32m/var/folders/5w/f6yfy31s1fldqfnxdzv8ycj00000gn/T/ipykernel_57703/710083971.py\u001b[0m in \u001b[0;36mget_data\u001b[0;34m(self)\u001b[0m\n\u001b[1;32m    106\u001b[0m         \u001b[0md\u001b[0m \u001b[0;34m=\u001b[0m \u001b[0mlen\u001b[0m\u001b[0;34m(\u001b[0m\u001b[0mdf\u001b[0m\u001b[0;34m[\u001b[0m\u001b[0;34m\"年月日\"\u001b[0m\u001b[0;34m]\u001b[0m\u001b[0;34m)\u001b[0m\u001b[0;34m\u001b[0m\u001b[0;34m\u001b[0m\u001b[0m\n\u001b[1;32m    107\u001b[0m         \u001b[0;32mfor\u001b[0m \u001b[0mi\u001b[0m \u001b[0;32min\u001b[0m \u001b[0mrange\u001b[0m\u001b[0;34m(\u001b[0m\u001b[0md\u001b[0m\u001b[0;34m)\u001b[0m\u001b[0;34m:\u001b[0m\u001b[0;34m\u001b[0m\u001b[0;34m\u001b[0m\u001b[0m\n\u001b[0;32m--> 108\u001b[0;31m             \u001b[0mdf\u001b[0m\u001b[0;34m[\u001b[0m\u001b[0;34m\"年月日\"\u001b[0m\u001b[0;34m]\u001b[0m\u001b[0;34m[\u001b[0m\u001b[0mi\u001b[0m\u001b[0;34m]\u001b[0m \u001b[0;34m=\u001b[0m \u001b[0mjapanese_calendar_converter\u001b[0m\u001b[0;34m(\u001b[0m\u001b[0mdf\u001b[0m\u001b[0;34m[\u001b[0m\u001b[0;34m\"年月日\"\u001b[0m\u001b[0;34m]\u001b[0m\u001b[0;34m[\u001b[0m\u001b[0mi\u001b[0m\u001b[0;34m]\u001b[0m\u001b[0;34m)\u001b[0m\u001b[0;34m\u001b[0m\u001b[0;34m\u001b[0m\u001b[0m\n\u001b[0m\u001b[1;32m    109\u001b[0m         \u001b[0mdf\u001b[0m\u001b[0;34m[\u001b[0m\u001b[0;34m\"年月日\"\u001b[0m\u001b[0;34m]\u001b[0m \u001b[0;34m=\u001b[0m \u001b[0mpd\u001b[0m\u001b[0;34m.\u001b[0m\u001b[0mto_datetime\u001b[0m\u001b[0;34m(\u001b[0m\u001b[0mdf\u001b[0m\u001b[0;34m[\u001b[0m\u001b[0;34m\"年月日\"\u001b[0m\u001b[0;34m]\u001b[0m\u001b[0;34m)\u001b[0m\u001b[0;34m\u001b[0m\u001b[0;34m\u001b[0m\u001b[0m\n\u001b[1;32m    110\u001b[0m         \u001b[0mdriver\u001b[0m\u001b[0;34m.\u001b[0m\u001b[0mclose\u001b[0m\u001b[0;34m(\u001b[0m\u001b[0;34m)\u001b[0m\u001b[0;34m\u001b[0m\u001b[0;34m\u001b[0m\u001b[0m\n",
      "\u001b[0;31mNameError\u001b[0m: name 'japanese_calendar_converter' is not defined"
     ]
    }
   ],
   "source": [
    "df = sucreiping.get_data()"
   ]
  },
  {
   "cell_type": "code",
   "execution_count": 68,
   "id": "76ab4d04-3caa-4414-89c0-0ba4c5205eac",
   "metadata": {},
   "outputs": [
    {
     "data": {
      "text/html": [
       "<div>\n",
       "<style scoped>\n",
       "    .dataframe tbody tr th:only-of-type {\n",
       "        vertical-align: middle;\n",
       "    }\n",
       "\n",
       "    .dataframe tbody tr th {\n",
       "        vertical-align: top;\n",
       "    }\n",
       "\n",
       "    .dataframe thead th {\n",
       "        text-align: right;\n",
       "    }\n",
       "</style>\n",
       "<table border=\"1\" class=\"dataframe\">\n",
       "  <thead>\n",
       "    <tr style=\"text-align: right;\">\n",
       "      <th>1</th>\n",
       "      <th>性別</th>\n",
       "      <th>父牛</th>\n",
       "      <th>母の父</th>\n",
       "      <th>母の祖父</th>\n",
       "      <th>母の祖祖父</th>\n",
       "      <th>日令</th>\n",
       "      <th>体重</th>\n",
       "      <th>価格</th>\n",
       "      <th>年月日</th>\n",
       "    </tr>\n",
       "  </thead>\n",
       "  <tbody>\n",
       "    <tr>\n",
       "      <th>0</th>\n",
       "      <td>去勢</td>\n",
       "      <td>愛之国</td>\n",
       "      <td>安福（岐）</td>\n",
       "      <td>平茂勝</td>\n",
       "      <td>金幸</td>\n",
       "      <td>292</td>\n",
       "      <td>276</td>\n",
       "      <td>618200</td>\n",
       "      <td>令和4年4月7日</td>\n",
       "    </tr>\n",
       "    <tr>\n",
       "      <th>1</th>\n",
       "      <td>去勢</td>\n",
       "      <td>愛之国</td>\n",
       "      <td>安福久</td>\n",
       "      <td>平茂勝</td>\n",
       "      <td>安平</td>\n",
       "      <td>286</td>\n",
       "      <td>293</td>\n",
       "      <td>782100.0</td>\n",
       "      <td>令和4年4月7日</td>\n",
       "    </tr>\n",
       "    <tr>\n",
       "      <th>2</th>\n",
       "      <td>雌</td>\n",
       "      <td>愛之国</td>\n",
       "      <td>華春福</td>\n",
       "      <td>安福久</td>\n",
       "      <td>忠茂勝</td>\n",
       "      <td>297</td>\n",
       "      <td>305</td>\n",
       "      <td>697400</td>\n",
       "      <td>令和4年4月7日</td>\n",
       "    </tr>\n",
       "    <tr>\n",
       "      <th>3</th>\n",
       "      <td>雌</td>\n",
       "      <td>愛之国</td>\n",
       "      <td>美国桜</td>\n",
       "      <td>美津照重</td>\n",
       "      <td>勝平正</td>\n",
       "      <td>297</td>\n",
       "      <td>258</td>\n",
       "      <td>676500</td>\n",
       "      <td>令和4年4月7日</td>\n",
       "    </tr>\n",
       "    <tr>\n",
       "      <th>4</th>\n",
       "      <td>去勢</td>\n",
       "      <td>愛之国</td>\n",
       "      <td>百合勝安</td>\n",
       "      <td>安福勝</td>\n",
       "      <td>寿恵福</td>\n",
       "      <td>297</td>\n",
       "      <td>301</td>\n",
       "      <td>712800</td>\n",
       "      <td>令和4年4月7日</td>\n",
       "    </tr>\n",
       "    <tr>\n",
       "      <th>...</th>\n",
       "      <td>...</td>\n",
       "      <td>...</td>\n",
       "      <td>...</td>\n",
       "      <td>...</td>\n",
       "      <td>...</td>\n",
       "      <td>...</td>\n",
       "      <td>...</td>\n",
       "      <td>...</td>\n",
       "      <td>...</td>\n",
       "    </tr>\n",
       "    <tr>\n",
       "      <th>28226</th>\n",
       "      <td>雌</td>\n",
       "      <td>諒太郎</td>\n",
       "      <td>福栄</td>\n",
       "      <td>平茂勝</td>\n",
       "      <td>安平</td>\n",
       "      <td>294</td>\n",
       "      <td>314</td>\n",
       "      <td>748000.0</td>\n",
       "      <td>令和3年3月12日</td>\n",
       "    </tr>\n",
       "    <tr>\n",
       "      <th>28227</th>\n",
       "      <td>雌</td>\n",
       "      <td>諒太郎</td>\n",
       "      <td>福之国</td>\n",
       "      <td>福桜（宮）</td>\n",
       "      <td>安平</td>\n",
       "      <td>290</td>\n",
       "      <td>318</td>\n",
       "      <td>806300.0</td>\n",
       "      <td>令和3年3月12日</td>\n",
       "    </tr>\n",
       "    <tr>\n",
       "      <th>28228</th>\n",
       "      <td>去勢</td>\n",
       "      <td>諒太郎</td>\n",
       "      <td>平茂晴</td>\n",
       "      <td>安糸福</td>\n",
       "      <td>北国７の８</td>\n",
       "      <td>259</td>\n",
       "      <td>309</td>\n",
       "      <td>871200.0</td>\n",
       "      <td>令和3年3月12日</td>\n",
       "    </tr>\n",
       "    <tr>\n",
       "      <th>28229</th>\n",
       "      <td>去勢</td>\n",
       "      <td>諒太郎</td>\n",
       "      <td>隆之国</td>\n",
       "      <td>安福久</td>\n",
       "      <td>平茂勝</td>\n",
       "      <td>293</td>\n",
       "      <td>353</td>\n",
       "      <td>875600.0</td>\n",
       "      <td>令和3年3月12日</td>\n",
       "    </tr>\n",
       "    <tr>\n",
       "      <th>28230</th>\n",
       "      <td>雌</td>\n",
       "      <td>鈴音</td>\n",
       "      <td>美津照重</td>\n",
       "      <td>第１花国</td>\n",
       "      <td>紋次郎</td>\n",
       "      <td>288</td>\n",
       "      <td>254</td>\n",
       "      <td>689700</td>\n",
       "      <td>令和3年3月12日</td>\n",
       "    </tr>\n",
       "  </tbody>\n",
       "</table>\n",
       "<p>28231 rows × 9 columns</p>\n",
       "</div>"
      ],
      "text/plain": [
       "1      性別   父牛    母の父   母の祖父  母の祖祖父   日令   体重        価格        年月日\n",
       "0      去勢  愛之国  安福（岐）    平茂勝     金幸  292  276    618200   令和4年4月7日\n",
       "1      去勢  愛之国    安福久    平茂勝     安平  286  293  782100.0   令和4年4月7日\n",
       "2       雌  愛之国    華春福    安福久    忠茂勝  297  305    697400   令和4年4月7日\n",
       "3       雌  愛之国    美国桜   美津照重    勝平正  297  258    676500   令和4年4月7日\n",
       "4      去勢  愛之国   百合勝安    安福勝    寿恵福  297  301    712800   令和4年4月7日\n",
       "...    ..  ...    ...    ...    ...  ...  ...       ...        ...\n",
       "28226   雌  諒太郎     福栄    平茂勝     安平  294  314  748000.0  令和3年3月12日\n",
       "28227   雌  諒太郎    福之国  福桜（宮）     安平  290  318  806300.0  令和3年3月12日\n",
       "28228  去勢  諒太郎    平茂晴    安糸福  北国７の８  259  309  871200.0  令和3年3月12日\n",
       "28229  去勢  諒太郎    隆之国    安福久    平茂勝  293  353  875600.0  令和3年3月12日\n",
       "28230   雌   鈴音   美津照重   第１花国    紋次郎  288  254    689700  令和3年3月12日\n",
       "\n",
       "[28231 rows x 9 columns]"
      ]
     },
     "execution_count": 68,
     "metadata": {},
     "output_type": "execute_result"
    }
   ],
   "source": [
    "df"
   ]
  },
  {
   "cell_type": "code",
   "execution_count": 64,
   "id": "9d76a64c-3474-498a-8aeb-4f05d1aa859d",
   "metadata": {},
   "outputs": [
    {
     "data": {
      "text/html": [
       "<div>\n",
       "<style scoped>\n",
       "    .dataframe tbody tr th:only-of-type {\n",
       "        vertical-align: middle;\n",
       "    }\n",
       "\n",
       "    .dataframe tbody tr th {\n",
       "        vertical-align: top;\n",
       "    }\n",
       "\n",
       "    .dataframe thead th {\n",
       "        text-align: right;\n",
       "    }\n",
       "</style>\n",
       "<table border=\"1\" class=\"dataframe\">\n",
       "  <thead>\n",
       "    <tr style=\"text-align: right;\">\n",
       "      <th>1</th>\n",
       "      <th>性別</th>\n",
       "      <th>父牛</th>\n",
       "      <th>母の父</th>\n",
       "      <th>母の祖父</th>\n",
       "      <th>母の祖祖父</th>\n",
       "      <th>日令</th>\n",
       "      <th>体重</th>\n",
       "      <th>価格</th>\n",
       "      <th>年月日</th>\n",
       "    </tr>\n",
       "  </thead>\n",
       "  <tbody>\n",
       "    <tr>\n",
       "      <th>0</th>\n",
       "      <td>去勢</td>\n",
       "      <td>愛之国</td>\n",
       "      <td>安福（岐）</td>\n",
       "      <td>平茂勝</td>\n",
       "      <td>金幸</td>\n",
       "      <td>292</td>\n",
       "      <td>276</td>\n",
       "      <td>618200</td>\n",
       "      <td>令和4年5月13日</td>\n",
       "    </tr>\n",
       "    <tr>\n",
       "      <th>1</th>\n",
       "      <td>去勢</td>\n",
       "      <td>愛之国</td>\n",
       "      <td>安福久</td>\n",
       "      <td>平茂勝</td>\n",
       "      <td>安平</td>\n",
       "      <td>286</td>\n",
       "      <td>293</td>\n",
       "      <td>782100.0</td>\n",
       "      <td>令和4年5月13日</td>\n",
       "    </tr>\n",
       "    <tr>\n",
       "      <th>2</th>\n",
       "      <td>雌</td>\n",
       "      <td>愛之国</td>\n",
       "      <td>華春福</td>\n",
       "      <td>安福久</td>\n",
       "      <td>忠茂勝</td>\n",
       "      <td>297</td>\n",
       "      <td>305</td>\n",
       "      <td>697400</td>\n",
       "      <td>令和4年5月13日</td>\n",
       "    </tr>\n",
       "    <tr>\n",
       "      <th>3</th>\n",
       "      <td>雌</td>\n",
       "      <td>愛之国</td>\n",
       "      <td>美国桜</td>\n",
       "      <td>美津照重</td>\n",
       "      <td>勝平正</td>\n",
       "      <td>297</td>\n",
       "      <td>258</td>\n",
       "      <td>676500</td>\n",
       "      <td>令和4年5月13日</td>\n",
       "    </tr>\n",
       "    <tr>\n",
       "      <th>4</th>\n",
       "      <td>去勢</td>\n",
       "      <td>愛之国</td>\n",
       "      <td>百合勝安</td>\n",
       "      <td>安福勝</td>\n",
       "      <td>寿恵福</td>\n",
       "      <td>297</td>\n",
       "      <td>301</td>\n",
       "      <td>712800</td>\n",
       "      <td>令和4年5月13日</td>\n",
       "    </tr>\n",
       "    <tr>\n",
       "      <th>...</th>\n",
       "      <td>...</td>\n",
       "      <td>...</td>\n",
       "      <td>...</td>\n",
       "      <td>...</td>\n",
       "      <td>...</td>\n",
       "      <td>...</td>\n",
       "      <td>...</td>\n",
       "      <td>...</td>\n",
       "      <td>...</td>\n",
       "    </tr>\n",
       "    <tr>\n",
       "      <th>28226</th>\n",
       "      <td>雌</td>\n",
       "      <td>諒太郎</td>\n",
       "      <td>福栄</td>\n",
       "      <td>平茂勝</td>\n",
       "      <td>安平</td>\n",
       "      <td>294</td>\n",
       "      <td>314</td>\n",
       "      <td>748000.0</td>\n",
       "      <td>令和4年5月13日</td>\n",
       "    </tr>\n",
       "    <tr>\n",
       "      <th>28227</th>\n",
       "      <td>雌</td>\n",
       "      <td>諒太郎</td>\n",
       "      <td>福之国</td>\n",
       "      <td>福桜（宮）</td>\n",
       "      <td>安平</td>\n",
       "      <td>290</td>\n",
       "      <td>318</td>\n",
       "      <td>806300.0</td>\n",
       "      <td>令和4年5月13日</td>\n",
       "    </tr>\n",
       "    <tr>\n",
       "      <th>28228</th>\n",
       "      <td>去勢</td>\n",
       "      <td>諒太郎</td>\n",
       "      <td>平茂晴</td>\n",
       "      <td>安糸福</td>\n",
       "      <td>北国７の８</td>\n",
       "      <td>259</td>\n",
       "      <td>309</td>\n",
       "      <td>871200.0</td>\n",
       "      <td>令和4年5月13日</td>\n",
       "    </tr>\n",
       "    <tr>\n",
       "      <th>28229</th>\n",
       "      <td>去勢</td>\n",
       "      <td>諒太郎</td>\n",
       "      <td>隆之国</td>\n",
       "      <td>安福久</td>\n",
       "      <td>平茂勝</td>\n",
       "      <td>293</td>\n",
       "      <td>353</td>\n",
       "      <td>875600.0</td>\n",
       "      <td>令和4年5月13日</td>\n",
       "    </tr>\n",
       "    <tr>\n",
       "      <th>28230</th>\n",
       "      <td>雌</td>\n",
       "      <td>鈴音</td>\n",
       "      <td>美津照重</td>\n",
       "      <td>第１花国</td>\n",
       "      <td>紋次郎</td>\n",
       "      <td>288</td>\n",
       "      <td>254</td>\n",
       "      <td>689700</td>\n",
       "      <td>令和4年5月13日</td>\n",
       "    </tr>\n",
       "  </tbody>\n",
       "</table>\n",
       "<p>28231 rows × 9 columns</p>\n",
       "</div>"
      ],
      "text/plain": [
       "1      性別   父牛    母の父   母の祖父  母の祖祖父   日令   体重        価格        年月日\n",
       "0      去勢  愛之国  安福（岐）    平茂勝     金幸  292  276    618200  令和4年5月13日\n",
       "1      去勢  愛之国    安福久    平茂勝     安平  286  293  782100.0  令和4年5月13日\n",
       "2       雌  愛之国    華春福    安福久    忠茂勝  297  305    697400  令和4年5月13日\n",
       "3       雌  愛之国    美国桜   美津照重    勝平正  297  258    676500  令和4年5月13日\n",
       "4      去勢  愛之国   百合勝安    安福勝    寿恵福  297  301    712800  令和4年5月13日\n",
       "...    ..  ...    ...    ...    ...  ...  ...       ...        ...\n",
       "28226   雌  諒太郎     福栄    平茂勝     安平  294  314  748000.0  令和4年5月13日\n",
       "28227   雌  諒太郎    福之国  福桜（宮）     安平  290  318  806300.0  令和4年5月13日\n",
       "28228  去勢  諒太郎    平茂晴    安糸福  北国７の８  259  309  871200.0  令和4年5月13日\n",
       "28229  去勢  諒太郎    隆之国    安福久    平茂勝  293  353  875600.0  令和4年5月13日\n",
       "28230   雌   鈴音   美津照重   第１花国    紋次郎  288  254    689700  令和4年5月13日\n",
       "\n",
       "[28231 rows x 9 columns]"
      ]
     },
     "execution_count": 64,
     "metadata": {},
     "output_type": "execute_result"
    }
   ],
   "source": [
    "df"
   ]
  },
  {
   "cell_type": "code",
   "execution_count": null,
   "id": "d5308dda-900d-4d63-b441-ff92f0310af4",
   "metadata": {},
   "outputs": [],
   "source": []
  },
  {
   "cell_type": "code",
   "execution_count": 3,
   "id": "e0e70530-6404-44f6-a3d9-4cd1c9d38a94",
   "metadata": {},
   "outputs": [],
   "source": [
    "driver = webdriver.Chrome()\n",
    "driver.get('https://www.kenchikukyo.jp/schedule/')"
   ]
  },
  {
   "cell_type": "code",
   "execution_count": 12,
   "id": "e777ced6-1a16-4bbc-b6b5-f241c87c78a4",
   "metadata": {},
   "outputs": [],
   "source": [
    "l = []\n",
    "next_link = driver.find_elements_by_class_name(\"schedule-archive__item\")\n",
    "for i in next_link:\n",
    "    atag = i.find_element_by_tag_name(\"a\")\n",
    "    l.append(atag.get_attribute(\"href\"))"
   ]
  },
  {
   "cell_type": "code",
   "execution_count": 13,
   "id": "9f859abd-c7e1-4baa-9f6d-b4551f0992e6",
   "metadata": {},
   "outputs": [
    {
     "data": {
      "text/plain": [
       "['https://www.kenchikukyo.jp/schedule/year/2022/',\n",
       " 'https://www.kenchikukyo.jp/schedule/year/2021/',\n",
       " 'https://www.kenchikukyo.jp/schedule/year/2020/']"
      ]
     },
     "execution_count": 13,
     "metadata": {},
     "output_type": "execute_result"
    }
   ],
   "source": [
    "l"
   ]
  },
  {
   "cell_type": "code",
   "execution_count": 6,
   "id": "23177ff8-0d6b-4d71-a10f-d38775edeedc",
   "metadata": {},
   "outputs": [],
   "source": [
    "url = l[0]"
   ]
  },
  {
   "cell_type": "code",
   "execution_count": 7,
   "id": "c9b185dc-0ee2-4789-983d-d42915158280",
   "metadata": {},
   "outputs": [
    {
     "data": {
      "text/plain": [
       "'https://www.kenchikukyo.jp/schedule/year/2022/'"
      ]
     },
     "execution_count": 7,
     "metadata": {},
     "output_type": "execute_result"
    }
   ],
   "source": [
    "l[0]"
   ]
  },
  {
   "cell_type": "code",
   "execution_count": 8,
   "id": "02bf3697-9fc5-48ac-86ba-30ec1f00601e",
   "metadata": {
    "tags": []
   },
   "outputs": [],
   "source": [
    "def listing_scraping(url):\n",
    "    driver.get(url)\n",
    "    cow_list = []\n",
    "    for elem_span in driver.find_elements_by_xpath(\"//a/span\"):\n",
    "        sleep(1)\n",
    "        elem_a = elem_span.find_element_by_xpath(\"..\")\n",
    "        if elem_span.text == \"和牛子牛黒毛和種\":\n",
    "            cow_list.append(elem_a.get_attribute(\"href\"))\n",
    "    url_list = []\n",
    "    for cow_link in cow_list:\n",
    "        sleep(1)\n",
    "        driver.get(cow_link)\n",
    "        element_class = driver.find_elements_by_class_name(\"single-schedule__data\")\n",
    "        for i in element_class:\n",
    "            atag = i.find_element_by_tag_name(\"a\")\n",
    "            url_list.append(atag.get_attribute(\"href\"))\n",
    "    return url_list"
   ]
  },
  {
   "cell_type": "code",
   "execution_count": 14,
   "id": "955fd1c1-04f3-4f58-af20-71648c51b563",
   "metadata": {
    "tags": []
   },
   "outputs": [],
   "source": [
    "url_list = []\n",
    "for i in l:\n",
    "    url = listing_scraping(i)\n",
    "    url_list.append(url)\n",
    "\n",
    "nkb_url = []\n",
    "\n",
    "for url_lists in url_list:\n",
    "    for i in url_lists:\n",
    "        if 0 < i.find(\"NKB.xlsx\"):\n",
    "            if 0>i.find(\"KDNKB.xlsx\"):\n",
    "                nkb_url.append(i)\n",
    "\n",
    "bull_list = ['https://www.kenchikukyo.jp/wp-content/uploads/2020/09/R020910NKB.xlsx','https://www.kenchikukyo.jp/wp-content/uploads/2020/09/R020911NKB.xlsx','https://www.kenchikukyo.jp/wp-content/uploads/2020/08/R020807NKB.xlsx','https://www.kenchikukyo.jp/wp-content/uploads/2020/08/R020806NKB.xlsx','https://www.kenchikukyo.jp/wp-content/uploads/2020/07/R020710NKB.xlsx','https://www.kenchikukyo.jp/wp-content/uploads/2020/07/R020709NKB.xlsx','https://www.kenchikukyo.jp/wp-content/uploads/2020/06/R020612NKB.xlsx','https://www.kenchikukyo.jp/wp-content/uploads/2020/06/R020611NKB.xlsx','https://www.kenchikukyo.jp/wp-content/uploads/2020/05/R020515NKB.xlsx','https://www.kenchikukyo.jp/wp-content/uploads/2020/05/R020514NKB.xlsx',]\n",
    "\n",
    "for i in bull_list:\n",
    "    index = nkb_url.index(i)\n",
    "    nkb_url.pop(index)"
   ]
  },
  {
   "cell_type": "code",
   "execution_count": 15,
   "id": "1611c995-3a35-4d37-b984-409f12bd6929",
   "metadata": {
    "tags": []
   },
   "outputs": [
    {
     "data": {
      "text/plain": [
       "['https://www.kenchikukyo.jp/wp-content/uploads/2022/01/R040407NKB.xlsx',\n",
       " 'https://www.kenchikukyo.jp/wp-content/uploads/2022/01/R040408NKB.xlsx',\n",
       " 'https://www.kenchikukyo.jp/wp-content/uploads/2022/01/R040512NKB.xlsx',\n",
       " 'https://www.kenchikukyo.jp/wp-content/uploads/2022/04/R040513NKB.xlsx',\n",
       " 'https://www.kenchikukyo.jp/wp-content/uploads/2022/01/R040609NKB.xlsx',\n",
       " 'https://www.kenchikukyo.jp/wp-content/uploads/2022/01/R040610NKB.xlsx',\n",
       " 'https://www.kenchikukyo.jp/wp-content/uploads/2022/01/R040707NKB.xlsx',\n",
       " 'https://www.kenchikukyo.jp/wp-content/uploads/2022/01/R040708NKB.xlsx',\n",
       " 'https://www.kenchikukyo.jp/wp-content/uploads/2022/01/R040811NKB.xlsx',\n",
       " 'https://www.kenchikukyo.jp/wp-content/uploads/2022/01/R040812NKB.xlsx',\n",
       " 'https://www.kenchikukyo.jp/wp-content/uploads/2022/01/R040908NKB.xlsx',\n",
       " 'https://www.kenchikukyo.jp/wp-content/uploads/2022/01/R040909NKB.xlsx',\n",
       " 'https://www.kenchikukyo.jp/wp-content/uploads/2022/01/R041006NKB.xlsx',\n",
       " 'https://www.kenchikukyo.jp/wp-content/uploads/2022/01/R041007NKB.xlsx',\n",
       " 'https://www.kenchikukyo.jp/wp-content/uploads/2022/01/R041110NKB.xlsx',\n",
       " 'https://www.kenchikukyo.jp/wp-content/uploads/2022/01/R041111NKB.xlsx',\n",
       " 'https://www.kenchikukyo.jp/wp-content/uploads/2022/01/R041208NKB.xlsx',\n",
       " 'https://www.kenchikukyo.jp/wp-content/uploads/2022/01/R041209NKB.xlsx',\n",
       " 'https://www.kenchikukyo.jp/wp-content/uploads/2021/01/R030408NKB.xlsx',\n",
       " 'https://www.kenchikukyo.jp/wp-content/uploads/2021/01/R030409NKB.xlsx',\n",
       " 'https://www.kenchikukyo.jp/wp-content/uploads/2021/04/R030513NKB.xlsx',\n",
       " 'https://www.kenchikukyo.jp/wp-content/uploads/2021/04/R030514NKB.xlsx',\n",
       " 'https://www.kenchikukyo.jp/wp-content/uploads/2021/01/R030610NKB.xlsx',\n",
       " 'https://www.kenchikukyo.jp/wp-content/uploads/2021/01/R030611NKB.xlsx',\n",
       " 'https://www.kenchikukyo.jp/wp-content/uploads/2021/01/R030708NKB.xlsx',\n",
       " 'https://www.kenchikukyo.jp/wp-content/uploads/2021/01/R030709NKB.xlsx',\n",
       " 'https://www.kenchikukyo.jp/wp-content/uploads/2021/08/R030812NKB.xlsx',\n",
       " 'https://www.kenchikukyo.jp/wp-content/uploads/2021/08/R030813NKB.xlsx',\n",
       " 'https://www.kenchikukyo.jp/wp-content/uploads/2021/01/R030909NKB.xlsx',\n",
       " 'https://www.kenchikukyo.jp/wp-content/uploads/2021/01/R030910NKB.xlsx',\n",
       " 'https://www.kenchikukyo.jp/wp-content/uploads/2021/01/R031007NKB.xlsx',\n",
       " 'https://www.kenchikukyo.jp/wp-content/uploads/2021/01/R031008NKB.xlsx',\n",
       " 'https://www.kenchikukyo.jp/wp-content/uploads/2021/01/R031111NKB.xlsx',\n",
       " 'https://www.kenchikukyo.jp/wp-content/uploads/2021/01/R031112NKB.xlsx',\n",
       " 'https://www.kenchikukyo.jp/wp-content/uploads/2021/01/R031209NKB.xlsx',\n",
       " 'https://www.kenchikukyo.jp/wp-content/uploads/2021/01/R040106NKB.xlsx',\n",
       " 'https://www.kenchikukyo.jp/wp-content/uploads/2021/01/R040107NKB.xlsx',\n",
       " 'https://www.kenchikukyo.jp/wp-content/uploads/2021/01/R040210NKB.xlsx',\n",
       " 'https://www.kenchikukyo.jp/wp-content/uploads/2021/01/R040211NKB.xlsx',\n",
       " 'https://www.kenchikukyo.jp/wp-content/uploads/2021/01/R040310NKB.xlsx',\n",
       " 'https://www.kenchikukyo.jp/wp-content/uploads/2021/01/R040311NKB.xlsx',\n",
       " 'https://www.kenchikukyo.jp/wp-content/uploads/2020/03/R020514NKB.xlsx',\n",
       " 'https://www.kenchikukyo.jp/wp-content/uploads/2020/03/R020611NKB.xlsx',\n",
       " 'https://www.kenchikukyo.jp/wp-content/uploads/2020/03/R020612NKB.xlsx',\n",
       " 'https://www.kenchikukyo.jp/wp-content/uploads/2020/06/R020709NKB.xlsx',\n",
       " 'https://www.kenchikukyo.jp/wp-content/uploads/2020/03/R020710NKB.xlsx',\n",
       " 'https://www.kenchikukyo.jp/wp-content/uploads/2020/07/R020806NKB.xlsx',\n",
       " 'https://www.kenchikukyo.jp/wp-content/uploads/2020/03/R020807NKB.xlsx',\n",
       " 'https://www.kenchikukyo.jp/wp-content/uploads/2020/03/R020910NKB.xlsx',\n",
       " 'https://www.kenchikukyo.jp/wp-content/uploads/2020/03/R020911NKB.xlsx',\n",
       " 'https://www.kenchikukyo.jp/wp-content/uploads/2020/03/R021008NKB.xlsx',\n",
       " 'https://www.kenchikukyo.jp/wp-content/uploads/2020/03/R021009NKB.xlsx',\n",
       " 'https://www.kenchikukyo.jp/wp-content/uploads/2020/03/R021112NKB.xlsx',\n",
       " 'https://www.kenchikukyo.jp/wp-content/uploads/2020/03/R021113NKB.xlsx',\n",
       " 'https://www.kenchikukyo.jp/wp-content/uploads/2020/03/R021210NKB.xlsx',\n",
       " 'https://www.kenchikukyo.jp/wp-content/uploads/2020/03/R021211NKB.xlsx',\n",
       " 'https://www.kenchikukyo.jp/wp-content/uploads/2021/01/R030108NKB.xlsx',\n",
       " 'https://www.kenchikukyo.jp/wp-content/uploads/2020/03/R030211NKB.xlsx',\n",
       " 'https://www.kenchikukyo.jp/wp-content/uploads/2020/03/R030212NKB.xlsx',\n",
       " 'https://www.kenchikukyo.jp/wp-content/uploads/2021/03/R030311NKB.xlsx',\n",
       " 'https://www.kenchikukyo.jp/wp-content/uploads/2021/03/R030312NKB.xlsx']"
      ]
     },
     "execution_count": 15,
     "metadata": {},
     "output_type": "execute_result"
    }
   ],
   "source": [
    "nkb_url"
   ]
  },
  {
   "cell_type": "code",
   "execution_count": 217,
   "id": "e2012fd0-ee6a-4e80-9ad1-2b4edf7ac3ee",
   "metadata": {},
   "outputs": [],
   "source": [
    "file_path = nkb_url[1]"
   ]
  },
  {
   "cell_type": "code",
   "execution_count": 218,
   "id": "a4e3f177-5dd9-4588-b61e-8af7084f04ef",
   "metadata": {},
   "outputs": [
    {
     "data": {
      "text/plain": [
       "'https://www.kenchikukyo.jp/wp-content/uploads/2022/01/R040408NKB.xlsx'"
      ]
     },
     "execution_count": 218,
     "metadata": {},
     "output_type": "execute_result"
    }
   ],
   "source": [
    "file_path"
   ]
  },
  {
   "cell_type": "code",
   "execution_count": 219,
   "id": "d7e23712-e22a-44da-ad34-04a8b088e739",
   "metadata": {},
   "outputs": [],
   "source": [
    "_df=pd.read_excel(file_path)\n",
    "df = _df.iloc[3:,1:27]\n",
    "df.columns = _df.iloc[2,1:27]"
   ]
  },
  {
   "cell_type": "code",
   "execution_count": 220,
   "id": "4265cc9c-c8cc-426e-b4b8-5b3237d91d54",
   "metadata": {},
   "outputs": [],
   "source": [
    "d = _df.iloc[0][1]\n",
    "aa = d.find(\"月\")\n",
    "bb = d.find(\"月\",aa+1)\n",
    "dd = d[:aa] + d[bb:-5]\n",
    "df = df.assign(年月日=dd)"
   ]
  },
  {
   "cell_type": "code",
   "execution_count": 221,
   "id": "39dc2d9a-df21-4f9f-b7d2-8351341342a2",
   "metadata": {},
   "outputs": [
    {
     "data": {
      "text/plain": [
       "'令和4年4月肉専子牛市場\\u3000上場牛一覧\\u3000（4月8日黒毛和種）'"
      ]
     },
     "execution_count": 221,
     "metadata": {},
     "output_type": "execute_result"
    }
   ],
   "source": [
    "d"
   ]
  },
  {
   "cell_type": "code",
   "execution_count": 222,
   "id": "81e62896-0cdc-45f4-819c-54bbebced312",
   "metadata": {},
   "outputs": [
    {
     "data": {
      "text/plain": [
       "5"
      ]
     },
     "execution_count": 222,
     "metadata": {},
     "output_type": "execute_result"
    }
   ],
   "source": [
    "aa"
   ]
  },
  {
   "cell_type": "code",
   "execution_count": 223,
   "id": "1141d43a-d87b-4a8d-be28-ce959473c7f4",
   "metadata": {},
   "outputs": [
    {
     "data": {
      "text/plain": [
       "21"
      ]
     },
     "execution_count": 223,
     "metadata": {},
     "output_type": "execute_result"
    }
   ],
   "source": [
    "bb"
   ]
  },
  {
   "cell_type": "code",
   "execution_count": 224,
   "id": "e8fe8ecf-c0af-4552-9f34-790ba0b209cd",
   "metadata": {},
   "outputs": [
    {
     "data": {
      "text/plain": [
       "'令和4年4月8日'"
      ]
     },
     "execution_count": 224,
     "metadata": {},
     "output_type": "execute_result"
    }
   ],
   "source": [
    "dd"
   ]
  },
  {
   "cell_type": "code",
   "execution_count": null,
   "id": "e5c62348-9d69-4aef-bd82-236e66e47aed",
   "metadata": {},
   "outputs": [],
   "source": []
  },
  {
   "cell_type": "code",
   "execution_count": null,
   "id": "7aa5bc14-89cd-4f69-be9b-875fff1442b4",
   "metadata": {},
   "outputs": [],
   "source": []
  },
  {
   "cell_type": "code",
   "execution_count": null,
   "id": "69388715-ed4f-4e5f-9e22-b8a8b9ce03a5",
   "metadata": {},
   "outputs": [],
   "source": []
  },
  {
   "cell_type": "code",
   "execution_count": 202,
   "id": "c5774048-fac3-410d-8f5f-ea7119100e4e",
   "metadata": {
    "collapsed": true,
    "jupyter": {
     "outputs_hidden": true
    },
    "tags": []
   },
   "outputs": [
    {
     "data": {
      "text/html": [
       "<div>\n",
       "<style scoped>\n",
       "    .dataframe tbody tr th:only-of-type {\n",
       "        vertical-align: middle;\n",
       "    }\n",
       "\n",
       "    .dataframe tbody tr th {\n",
       "        vertical-align: top;\n",
       "    }\n",
       "\n",
       "    .dataframe thead th {\n",
       "        text-align: right;\n",
       "    }\n",
       "</style>\n",
       "<table border=\"1\" class=\"dataframe\">\n",
       "  <thead>\n",
       "    <tr style=\"text-align: right;\">\n",
       "      <th>2</th>\n",
       "      <th>入場</th>\n",
       "      <th>品種</th>\n",
       "      <th>名号</th>\n",
       "      <th>期待育種価</th>\n",
       "      <th>耳標番号</th>\n",
       "      <th>資格</th>\n",
       "      <th>性別</th>\n",
       "      <th>生年月日</th>\n",
       "      <th>日令</th>\n",
       "      <th>父牛</th>\n",
       "      <th>...</th>\n",
       "      <th>母牛生年</th>\n",
       "      <th>産次</th>\n",
       "      <th>備考1</th>\n",
       "      <th>備考2</th>\n",
       "      <th>生産者住所</th>\n",
       "      <th>氏名</th>\n",
       "      <th>主要飼料名1</th>\n",
       "      <th>主要飼料名2</th>\n",
       "      <th>主要飼料名3</th>\n",
       "      <th>年月日</th>\n",
       "    </tr>\n",
       "  </thead>\n",
       "  <tbody>\n",
       "    <tr>\n",
       "      <th>3</th>\n",
       "      <td>1</td>\n",
       "      <td>黒毛</td>\n",
       "      <td>福忠</td>\n",
       "      <td>NaN</td>\n",
       "      <td>1565378405</td>\n",
       "      <td>登</td>\n",
       "      <td>去勢</td>\n",
       "      <td>43809</td>\n",
       "      <td>304</td>\n",
       "      <td>福之姫</td>\n",
       "      <td>...</td>\n",
       "      <td>41282</td>\n",
       "      <td>0</td>\n",
       "      <td>ＥＴ</td>\n",
       "      <td>NaN</td>\n",
       "      <td>下益城郡美里町</td>\n",
       "      <td>吉岡孝治</td>\n",
       "      <td>熊畜特号</td>\n",
       "      <td>熊畜ベストグロー</td>\n",
       "      <td></td>\n",
       "      <td>令和2年10月肉専子牛市場　上場牛一覧　（10月9日</td>\n",
       "    </tr>\n",
       "    <tr>\n",
       "      <th>4</th>\n",
       "      <td>2</td>\n",
       "      <td>黒毛</td>\n",
       "      <td>福男</td>\n",
       "      <td>NaN</td>\n",
       "      <td>1565378092</td>\n",
       "      <td>登</td>\n",
       "      <td>去勢</td>\n",
       "      <td>43816</td>\n",
       "      <td>297</td>\n",
       "      <td>福之姫</td>\n",
       "      <td>...</td>\n",
       "      <td>39821</td>\n",
       "      <td>9</td>\n",
       "      <td>NaN</td>\n",
       "      <td>NaN</td>\n",
       "      <td>下益城郡美里町</td>\n",
       "      <td>吉岡孝治</td>\n",
       "      <td>熊畜特号</td>\n",
       "      <td>熊畜ベストグロー</td>\n",
       "      <td></td>\n",
       "      <td>令和2年10月肉専子牛市場　上場牛一覧　（10月9日</td>\n",
       "    </tr>\n",
       "    <tr>\n",
       "      <th>5</th>\n",
       "      <td>3</td>\n",
       "      <td>黒毛</td>\n",
       "      <td>愛之福</td>\n",
       "      <td>NaN</td>\n",
       "      <td>1572879582</td>\n",
       "      <td>登</td>\n",
       "      <td>去勢</td>\n",
       "      <td>43829</td>\n",
       "      <td>284</td>\n",
       "      <td>愛之国</td>\n",
       "      <td>...</td>\n",
       "      <td>42743</td>\n",
       "      <td>1</td>\n",
       "      <td>NaN</td>\n",
       "      <td>NaN</td>\n",
       "      <td>熊本市南区城南町</td>\n",
       "      <td>里形　修</td>\n",
       "      <td>熊畜ベストグロー</td>\n",
       "      <td>トウモロコシ圧ペン</td>\n",
       "      <td>特ふすま</td>\n",
       "      <td>令和2年10月肉専子牛市場　上場牛一覧　（10月9日</td>\n",
       "    </tr>\n",
       "    <tr>\n",
       "      <th>6</th>\n",
       "      <td>4</td>\n",
       "      <td>黒毛</td>\n",
       "      <td>みつかな</td>\n",
       "      <td>CACBAA</td>\n",
       "      <td>1565378504</td>\n",
       "      <td>登</td>\n",
       "      <td>雌</td>\n",
       "      <td>43833</td>\n",
       "      <td>280</td>\n",
       "      <td>福増</td>\n",
       "      <td>...</td>\n",
       "      <td>41647</td>\n",
       "      <td>5</td>\n",
       "      <td>本資</td>\n",
       "      <td>NaN</td>\n",
       "      <td>下益城郡美里町</td>\n",
       "      <td>奥村真代</td>\n",
       "      <td>熊畜ベストグロー</td>\n",
       "      <td></td>\n",
       "      <td></td>\n",
       "      <td>令和2年10月肉専子牛市場　上場牛一覧　（10月9日</td>\n",
       "    </tr>\n",
       "    <tr>\n",
       "      <th>7</th>\n",
       "      <td>5</td>\n",
       "      <td>黒毛</td>\n",
       "      <td>福百合</td>\n",
       "      <td>NaN</td>\n",
       "      <td>1598404201</td>\n",
       "      <td>登</td>\n",
       "      <td>去勢</td>\n",
       "      <td>43823</td>\n",
       "      <td>290</td>\n",
       "      <td>福之姫</td>\n",
       "      <td>...</td>\n",
       "      <td>42012</td>\n",
       "      <td>3</td>\n",
       "      <td>NaN</td>\n",
       "      <td>NaN</td>\n",
       "      <td>上益城郡山都町</td>\n",
       "      <td>上村雄大</td>\n",
       "      <td>熊畜ベストグロー</td>\n",
       "      <td>熊畜特号</td>\n",
       "      <td>トウモロコシ圧ペン</td>\n",
       "      <td>令和2年10月肉専子牛市場　上場牛一覧　（10月9日</td>\n",
       "    </tr>\n",
       "    <tr>\n",
       "      <th>...</th>\n",
       "      <td>...</td>\n",
       "      <td>...</td>\n",
       "      <td>...</td>\n",
       "      <td>...</td>\n",
       "      <td>...</td>\n",
       "      <td>...</td>\n",
       "      <td>...</td>\n",
       "      <td>...</td>\n",
       "      <td>...</td>\n",
       "      <td>...</td>\n",
       "      <td>...</td>\n",
       "      <td>...</td>\n",
       "      <td>...</td>\n",
       "      <td>...</td>\n",
       "      <td>...</td>\n",
       "      <td>...</td>\n",
       "      <td>...</td>\n",
       "      <td>...</td>\n",
       "      <td>...</td>\n",
       "      <td>...</td>\n",
       "      <td>...</td>\n",
       "    </tr>\n",
       "    <tr>\n",
       "      <th>491</th>\n",
       "      <td>501</td>\n",
       "      <td>黒毛</td>\n",
       "      <td>百合明</td>\n",
       "      <td>AABCBA</td>\n",
       "      <td>1391679080</td>\n",
       "      <td>登</td>\n",
       "      <td>去勢</td>\n",
       "      <td>43842</td>\n",
       "      <td>271</td>\n",
       "      <td>若百合</td>\n",
       "      <td>...</td>\n",
       "      <td>40551</td>\n",
       "      <td>4</td>\n",
       "      <td>NaN</td>\n",
       "      <td>NaN</td>\n",
       "      <td>上益城郡山都町</td>\n",
       "      <td>江藤靖明</td>\n",
       "      <td>ニューグロアバルキー</td>\n",
       "      <td></td>\n",
       "      <td></td>\n",
       "      <td>令和2年10月肉専子牛市場　上場牛一覧　（10月9日</td>\n",
       "    </tr>\n",
       "    <tr>\n",
       "      <th>492</th>\n",
       "      <td>561</td>\n",
       "      <td>黒毛</td>\n",
       "      <td>ひめこ</td>\n",
       "      <td>NaN</td>\n",
       "      <td>1382550749</td>\n",
       "      <td>登</td>\n",
       "      <td>雌</td>\n",
       "      <td>43800</td>\n",
       "      <td>313</td>\n",
       "      <td>福之姫</td>\n",
       "      <td>...</td>\n",
       "      <td>42377</td>\n",
       "      <td>2</td>\n",
       "      <td>福岡県産</td>\n",
       "      <td>NaN</td>\n",
       "      <td>菊池市旭志</td>\n",
       "      <td>斉藤公祐</td>\n",
       "      <td>熊畜グローアップ</td>\n",
       "      <td></td>\n",
       "      <td></td>\n",
       "      <td>令和2年10月肉専子牛市場　上場牛一覧　（10月9日</td>\n",
       "    </tr>\n",
       "    <tr>\n",
       "      <th>493</th>\n",
       "      <td>562</td>\n",
       "      <td>黒毛</td>\n",
       "      <td>わかり</td>\n",
       "      <td>NaN</td>\n",
       "      <td>1361960521</td>\n",
       "      <td>登</td>\n",
       "      <td>雌</td>\n",
       "      <td>43819</td>\n",
       "      <td>294</td>\n",
       "      <td>若百合</td>\n",
       "      <td>...</td>\n",
       "      <td>43108</td>\n",
       "      <td>1</td>\n",
       "      <td>福岡県産</td>\n",
       "      <td>NaN</td>\n",
       "      <td>菊池市旭志</td>\n",
       "      <td>（合）清水畜産</td>\n",
       "      <td>新育成用ぐんぐんＡ</td>\n",
       "      <td>ビール粕</td>\n",
       "      <td></td>\n",
       "      <td>令和2年10月肉専子牛市場　上場牛一覧　（10月9日</td>\n",
       "    </tr>\n",
       "    <tr>\n",
       "      <th>494</th>\n",
       "      <td>563</td>\n",
       "      <td>黒毛</td>\n",
       "      <td>ちこ</td>\n",
       "      <td>NaN</td>\n",
       "      <td>1599479284</td>\n",
       "      <td>登</td>\n",
       "      <td>雌</td>\n",
       "      <td>43837</td>\n",
       "      <td>276</td>\n",
       "      <td>福之姫</td>\n",
       "      <td>...</td>\n",
       "      <td>42743</td>\n",
       "      <td>NaN</td>\n",
       "      <td>ＥＴ</td>\n",
       "      <td>NaN</td>\n",
       "      <td>菊池市旭志</td>\n",
       "      <td>（合）清水畜産</td>\n",
       "      <td>新育成用ぐんぐんＡ</td>\n",
       "      <td>ビール粕</td>\n",
       "      <td></td>\n",
       "      <td>令和2年10月肉専子牛市場　上場牛一覧　（10月9日</td>\n",
       "    </tr>\n",
       "    <tr>\n",
       "      <th>495</th>\n",
       "      <td>581</td>\n",
       "      <td>黒毛</td>\n",
       "      <td>あさり</td>\n",
       "      <td>NaN</td>\n",
       "      <td>1564622264</td>\n",
       "      <td>登</td>\n",
       "      <td>雌</td>\n",
       "      <td>43804</td>\n",
       "      <td>309</td>\n",
       "      <td>隆之国</td>\n",
       "      <td>...</td>\n",
       "      <td>42743</td>\n",
       "      <td>1</td>\n",
       "      <td>福岡県産</td>\n",
       "      <td>NaN</td>\n",
       "      <td>小郡市津古</td>\n",
       "      <td>川原英昭</td>\n",
       "      <td>黒毛育成</td>\n",
       "      <td>ニューディリーパワー</td>\n",
       "      <td></td>\n",
       "      <td>令和2年10月肉専子牛市場　上場牛一覧　（10月9日</td>\n",
       "    </tr>\n",
       "  </tbody>\n",
       "</table>\n",
       "<p>493 rows × 27 columns</p>\n",
       "</div>"
      ],
      "text/plain": [
       "2     入場  品種    名号   期待育種価        耳標番号 資格  性別   生年月日   日令   父牛  ...   母牛生年  \\\n",
       "3      1  黒毛    福忠     NaN  1565378405  登  去勢  43809  304  福之姫  ...  41282   \n",
       "4      2  黒毛    福男     NaN  1565378092  登  去勢  43816  297  福之姫  ...  39821   \n",
       "5      3  黒毛   愛之福     NaN  1572879582  登  去勢  43829  284  愛之国  ...  42743   \n",
       "6      4  黒毛  みつかな  CACBAA  1565378504  登   雌  43833  280   福増  ...  41647   \n",
       "7      5  黒毛   福百合     NaN  1598404201  登  去勢  43823  290  福之姫  ...  42012   \n",
       "..   ...  ..   ...     ...         ... ..  ..    ...  ...  ...  ...    ...   \n",
       "491  501  黒毛   百合明  AABCBA  1391679080  登  去勢  43842  271  若百合  ...  40551   \n",
       "492  561  黒毛   ひめこ     NaN  1382550749  登   雌  43800  313  福之姫  ...  42377   \n",
       "493  562  黒毛   わかり     NaN  1361960521  登   雌  43819  294  若百合  ...  43108   \n",
       "494  563  黒毛    ちこ     NaN  1599479284  登   雌  43837  276  福之姫  ...  42743   \n",
       "495  581  黒毛   あさり     NaN  1564622264  登   雌  43804  309  隆之国  ...  42743   \n",
       "\n",
       "2     産次   備考1  備考2     生産者住所       氏名      主要飼料名1      主要飼料名2     主要飼料名3  \\\n",
       "3      0    ＥＴ  NaN   下益城郡美里町     吉岡孝治        熊畜特号    熊畜ベストグロー              \n",
       "4      9   NaN  NaN   下益城郡美里町     吉岡孝治        熊畜特号    熊畜ベストグロー              \n",
       "5      1   NaN  NaN  熊本市南区城南町     里形　修    熊畜ベストグロー   トウモロコシ圧ペン       特ふすま   \n",
       "6      5    本資  NaN   下益城郡美里町     奥村真代    熊畜ベストグロー                          \n",
       "7      3   NaN  NaN   上益城郡山都町     上村雄大    熊畜ベストグロー        熊畜特号  トウモロコシ圧ペン   \n",
       "..   ...   ...  ...       ...      ...         ...         ...        ...   \n",
       "491    4   NaN  NaN   上益城郡山都町     江藤靖明  ニューグロアバルキー                          \n",
       "492    2  福岡県産  NaN     菊池市旭志     斉藤公祐    熊畜グローアップ                          \n",
       "493    1  福岡県産  NaN     菊池市旭志  （合）清水畜産   新育成用ぐんぐんＡ        ビール粕              \n",
       "494  NaN    ＥＴ  NaN     菊池市旭志  （合）清水畜産   新育成用ぐんぐんＡ        ビール粕              \n",
       "495    1  福岡県産  NaN     小郡市津古     川原英昭        黒毛育成  ニューディリーパワー              \n",
       "\n",
       "2                           年月日  \n",
       "3    令和2年10月肉専子牛市場　上場牛一覧　（10月9日  \n",
       "4    令和2年10月肉専子牛市場　上場牛一覧　（10月9日  \n",
       "5    令和2年10月肉専子牛市場　上場牛一覧　（10月9日  \n",
       "6    令和2年10月肉専子牛市場　上場牛一覧　（10月9日  \n",
       "7    令和2年10月肉専子牛市場　上場牛一覧　（10月9日  \n",
       "..                          ...  \n",
       "491  令和2年10月肉専子牛市場　上場牛一覧　（10月9日  \n",
       "492  令和2年10月肉専子牛市場　上場牛一覧　（10月9日  \n",
       "493  令和2年10月肉専子牛市場　上場牛一覧　（10月9日  \n",
       "494  令和2年10月肉専子牛市場　上場牛一覧　（10月9日  \n",
       "495  令和2年10月肉専子牛市場　上場牛一覧　（10月9日  \n",
       "\n",
       "[493 rows x 27 columns]"
      ]
     },
     "execution_count": 202,
     "metadata": {},
     "output_type": "execute_result"
    }
   ],
   "source": [
    "df"
   ]
  },
  {
   "cell_type": "code",
   "execution_count": null,
   "id": "fb8c5602-9253-471e-849f-7c93f5a6e2c3",
   "metadata": {},
   "outputs": [],
   "source": []
  },
  {
   "cell_type": "code",
   "execution_count": null,
   "id": "5aa60fe5-3f7b-4d93-bc59-7b83c76b46e6",
   "metadata": {},
   "outputs": [],
   "source": []
  },
  {
   "cell_type": "code",
   "execution_count": null,
   "id": "1718a116-796a-4d00-8d81-1c42e0f714e7",
   "metadata": {},
   "outputs": [],
   "source": []
  },
  {
   "cell_type": "code",
   "execution_count": null,
   "id": "33674645-56e5-4781-b5ca-a2578910f677",
   "metadata": {},
   "outputs": [],
   "source": []
  },
  {
   "cell_type": "code",
   "execution_count": null,
   "id": "d8da00ec-6c5c-4ecf-9cba-1cd58e31b883",
   "metadata": {},
   "outputs": [],
   "source": []
  },
  {
   "cell_type": "code",
   "execution_count": null,
   "id": "f2c95540-7b29-4de5-9891-4cfd97b019e2",
   "metadata": {},
   "outputs": [],
   "source": []
  },
  {
   "cell_type": "code",
   "execution_count": null,
   "id": "5f10d832-01d8-4c63-95e4-4201039077d8",
   "metadata": {},
   "outputs": [],
   "source": []
  },
  {
   "cell_type": "code",
   "execution_count": null,
   "id": "c1c9d28d-ef47-4bb4-a27b-d17380784528",
   "metadata": {},
   "outputs": [],
   "source": []
  },
  {
   "cell_type": "code",
   "execution_count": null,
   "id": "6b2ca2f8-9896-4417-9d63-3d10c805d424",
   "metadata": {},
   "outputs": [],
   "source": [
    "        dating = _df.columns[1]\n",
    "        d = dating.find(\"\\u3000\")\n",
    "        dd = _df.columns[1][:d]\n",
    "        df = df.assign(年月日=dd)"
   ]
  },
  {
   "cell_type": "markdown",
   "id": "f8a271f4-829f-45e2-9161-9e254a333ed8",
   "metadata": {},
   "source": [
    "## 入場牛詳細情報(主要飼料)"
   ]
  },
  {
   "cell_type": "code",
   "execution_count": null,
   "id": "2bbdeb7a-1642-47b7-ab3c-5c4c86fb40bc",
   "metadata": {},
   "outputs": [],
   "source": [
    "driver = webdriver.Chrome()\n",
    "driver.get('https://www.kenchikukyo.jp/schedule/')\n",
    "\n",
    "class Sucraping_detail:\n",
    "\n",
    "    def get_years(self):\n",
    "        l = []\n",
    "        next_link = driver.find_elements_by_class_name(\"schedule-archive__item\")\n",
    "        for i in next_link:\n",
    "            atag = i.find_element_by_tag_name(\"a\")\n",
    "            l.append(atag.get_attribute(\"href\"))\n",
    "        return l\n",
    "\n",
    "    def listing_scraping(self,url):\n",
    "        driver.get(url)\n",
    "        cow_list = []\n",
    "        for elem_span in driver.find_elements_by_xpath(\"//a/span\"):\n",
    "            sleep(1)\n",
    "            elem_a = elem_span.find_element_by_xpath(\"..\")\n",
    "            if elem_span.text == \"和牛子牛黒毛和種\":\n",
    "                cow_list.append(elem_a.get_attribute(\"href\"))\n",
    "        url_list = []\n",
    "        for cow_link in cow_list:\n",
    "            sleep(1)\n",
    "            driver.get(cow_link)\n",
    "            element_class = driver.find_elements_by_class_name(\"single-schedule__data\")\n",
    "            for i in element_class:\n",
    "                atag = i.find_element_by_tag_name(\"a\")\n",
    "                url_list.append(atag.get_attribute(\"href\"))\n",
    "        return url_list\n",
    "\n",
    "    def make_nkb_list(self,year_urls):\n",
    "        url_list = []\n",
    "        for i in year_urls:\n",
    "            url = self.listing_scraping(i)\n",
    "            url_list.append(url)\n",
    "\n",
    "        nkb_url = []\n",
    "\n",
    "        for url_lists in url_list:\n",
    "            for i in url_lists:\n",
    "                if 0 < i.find(\"NKB.xlsx\"):\n",
    "                    if 0>i.find(\"KDNKB.xlsx\"):\n",
    "                        nkb_url.append(i)\n",
    "\n",
    "        bull_list = ['https://www.kenchikukyo.jp/wp-content/uploads/2020/09/R020910NKB.xlsx','https://www.kenchikukyo.jp/wp-content/uploads/2020/09/R020911NKB.xlsx','https://www.kenchikukyo.jp/wp-content/uploads/2020/08/R020807NKB.xlsx','https://www.kenchikukyo.jp/wp-content/uploads/2020/08/R020806NKB.xlsx','https://www.kenchikukyo.jp/wp-content/uploads/2020/07/R020710NKB.xlsx','https://www.kenchikukyo.jp/wp-content/uploads/2020/07/R020709NKB.xlsx','https://www.kenchikukyo.jp/wp-content/uploads/2020/06/R020612NKB.xlsx','https://www.kenchikukyo.jp/wp-content/uploads/2020/06/R020611NKB.xlsx','https://www.kenchikukyo.jp/wp-content/uploads/2020/05/R020515NKB.xlsx','https://www.kenchikukyo.jp/wp-content/uploads/2020/05/R020514NKB.xlsx',]\n",
    "\n",
    "        for i in bull_list:\n",
    "            index = nkb_url.index(i)\n",
    "            nkb_url.pop(index)\n",
    "        return nkb_url\n",
    "\n",
    "    def extrac(self,file_path):\n",
    "        _df=pd.read_excel(file_path)\n",
    "        df = _df.iloc[3:,1:27]\n",
    "        df.columns = _df.iloc[2,1:27]\n",
    "        d = _df.iloc[0][1]\n",
    "        aa = d.find(\"月\")\n",
    "        bb = d.find(\"月\",aa+1)\n",
    "        dd = d[:aa] + d[bb:-5]\n",
    "        df = df.assign(年月日=dd)\n",
    "        return df\n",
    "\n",
    "    def japanese_calendar_converter(text):\n",
    "        # 各年号の元年を定義\n",
    "        eraDict = {\n",
    "            \"明治\": 1868,\n",
    "            \"大正\": 1912,\n",
    "            \"昭和\": 1926,\n",
    "            \"平成\": 1989,\n",
    "            \"令和\": 2019,\n",
    "        }\n",
    "\n",
    "        # 正規化\n",
    "        normalized_text = unicodedata.normalize(\"NFKC\", text)\n",
    "\n",
    "        # 年月日を抽出\n",
    "        pattern = r\"(?P<era>{eraList})(?P<year>[0-9]{{1,2}}|元)年(?P<month>[0-9]{{1,2}})月(?P<day>[0-9]{{1,2}})日\".format(eraList=\"|\".join(eraDict.keys()))\n",
    "        date = re.search(pattern, normalized_text)\n",
    "\n",
    "        # 抽出できなかったら終わり\n",
    "        if date is None:\n",
    "            print(\"Cannot convert to western year\")\n",
    "\n",
    "        # 年を変換\n",
    "        for era, startYear in eraDict.items():\n",
    "            if date.group(\"era\") == era:\n",
    "                if date.group(\"year\") == \"元\":\n",
    "                    year = eraDict[era]\n",
    "                else:\n",
    "                    year = eraDict[era] + int(date.group(\"year\")) - 1\n",
    "\n",
    "        # date型に変換して返す\n",
    "        return datetime.date(year, int(date.group(\"month\")), int(date.group(\"day\")))\n",
    "    \n",
    "    def get_detail_data(self):\n",
    "        year_urls = self.get_years()\n",
    "        nkb_list = self.make_nkb_list(year_urls)\n",
    "        df=pd.DataFrame()\n",
    "        for file_path in nkb_list:\n",
    "            _df=self.extrac(file_path)\n",
    "            df=pd.concat([df,_df])\n",
    "        df=df.reset_index(drop=True)\n",
    "        d = len(df[\"年月日\"])\n",
    "        for i in range(d):\n",
    "            df[\"年月日\"][i] = japanese_calendar_converter(df[\"年月日\"][i])\n",
    "        df[\"年月日\"] = pd.to_datetime(df[\"年月日\"]) \n",
    "        driver.close()\n",
    "        return df"
   ]
  },
  {
   "cell_type": "code",
   "execution_count": null,
   "id": "1f33787c-b8be-41f1-a8b2-170ad03bf1d4",
   "metadata": {},
   "outputs": [],
   "source": [
    "detail = Sucraping_detail()"
   ]
  },
  {
   "cell_type": "code",
   "execution_count": null,
   "id": "9605f11c-d552-42db-a594-2e6b89d76394",
   "metadata": {},
   "outputs": [],
   "source": [
    "_df = detail.get_detail_data()"
   ]
  },
  {
   "cell_type": "code",
   "execution_count": 231,
   "id": "2f8c2464-ad16-4431-804b-c847f8afa1d4",
   "metadata": {},
   "outputs": [
    {
     "data": {
      "text/plain": [
       "'令和3年10月7日'"
      ]
     },
     "execution_count": 231,
     "metadata": {},
     "output_type": "execute_result"
    }
   ],
   "source": [
    "df[\"年月日\"][15500]"
   ]
  },
  {
   "cell_type": "code",
   "execution_count": 237,
   "id": "8a26d76a-7521-4d41-a71e-fc7afb28961f",
   "metadata": {},
   "outputs": [
    {
     "data": {
      "text/plain": [
       "'令和4年10月6日'"
      ]
     },
     "execution_count": 237,
     "metadata": {},
     "output_type": "execute_result"
    }
   ],
   "source": [
    "df[\"年月日\"][6305]"
   ]
  },
  {
   "cell_type": "code",
   "execution_count": null,
   "id": "204764f2-2c46-47ad-80a8-7f04d1f123ec",
   "metadata": {},
   "outputs": [],
   "source": []
  },
  {
   "cell_type": "code",
   "execution_count": null,
   "id": "5d45c931-12ab-4db4-84c2-c8dba3debe95",
   "metadata": {},
   "outputs": [],
   "source": []
  },
  {
   "cell_type": "code",
   "execution_count": null,
   "id": "86e6aee3-085d-46e7-8648-06e8f33d99e7",
   "metadata": {},
   "outputs": [],
   "source": []
  },
  {
   "cell_type": "code",
   "execution_count": null,
   "id": "019c88d9-04fc-4363-a388-c852bc9f94f8",
   "metadata": {},
   "outputs": [],
   "source": []
  },
  {
   "cell_type": "code",
   "execution_count": null,
   "id": "770b4466-7e82-44c1-adba-9729c4337601",
   "metadata": {},
   "outputs": [],
   "source": []
  },
  {
   "cell_type": "code",
   "execution_count": null,
   "id": "73fc24ed-eadc-4654-811c-2fe259938d1e",
   "metadata": {},
   "outputs": [],
   "source": [
    "driver.close()"
   ]
  },
  {
   "cell_type": "code",
   "execution_count": null,
   "id": "11c5cf27-cf1c-43e5-81e8-a1486fb05bf9",
   "metadata": {},
   "outputs": [],
   "source": []
  },
  {
   "cell_type": "code",
   "execution_count": null,
   "id": "ed686a8c-e0de-4632-8d89-4c3cc62a4449",
   "metadata": {},
   "outputs": [],
   "source": []
  },
  {
   "cell_type": "code",
   "execution_count": null,
   "id": "dca8136d-1017-4fcf-b6b3-b892b4093925",
   "metadata": {},
   "outputs": [],
   "source": []
  },
  {
   "cell_type": "code",
   "execution_count": null,
   "id": "4d8c2722-44cb-4277-8270-7936a066edd6",
   "metadata": {},
   "outputs": [],
   "source": []
  },
  {
   "cell_type": "code",
   "execution_count": null,
   "id": "857202b6-58af-44c0-afeb-7966a7f790a8",
   "metadata": {},
   "outputs": [],
   "source": []
  },
  {
   "cell_type": "code",
   "execution_count": null,
   "id": "ce4b34b3-e7b6-45a6-b66c-e5e7a36d6514",
   "metadata": {},
   "outputs": [],
   "source": []
  }
 ],
 "metadata": {
  "kernelspec": {
   "display_name": "Python 3 (ipykernel)",
   "language": "python",
   "name": "python3"
  },
  "language_info": {
   "codemirror_mode": {
    "name": "ipython",
    "version": 3
   },
   "file_extension": ".py",
   "mimetype": "text/x-python",
   "name": "python",
   "nbconvert_exporter": "python",
   "pygments_lexer": "ipython3",
   "version": "3.9.7"
  }
 },
 "nbformat": 4,
 "nbformat_minor": 5
}
